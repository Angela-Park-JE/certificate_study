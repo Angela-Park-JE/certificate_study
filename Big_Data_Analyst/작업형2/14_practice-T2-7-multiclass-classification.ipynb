{
 "cells": [
  {
   "cell_type": "markdown",
   "id": "e7936380",
   "metadata": {
    "papermill": {
     "duration": 0.013933,
     "end_time": "2023-06-18T20:16:07.126558",
     "exception": false,
     "start_time": "2023-06-18T20:16:07.112625",
     "status": "completed"
    },
    "tags": []
   },
   "source": [
    "## 2023 0617 mission 30 (T2-7 대체)\n",
    "### 개인의 신용 관련 정보데이터 : 신용등급(Credit_Score) 를 예측하시오\n",
    "- 평가기준 macro-f1\n",
    "- 제출 방식 : test데이터로 예측한 class 1개 컬럼만 csv로 제출 (컬럼명 pred, 파일명 result.csv)\n",
    "\n",
    "제출 csv 파일형태\n",
    "```\n",
    "pred\n",
    "1\n",
    "3\n",
    "2\n",
    "1\n",
    "2\n",
    "1\n",
    "```"
   ]
  },
  {
   "cell_type": "code",
   "execution_count": 1,
   "id": "214a2c04",
   "metadata": {
    "execution": {
     "iopub.execute_input": "2023-06-18T20:16:07.155614Z",
     "iopub.status.busy": "2023-06-18T20:16:07.155174Z",
     "iopub.status.idle": "2023-06-18T20:16:07.272696Z",
     "shell.execute_reply": "2023-06-18T20:16:07.271344Z"
    },
    "papermill": {
     "duration": 0.134521,
     "end_time": "2023-06-18T20:16:07.274782",
     "exception": false,
     "start_time": "2023-06-18T20:16:07.140261",
     "status": "completed"
    },
    "tags": []
   },
   "outputs": [
    {
     "name": "stdout",
     "output_type": "stream",
     "text": [
      "(10000, 21) (10000, 20)\n"
     ]
    }
   ],
   "source": [
    "# Data Load\n",
    "import pandas as pd\n",
    "import numpy as np\n",
    "train = pd.read_csv('/kaggle/input/t2-7-dataset/T2-7 데이터/train10000.csv')\n",
    "test = pd.read_csv('/kaggle/input/t2-7-dataset/T2-7 데이터/test10000.csv')\n",
    "\n",
    "print(train.shape, test.shape)"
   ]
  },
  {
   "cell_type": "markdown",
   "id": "08391c0f",
   "metadata": {
    "papermill": {
     "duration": 0.012754,
     "end_time": "2023-06-18T20:16:07.301842",
     "exception": false,
     "start_time": "2023-06-18T20:16:07.289088",
     "status": "completed"
    },
    "tags": []
   },
   "source": [
    "## 데이터 유형 및 null 확인\n"
   ]
  },
  {
   "cell_type": "code",
   "execution_count": 2,
   "id": "cdb2531f",
   "metadata": {
    "execution": {
     "iopub.execute_input": "2023-06-18T20:16:07.330032Z",
     "iopub.status.busy": "2023-06-18T20:16:07.329652Z",
     "iopub.status.idle": "2023-06-18T20:16:07.366266Z",
     "shell.execute_reply": "2023-06-18T20:16:07.364763Z"
    },
    "papermill": {
     "duration": 0.053665,
     "end_time": "2023-06-18T20:16:07.368234",
     "exception": false,
     "start_time": "2023-06-18T20:16:07.314569",
     "status": "completed"
    },
    "tags": []
   },
   "outputs": [
    {
     "name": "stdout",
     "output_type": "stream",
     "text": [
      "<class 'pandas.core.frame.DataFrame'>\n",
      "RangeIndex: 10000 entries, 0 to 9999\n",
      "Data columns (total 21 columns):\n",
      " #   Column                    Non-Null Count  Dtype  \n",
      "---  ------                    --------------  -----  \n",
      " 0   Delay_from_due_date       10000 non-null  float64\n",
      " 1   Num_of_Delayed_Payment    10000 non-null  float64\n",
      " 2   Num_Credit_Inquiries      10000 non-null  float64\n",
      " 3   Credit_Utilization_Ratio  10000 non-null  float64\n",
      " 4   Credit_History_Age        10000 non-null  float64\n",
      " 5   Payment_of_Min_Amount     10000 non-null  object \n",
      " 6   Amount_invested_monthly   10000 non-null  float64\n",
      " 7   Monthly_Balance           10000 non-null  float64\n",
      " 8   Credit_Score              10000 non-null  int64  \n",
      " 9   Credit_Mix                10000 non-null  object \n",
      " 10  Payment_Behaviour         10000 non-null  object \n",
      " 11  Age                       10000 non-null  float64\n",
      " 12  Annual_Income             10000 non-null  float64\n",
      " 13  Num_Bank_Accounts         10000 non-null  float64\n",
      " 14  Num_Credit_Card           10000 non-null  float64\n",
      " 15  Interest_Rate             10000 non-null  float64\n",
      " 16  Num_of_Loan               10000 non-null  float64\n",
      " 17  Monthly_Inhand_Salary     10000 non-null  float64\n",
      " 18  Changed_Credit_Limit      10000 non-null  float64\n",
      " 19  Outstanding_Debt          10000 non-null  float64\n",
      " 20  Total_EMI_per_month       10000 non-null  float64\n",
      "dtypes: float64(17), int64(1), object(3)\n",
      "memory usage: 1.6+ MB\n"
     ]
    }
   ],
   "source": [
    "# data info : train, test 모두 결측이 없는 것으로 나옴\n",
    "train.info()"
   ]
  },
  {
   "cell_type": "code",
   "execution_count": 3,
   "id": "bb5d19b9",
   "metadata": {
    "execution": {
     "iopub.execute_input": "2023-06-18T20:16:07.396528Z",
     "iopub.status.busy": "2023-06-18T20:16:07.396179Z",
     "iopub.status.idle": "2023-06-18T20:16:07.413067Z",
     "shell.execute_reply": "2023-06-18T20:16:07.412110Z"
    },
    "papermill": {
     "duration": 0.033864,
     "end_time": "2023-06-18T20:16:07.415339",
     "exception": false,
     "start_time": "2023-06-18T20:16:07.381475",
     "status": "completed"
    },
    "tags": []
   },
   "outputs": [
    {
     "name": "stdout",
     "output_type": "stream",
     "text": [
      "<class 'pandas.core.frame.DataFrame'>\n",
      "RangeIndex: 10000 entries, 0 to 9999\n",
      "Data columns (total 20 columns):\n",
      " #   Column                    Non-Null Count  Dtype  \n",
      "---  ------                    --------------  -----  \n",
      " 0   Delay_from_due_date       10000 non-null  float64\n",
      " 1   Num_of_Delayed_Payment    10000 non-null  float64\n",
      " 2   Num_Credit_Inquiries      10000 non-null  float64\n",
      " 3   Credit_Utilization_Ratio  10000 non-null  float64\n",
      " 4   Credit_History_Age        10000 non-null  float64\n",
      " 5   Payment_of_Min_Amount     10000 non-null  object \n",
      " 6   Amount_invested_monthly   10000 non-null  float64\n",
      " 7   Monthly_Balance           10000 non-null  float64\n",
      " 8   Credit_Mix                10000 non-null  object \n",
      " 9   Payment_Behaviour         10000 non-null  object \n",
      " 10  Age                       10000 non-null  float64\n",
      " 11  Annual_Income             10000 non-null  float64\n",
      " 12  Num_Bank_Accounts         10000 non-null  float64\n",
      " 13  Num_Credit_Card           10000 non-null  float64\n",
      " 14  Interest_Rate             10000 non-null  float64\n",
      " 15  Num_of_Loan               10000 non-null  float64\n",
      " 16  Monthly_Inhand_Salary     10000 non-null  float64\n",
      " 17  Changed_Credit_Limit      10000 non-null  float64\n",
      " 18  Outstanding_Debt          10000 non-null  float64\n",
      " 19  Total_EMI_per_month       10000 non-null  float64\n",
      "dtypes: float64(17), object(3)\n",
      "memory usage: 1.5+ MB\n"
     ]
    }
   ],
   "source": [
    "test.info()"
   ]
  },
  {
   "cell_type": "code",
   "execution_count": 4,
   "id": "9fafb832",
   "metadata": {
    "execution": {
     "iopub.execute_input": "2023-06-18T20:16:07.444334Z",
     "iopub.status.busy": "2023-06-18T20:16:07.444016Z",
     "iopub.status.idle": "2023-06-18T20:16:07.471770Z",
     "shell.execute_reply": "2023-06-18T20:16:07.470558Z"
    },
    "papermill": {
     "duration": 0.045322,
     "end_time": "2023-06-18T20:16:07.474331",
     "exception": false,
     "start_time": "2023-06-18T20:16:07.429009",
     "status": "completed"
    },
    "tags": []
   },
   "outputs": [
    {
     "data": {
      "text/html": [
       "<div>\n",
       "<style scoped>\n",
       "    .dataframe tbody tr th:only-of-type {\n",
       "        vertical-align: middle;\n",
       "    }\n",
       "\n",
       "    .dataframe tbody tr th {\n",
       "        vertical-align: top;\n",
       "    }\n",
       "\n",
       "    .dataframe thead th {\n",
       "        text-align: right;\n",
       "    }\n",
       "</style>\n",
       "<table border=\"1\" class=\"dataframe\">\n",
       "  <thead>\n",
       "    <tr style=\"text-align: right;\">\n",
       "      <th></th>\n",
       "      <th>Payment_of_Min_Amount</th>\n",
       "      <th>Credit_Mix</th>\n",
       "      <th>Payment_Behaviour</th>\n",
       "    </tr>\n",
       "  </thead>\n",
       "  <tbody>\n",
       "    <tr>\n",
       "      <th>0</th>\n",
       "      <td>Yes</td>\n",
       "      <td>Bad</td>\n",
       "      <td>High_spent_Medium_value_payments</td>\n",
       "    </tr>\n",
       "    <tr>\n",
       "      <th>1</th>\n",
       "      <td>Yes</td>\n",
       "      <td>Bad</td>\n",
       "      <td>High_spent_Small_value_payments</td>\n",
       "    </tr>\n",
       "    <tr>\n",
       "      <th>2</th>\n",
       "      <td>Yes</td>\n",
       "      <td>Bad</td>\n",
       "      <td>Low_spent_Large_value_payments</td>\n",
       "    </tr>\n",
       "    <tr>\n",
       "      <th>3</th>\n",
       "      <td>NM</td>\n",
       "      <td>Standard</td>\n",
       "      <td>High_spent_Small_value_payments</td>\n",
       "    </tr>\n",
       "    <tr>\n",
       "      <th>4</th>\n",
       "      <td>Yes</td>\n",
       "      <td>Bad</td>\n",
       "      <td>High_spent_Medium_value_payments</td>\n",
       "    </tr>\n",
       "    <tr>\n",
       "      <th>...</th>\n",
       "      <td>...</td>\n",
       "      <td>...</td>\n",
       "      <td>...</td>\n",
       "    </tr>\n",
       "    <tr>\n",
       "      <th>9995</th>\n",
       "      <td>No</td>\n",
       "      <td>Standard</td>\n",
       "      <td>High_spent_Medium_value_payments</td>\n",
       "    </tr>\n",
       "    <tr>\n",
       "      <th>9996</th>\n",
       "      <td>Yes</td>\n",
       "      <td>Standard</td>\n",
       "      <td>Low_spent_Small_value_payments</td>\n",
       "    </tr>\n",
       "    <tr>\n",
       "      <th>9997</th>\n",
       "      <td>Yes</td>\n",
       "      <td>Standard</td>\n",
       "      <td>High_spent_Medium_value_payments</td>\n",
       "    </tr>\n",
       "    <tr>\n",
       "      <th>9998</th>\n",
       "      <td>Yes</td>\n",
       "      <td>Standard</td>\n",
       "      <td>High_spent_Medium_value_payments</td>\n",
       "    </tr>\n",
       "    <tr>\n",
       "      <th>9999</th>\n",
       "      <td>NM</td>\n",
       "      <td>Good</td>\n",
       "      <td>High_spent_Large_value_payments</td>\n",
       "    </tr>\n",
       "  </tbody>\n",
       "</table>\n",
       "<p>10000 rows × 3 columns</p>\n",
       "</div>"
      ],
      "text/plain": [
       "     Payment_of_Min_Amount Credit_Mix                 Payment_Behaviour\n",
       "0                      Yes        Bad  High_spent_Medium_value_payments\n",
       "1                      Yes        Bad   High_spent_Small_value_payments\n",
       "2                      Yes        Bad    Low_spent_Large_value_payments\n",
       "3                       NM   Standard   High_spent_Small_value_payments\n",
       "4                      Yes        Bad  High_spent_Medium_value_payments\n",
       "...                    ...        ...                               ...\n",
       "9995                    No   Standard  High_spent_Medium_value_payments\n",
       "9996                   Yes   Standard    Low_spent_Small_value_payments\n",
       "9997                   Yes   Standard  High_spent_Medium_value_payments\n",
       "9998                   Yes   Standard  High_spent_Medium_value_payments\n",
       "9999                    NM       Good   High_spent_Large_value_payments\n",
       "\n",
       "[10000 rows x 3 columns]"
      ]
     },
     "execution_count": 4,
     "metadata": {},
     "output_type": "execute_result"
    }
   ],
   "source": [
    "# object 타입은 세가지 : Payment_of_Min_Amount\tCredit_Mix\tPayment_Behaviour\n",
    "train.select_dtypes('O')"
   ]
  },
  {
   "cell_type": "code",
   "execution_count": 5,
   "id": "1a71974b",
   "metadata": {
    "execution": {
     "iopub.execute_input": "2023-06-18T20:16:07.504560Z",
     "iopub.status.busy": "2023-06-18T20:16:07.504225Z",
     "iopub.status.idle": "2023-06-18T20:16:07.532682Z",
     "shell.execute_reply": "2023-06-18T20:16:07.531712Z"
    },
    "papermill": {
     "duration": 0.045542,
     "end_time": "2023-06-18T20:16:07.534421",
     "exception": false,
     "start_time": "2023-06-18T20:16:07.488879",
     "status": "completed"
    },
    "tags": []
   },
   "outputs": [
    {
     "data": {
      "text/html": [
       "<div>\n",
       "<style scoped>\n",
       "    .dataframe tbody tr th:only-of-type {\n",
       "        vertical-align: middle;\n",
       "    }\n",
       "\n",
       "    .dataframe tbody tr th {\n",
       "        vertical-align: top;\n",
       "    }\n",
       "\n",
       "    .dataframe thead th {\n",
       "        text-align: right;\n",
       "    }\n",
       "</style>\n",
       "<table border=\"1\" class=\"dataframe\">\n",
       "  <thead>\n",
       "    <tr style=\"text-align: right;\">\n",
       "      <th></th>\n",
       "      <th>Delay_from_due_date</th>\n",
       "      <th>Num_of_Delayed_Payment</th>\n",
       "      <th>Num_Credit_Inquiries</th>\n",
       "      <th>Credit_Utilization_Ratio</th>\n",
       "      <th>Credit_History_Age</th>\n",
       "      <th>Amount_invested_monthly</th>\n",
       "      <th>Monthly_Balance</th>\n",
       "      <th>Credit_Score</th>\n",
       "      <th>Age</th>\n",
       "      <th>Annual_Income</th>\n",
       "      <th>Num_Bank_Accounts</th>\n",
       "      <th>Num_Credit_Card</th>\n",
       "      <th>Interest_Rate</th>\n",
       "      <th>Num_of_Loan</th>\n",
       "      <th>Monthly_Inhand_Salary</th>\n",
       "      <th>Changed_Credit_Limit</th>\n",
       "      <th>Outstanding_Debt</th>\n",
       "      <th>Total_EMI_per_month</th>\n",
       "    </tr>\n",
       "  </thead>\n",
       "  <tbody>\n",
       "    <tr>\n",
       "      <th>0</th>\n",
       "      <td>56.0</td>\n",
       "      <td>16.0</td>\n",
       "      <td>11.0</td>\n",
       "      <td>35.598217</td>\n",
       "      <td>120.0</td>\n",
       "      <td>229.093478</td>\n",
       "      <td>252.385965</td>\n",
       "      <td>1</td>\n",
       "      <td>15.0</td>\n",
       "      <td>36597.56</td>\n",
       "      <td>8.0</td>\n",
       "      <td>10.0</td>\n",
       "      <td>29.0</td>\n",
       "      <td>5.0</td>\n",
       "      <td>3143.796667</td>\n",
       "      <td>22.49</td>\n",
       "      <td>2963.18</td>\n",
       "      <td>122.900223</td>\n",
       "    </tr>\n",
       "    <tr>\n",
       "      <th>1</th>\n",
       "      <td>49.0</td>\n",
       "      <td>23.0</td>\n",
       "      <td>12.0</td>\n",
       "      <td>25.553106</td>\n",
       "      <td>120.0</td>\n",
       "      <td>104.613906</td>\n",
       "      <td>219.105944</td>\n",
       "      <td>1</td>\n",
       "      <td>28.0</td>\n",
       "      <td>32057.30</td>\n",
       "      <td>9.0</td>\n",
       "      <td>8.0</td>\n",
       "      <td>16.0</td>\n",
       "      <td>7.0</td>\n",
       "      <td>2606.441667</td>\n",
       "      <td>1.40</td>\n",
       "      <td>1327.26</td>\n",
       "      <td>164.859426</td>\n",
       "    </tr>\n",
       "    <tr>\n",
       "      <th>2</th>\n",
       "      <td>34.0</td>\n",
       "      <td>20.0</td>\n",
       "      <td>6.0</td>\n",
       "      <td>40.039954</td>\n",
       "      <td>174.0</td>\n",
       "      <td>338.626965</td>\n",
       "      <td>251.265589</td>\n",
       "      <td>1</td>\n",
       "      <td>46.0</td>\n",
       "      <td>75868.80</td>\n",
       "      <td>6.0</td>\n",
       "      <td>10.0</td>\n",
       "      <td>32.0</td>\n",
       "      <td>7.0</td>\n",
       "      <td>6074.400000</td>\n",
       "      <td>3.60</td>\n",
       "      <td>1432.71</td>\n",
       "      <td>297.547446</td>\n",
       "    </tr>\n",
       "    <tr>\n",
       "      <th>3</th>\n",
       "      <td>21.0</td>\n",
       "      <td>13.0</td>\n",
       "      <td>8.0</td>\n",
       "      <td>25.711678</td>\n",
       "      <td>143.0</td>\n",
       "      <td>116.816864</td>\n",
       "      <td>259.927960</td>\n",
       "      <td>2</td>\n",
       "      <td>46.0</td>\n",
       "      <td>17092.69</td>\n",
       "      <td>7.0</td>\n",
       "      <td>3.0</td>\n",
       "      <td>19.0</td>\n",
       "      <td>7.0</td>\n",
       "      <td>1695.390833</td>\n",
       "      <td>16.40</td>\n",
       "      <td>1417.06</td>\n",
       "      <td>62.794260</td>\n",
       "    </tr>\n",
       "    <tr>\n",
       "      <th>4</th>\n",
       "      <td>19.0</td>\n",
       "      <td>13.0</td>\n",
       "      <td>6.0</td>\n",
       "      <td>39.140463</td>\n",
       "      <td>138.0</td>\n",
       "      <td>87.262887</td>\n",
       "      <td>626.212330</td>\n",
       "      <td>1</td>\n",
       "      <td>45.0</td>\n",
       "      <td>81471.96</td>\n",
       "      <td>6.0</td>\n",
       "      <td>6.0</td>\n",
       "      <td>25.0</td>\n",
       "      <td>5.0</td>\n",
       "      <td>6763.330000</td>\n",
       "      <td>27.09</td>\n",
       "      <td>2679.69</td>\n",
       "      <td>202.857783</td>\n",
       "    </tr>\n",
       "    <tr>\n",
       "      <th>...</th>\n",
       "      <td>...</td>\n",
       "      <td>...</td>\n",
       "      <td>...</td>\n",
       "      <td>...</td>\n",
       "      <td>...</td>\n",
       "      <td>...</td>\n",
       "      <td>...</td>\n",
       "      <td>...</td>\n",
       "      <td>...</td>\n",
       "      <td>...</td>\n",
       "      <td>...</td>\n",
       "      <td>...</td>\n",
       "      <td>...</td>\n",
       "      <td>...</td>\n",
       "      <td>...</td>\n",
       "      <td>...</td>\n",
       "      <td>...</td>\n",
       "      <td>...</td>\n",
       "    </tr>\n",
       "    <tr>\n",
       "      <th>9995</th>\n",
       "      <td>13.0</td>\n",
       "      <td>20.0</td>\n",
       "      <td>1.0</td>\n",
       "      <td>28.311154</td>\n",
       "      <td>358.0</td>\n",
       "      <td>160.363681</td>\n",
       "      <td>317.931124</td>\n",
       "      <td>2</td>\n",
       "      <td>25.0</td>\n",
       "      <td>36661.93</td>\n",
       "      <td>6.0</td>\n",
       "      <td>3.0</td>\n",
       "      <td>10.0</td>\n",
       "      <td>4.0</td>\n",
       "      <td>2915.160833</td>\n",
       "      <td>1.16</td>\n",
       "      <td>314.26</td>\n",
       "      <td>73.221279</td>\n",
       "    </tr>\n",
       "    <tr>\n",
       "      <th>9996</th>\n",
       "      <td>32.0</td>\n",
       "      <td>13.0</td>\n",
       "      <td>5.0</td>\n",
       "      <td>39.741948</td>\n",
       "      <td>299.0</td>\n",
       "      <td>278.359264</td>\n",
       "      <td>160.416098</td>\n",
       "      <td>2</td>\n",
       "      <td>48.0</td>\n",
       "      <td>28161.85</td>\n",
       "      <td>8.0</td>\n",
       "      <td>5.0</td>\n",
       "      <td>6.0</td>\n",
       "      <td>4.0</td>\n",
       "      <td>2422.820833</td>\n",
       "      <td>7.72</td>\n",
       "      <td>699.69</td>\n",
       "      <td>93.506721</td>\n",
       "    </tr>\n",
       "    <tr>\n",
       "      <th>9997</th>\n",
       "      <td>13.0</td>\n",
       "      <td>9.0</td>\n",
       "      <td>8.0</td>\n",
       "      <td>25.111049</td>\n",
       "      <td>203.0</td>\n",
       "      <td>39.334921</td>\n",
       "      <td>352.515899</td>\n",
       "      <td>2</td>\n",
       "      <td>36.0</td>\n",
       "      <td>39912.86</td>\n",
       "      <td>3.0</td>\n",
       "      <td>4.0</td>\n",
       "      <td>17.0</td>\n",
       "      <td>6.0</td>\n",
       "      <td>3498.071667</td>\n",
       "      <td>15.72</td>\n",
       "      <td>1734.43</td>\n",
       "      <td>197.956347</td>\n",
       "    </tr>\n",
       "    <tr>\n",
       "      <th>9998</th>\n",
       "      <td>10.0</td>\n",
       "      <td>13.0</td>\n",
       "      <td>6.0</td>\n",
       "      <td>32.237478</td>\n",
       "      <td>309.0</td>\n",
       "      <td>115.463482</td>\n",
       "      <td>354.829742</td>\n",
       "      <td>2</td>\n",
       "      <td>45.0</td>\n",
       "      <td>26918.38</td>\n",
       "      <td>6.0</td>\n",
       "      <td>5.0</td>\n",
       "      <td>10.0</td>\n",
       "      <td>2.0</td>\n",
       "      <td>2442.198333</td>\n",
       "      <td>5.48</td>\n",
       "      <td>1054.90</td>\n",
       "      <td>43.926610</td>\n",
       "    </tr>\n",
       "    <tr>\n",
       "      <th>9999</th>\n",
       "      <td>14.0</td>\n",
       "      <td>12.0</td>\n",
       "      <td>2.0</td>\n",
       "      <td>32.525388</td>\n",
       "      <td>288.0</td>\n",
       "      <td>655.490743</td>\n",
       "      <td>636.379413</td>\n",
       "      <td>3</td>\n",
       "      <td>50.0</td>\n",
       "      <td>148786.04</td>\n",
       "      <td>4.0</td>\n",
       "      <td>4.0</td>\n",
       "      <td>4.0</td>\n",
       "      <td>3.0</td>\n",
       "      <td>12492.836667</td>\n",
       "      <td>6.71</td>\n",
       "      <td>399.45</td>\n",
       "      <td>237.413511</td>\n",
       "    </tr>\n",
       "  </tbody>\n",
       "</table>\n",
       "<p>10000 rows × 18 columns</p>\n",
       "</div>"
      ],
      "text/plain": [
       "      Delay_from_due_date  Num_of_Delayed_Payment  Num_Credit_Inquiries  \\\n",
       "0                    56.0                    16.0                  11.0   \n",
       "1                    49.0                    23.0                  12.0   \n",
       "2                    34.0                    20.0                   6.0   \n",
       "3                    21.0                    13.0                   8.0   \n",
       "4                    19.0                    13.0                   6.0   \n",
       "...                   ...                     ...                   ...   \n",
       "9995                 13.0                    20.0                   1.0   \n",
       "9996                 32.0                    13.0                   5.0   \n",
       "9997                 13.0                     9.0                   8.0   \n",
       "9998                 10.0                    13.0                   6.0   \n",
       "9999                 14.0                    12.0                   2.0   \n",
       "\n",
       "      Credit_Utilization_Ratio  Credit_History_Age  Amount_invested_monthly  \\\n",
       "0                    35.598217               120.0               229.093478   \n",
       "1                    25.553106               120.0               104.613906   \n",
       "2                    40.039954               174.0               338.626965   \n",
       "3                    25.711678               143.0               116.816864   \n",
       "4                    39.140463               138.0                87.262887   \n",
       "...                        ...                 ...                      ...   \n",
       "9995                 28.311154               358.0               160.363681   \n",
       "9996                 39.741948               299.0               278.359264   \n",
       "9997                 25.111049               203.0                39.334921   \n",
       "9998                 32.237478               309.0               115.463482   \n",
       "9999                 32.525388               288.0               655.490743   \n",
       "\n",
       "      Monthly_Balance  Credit_Score   Age  Annual_Income  Num_Bank_Accounts  \\\n",
       "0          252.385965             1  15.0       36597.56                8.0   \n",
       "1          219.105944             1  28.0       32057.30                9.0   \n",
       "2          251.265589             1  46.0       75868.80                6.0   \n",
       "3          259.927960             2  46.0       17092.69                7.0   \n",
       "4          626.212330             1  45.0       81471.96                6.0   \n",
       "...               ...           ...   ...            ...                ...   \n",
       "9995       317.931124             2  25.0       36661.93                6.0   \n",
       "9996       160.416098             2  48.0       28161.85                8.0   \n",
       "9997       352.515899             2  36.0       39912.86                3.0   \n",
       "9998       354.829742             2  45.0       26918.38                6.0   \n",
       "9999       636.379413             3  50.0      148786.04                4.0   \n",
       "\n",
       "      Num_Credit_Card  Interest_Rate  Num_of_Loan  Monthly_Inhand_Salary  \\\n",
       "0                10.0           29.0          5.0            3143.796667   \n",
       "1                 8.0           16.0          7.0            2606.441667   \n",
       "2                10.0           32.0          7.0            6074.400000   \n",
       "3                 3.0           19.0          7.0            1695.390833   \n",
       "4                 6.0           25.0          5.0            6763.330000   \n",
       "...               ...            ...          ...                    ...   \n",
       "9995              3.0           10.0          4.0            2915.160833   \n",
       "9996              5.0            6.0          4.0            2422.820833   \n",
       "9997              4.0           17.0          6.0            3498.071667   \n",
       "9998              5.0           10.0          2.0            2442.198333   \n",
       "9999              4.0            4.0          3.0           12492.836667   \n",
       "\n",
       "      Changed_Credit_Limit  Outstanding_Debt  Total_EMI_per_month  \n",
       "0                    22.49           2963.18           122.900223  \n",
       "1                     1.40           1327.26           164.859426  \n",
       "2                     3.60           1432.71           297.547446  \n",
       "3                    16.40           1417.06            62.794260  \n",
       "4                    27.09           2679.69           202.857783  \n",
       "...                    ...               ...                  ...  \n",
       "9995                  1.16            314.26            73.221279  \n",
       "9996                  7.72            699.69            93.506721  \n",
       "9997                 15.72           1734.43           197.956347  \n",
       "9998                  5.48           1054.90            43.926610  \n",
       "9999                  6.71            399.45           237.413511  \n",
       "\n",
       "[10000 rows x 18 columns]"
      ]
     },
     "execution_count": 5,
     "metadata": {},
     "output_type": "execute_result"
    }
   ],
   "source": [
    "# 숫자형 타입: \n",
    "train.select_dtypes(exclude = 'O')\n",
    "\n",
    "# 범주형처럼 보이는 타입: 'Credit_Score'(타겟) \n",
    "# >>> 타겟 데이터만 면밀히 확인하고 나머지는 스케일링에 집중하기."
   ]
  },
  {
   "cell_type": "markdown",
   "id": "d5ec7be3",
   "metadata": {
    "papermill": {
     "duration": 0.013935,
     "end_time": "2023-06-18T20:16:07.562325",
     "exception": false,
     "start_time": "2023-06-18T20:16:07.548390",
     "status": "completed"
    },
    "tags": []
   },
   "source": [
    "## 데이터 셋팅"
   ]
  },
  {
   "cell_type": "code",
   "execution_count": 6,
   "id": "e4a61575",
   "metadata": {
    "execution": {
     "iopub.execute_input": "2023-06-18T20:16:07.592872Z",
     "iopub.status.busy": "2023-06-18T20:16:07.592498Z",
     "iopub.status.idle": "2023-06-18T20:16:07.600336Z",
     "shell.execute_reply": "2023-06-18T20:16:07.599654Z"
    },
    "papermill": {
     "duration": 0.025682,
     "end_time": "2023-06-18T20:16:07.602263",
     "exception": false,
     "start_time": "2023-06-18T20:16:07.576581",
     "status": "completed"
    },
    "tags": []
   },
   "outputs": [
    {
     "name": "stdout",
     "output_type": "stream",
     "text": [
      "(10000, 20) (10000,) (10000, 20)\n"
     ]
    }
   ],
   "source": [
    "# print(train.head(3))\n",
    "# print(test.head(3))\n",
    "\n",
    "# 우리는 크레딧 스코어를 예측해야함\n",
    "# \n",
    "X_train = train.drop(columns = ['Credit_Score'])\n",
    "y_train = train['Credit_Score']\n",
    "X_test = test.copy()\n",
    "\n",
    "print(X_train.shape, y_train.shape, X_test.shape)"
   ]
  },
  {
   "cell_type": "markdown",
   "id": "7b9e1fef",
   "metadata": {
    "papermill": {
     "duration": 0.014043,
     "end_time": "2023-06-18T20:16:07.631081",
     "exception": false,
     "start_time": "2023-06-18T20:16:07.617038",
     "status": "completed"
    },
    "tags": []
   },
   "source": [
    "## EDA"
   ]
  },
  {
   "cell_type": "code",
   "execution_count": 7,
   "id": "815adabe",
   "metadata": {
    "execution": {
     "iopub.execute_input": "2023-06-18T20:16:07.662044Z",
     "iopub.status.busy": "2023-06-18T20:16:07.661713Z",
     "iopub.status.idle": "2023-06-18T20:16:07.684312Z",
     "shell.execute_reply": "2023-06-18T20:16:07.683281Z"
    },
    "papermill": {
     "duration": 0.040526,
     "end_time": "2023-06-18T20:16:07.686203",
     "exception": false,
     "start_time": "2023-06-18T20:16:07.645677",
     "status": "completed"
    },
    "tags": []
   },
   "outputs": [
    {
     "name": "stderr",
     "output_type": "stream",
     "text": [
      "/tmp/ipykernel_20/1070713224.py:2: FutureWarning: The default value of numeric_only in DataFrame.corr is deprecated. In a future version, it will default to False. Select only valid columns or specify the value of numeric_only to silence this warning.\n",
      "  round(train.corr()['Credit_Score'], 4)\n"
     ]
    },
    {
     "data": {
      "text/plain": [
       "Delay_from_due_date        -0.4335\n",
       "Num_of_Delayed_Payment     -0.3746\n",
       "Num_Credit_Inquiries       -0.4296\n",
       "Credit_Utilization_Ratio    0.0426\n",
       "Credit_History_Age          0.3736\n",
       "Amount_invested_monthly     0.1485\n",
       "Monthly_Balance             0.1947\n",
       "Credit_Score                1.0000\n",
       "Age                         0.1508\n",
       "Annual_Income               0.2021\n",
       "Num_Bank_Accounts          -0.3865\n",
       "Num_Credit_Card            -0.4149\n",
       "Interest_Rate              -0.4795\n",
       "Num_of_Loan                -0.3486\n",
       "Monthly_Inhand_Salary       0.1996\n",
       "Changed_Credit_Limit       -0.1686\n",
       "Outstanding_Debt           -0.3843\n",
       "Total_EMI_per_month        -0.0010\n",
       "Name: Credit_Score, dtype: float64"
      ]
     },
     "execution_count": 7,
     "metadata": {},
     "output_type": "execute_result"
    }
   ],
   "source": [
    "# train 데이터로 타깃과의 상관관계를 본다\n",
    "round(train.corr()['Credit_Score'], 4)\n",
    "\n",
    "# Credit_Utilization_Ratio    0.0426\n",
    "# Total_EMI_per_month        -0.0010\n",
    "# 외에는 대부분 0.1을 넘는다. 'Total_EMI_per_month'과 'Credit_Utilization_Ratio'은 drop 하기로 한다."
   ]
  },
  {
   "cell_type": "markdown",
   "id": "55b42a90",
   "metadata": {
    "papermill": {
     "duration": 0.015245,
     "end_time": "2023-06-18T20:16:07.716314",
     "exception": false,
     "start_time": "2023-06-18T20:16:07.701069",
     "status": "completed"
    },
    "tags": []
   },
   "source": [
    "## 전처리"
   ]
  },
  {
   "cell_type": "code",
   "execution_count": 8,
   "id": "c0f278f2",
   "metadata": {
    "execution": {
     "iopub.execute_input": "2023-06-18T20:16:07.751074Z",
     "iopub.status.busy": "2023-06-18T20:16:07.749930Z",
     "iopub.status.idle": "2023-06-18T20:16:07.813759Z",
     "shell.execute_reply": "2023-06-18T20:16:07.812848Z"
    },
    "papermill": {
     "duration": 0.082699,
     "end_time": "2023-06-18T20:16:07.815748",
     "exception": false,
     "start_time": "2023-06-18T20:16:07.733049",
     "status": "completed"
    },
    "tags": []
   },
   "outputs": [
    {
     "data": {
      "text/html": [
       "<div>\n",
       "<style scoped>\n",
       "    .dataframe tbody tr th:only-of-type {\n",
       "        vertical-align: middle;\n",
       "    }\n",
       "\n",
       "    .dataframe tbody tr th {\n",
       "        vertical-align: top;\n",
       "    }\n",
       "\n",
       "    .dataframe thead th {\n",
       "        text-align: right;\n",
       "    }\n",
       "</style>\n",
       "<table border=\"1\" class=\"dataframe\">\n",
       "  <thead>\n",
       "    <tr style=\"text-align: right;\">\n",
       "      <th></th>\n",
       "      <th>Delay_from_due_date</th>\n",
       "      <th>Num_of_Delayed_Payment</th>\n",
       "      <th>Num_Credit_Inquiries</th>\n",
       "      <th>Credit_Utilization_Ratio</th>\n",
       "      <th>Credit_History_Age</th>\n",
       "      <th>Amount_invested_monthly</th>\n",
       "      <th>Monthly_Balance</th>\n",
       "      <th>Age</th>\n",
       "      <th>Annual_Income</th>\n",
       "      <th>Num_Bank_Accounts</th>\n",
       "      <th>Num_Credit_Card</th>\n",
       "      <th>Interest_Rate</th>\n",
       "      <th>Num_of_Loan</th>\n",
       "      <th>Monthly_Inhand_Salary</th>\n",
       "      <th>Changed_Credit_Limit</th>\n",
       "      <th>Outstanding_Debt</th>\n",
       "      <th>Total_EMI_per_month</th>\n",
       "    </tr>\n",
       "  </thead>\n",
       "  <tbody>\n",
       "    <tr>\n",
       "      <th>count</th>\n",
       "      <td>10000.000000</td>\n",
       "      <td>10000.000000</td>\n",
       "      <td>10000.00000</td>\n",
       "      <td>10000.000000</td>\n",
       "      <td>10000.000000</td>\n",
       "      <td>10000.000000</td>\n",
       "      <td>10000.000000</td>\n",
       "      <td>10000.00000</td>\n",
       "      <td>10000.000000</td>\n",
       "      <td>10000.000000</td>\n",
       "      <td>10000.000000</td>\n",
       "      <td>10000.000000</td>\n",
       "      <td>10000.000000</td>\n",
       "      <td>10000.000000</td>\n",
       "      <td>10000.000000</td>\n",
       "      <td>10000.000000</td>\n",
       "      <td>10000.000000</td>\n",
       "    </tr>\n",
       "    <tr>\n",
       "      <th>mean</th>\n",
       "      <td>21.263100</td>\n",
       "      <td>13.381300</td>\n",
       "      <td>5.79400</td>\n",
       "      <td>32.306216</td>\n",
       "      <td>220.501400</td>\n",
       "      <td>195.497580</td>\n",
       "      <td>400.130732</td>\n",
       "      <td>33.33680</td>\n",
       "      <td>50318.451889</td>\n",
       "      <td>5.382900</td>\n",
       "      <td>5.538000</td>\n",
       "      <td>14.468200</td>\n",
       "      <td>3.525700</td>\n",
       "      <td>4182.906254</td>\n",
       "      <td>10.435633</td>\n",
       "      <td>1428.996096</td>\n",
       "      <td>105.114322</td>\n",
       "    </tr>\n",
       "    <tr>\n",
       "      <th>std</th>\n",
       "      <td>14.778976</td>\n",
       "      <td>6.217876</td>\n",
       "      <td>3.86772</td>\n",
       "      <td>5.093599</td>\n",
       "      <td>99.204263</td>\n",
       "      <td>196.150962</td>\n",
       "      <td>211.034108</td>\n",
       "      <td>10.73122</td>\n",
       "      <td>38171.440801</td>\n",
       "      <td>2.566271</td>\n",
       "      <td>2.096186</td>\n",
       "      <td>8.687977</td>\n",
       "      <td>2.441585</td>\n",
       "      <td>3175.891720</td>\n",
       "      <td>6.501954</td>\n",
       "      <td>1158.852422</td>\n",
       "      <td>125.502925</td>\n",
       "    </tr>\n",
       "    <tr>\n",
       "      <th>min</th>\n",
       "      <td>0.000000</td>\n",
       "      <td>0.000000</td>\n",
       "      <td>0.00000</td>\n",
       "      <td>20.719745</td>\n",
       "      <td>2.000000</td>\n",
       "      <td>0.000000</td>\n",
       "      <td>0.007760</td>\n",
       "      <td>14.00000</td>\n",
       "      <td>7006.035000</td>\n",
       "      <td>0.000000</td>\n",
       "      <td>0.000000</td>\n",
       "      <td>1.000000</td>\n",
       "      <td>0.000000</td>\n",
       "      <td>303.645417</td>\n",
       "      <td>0.500000</td>\n",
       "      <td>0.230000</td>\n",
       "      <td>0.000000</td>\n",
       "    </tr>\n",
       "    <tr>\n",
       "      <th>25%</th>\n",
       "      <td>10.000000</td>\n",
       "      <td>9.000000</td>\n",
       "      <td>3.00000</td>\n",
       "      <td>28.075839</td>\n",
       "      <td>144.000000</td>\n",
       "      <td>74.056997</td>\n",
       "      <td>268.741936</td>\n",
       "      <td>24.00000</td>\n",
       "      <td>19259.307500</td>\n",
       "      <td>4.000000</td>\n",
       "      <td>4.000000</td>\n",
       "      <td>7.000000</td>\n",
       "      <td>2.000000</td>\n",
       "      <td>1626.342083</td>\n",
       "      <td>5.507500</td>\n",
       "      <td>562.340000</td>\n",
       "      <td>28.588769</td>\n",
       "    </tr>\n",
       "    <tr>\n",
       "      <th>50%</th>\n",
       "      <td>18.000000</td>\n",
       "      <td>14.000000</td>\n",
       "      <td>6.00000</td>\n",
       "      <td>32.310153</td>\n",
       "      <td>219.000000</td>\n",
       "      <td>130.089440</td>\n",
       "      <td>334.854343</td>\n",
       "      <td>33.00000</td>\n",
       "      <td>36875.140000</td>\n",
       "      <td>5.000000</td>\n",
       "      <td>5.000000</td>\n",
       "      <td>13.000000</td>\n",
       "      <td>3.000000</td>\n",
       "      <td>3073.272917</td>\n",
       "      <td>9.410000</td>\n",
       "      <td>1168.235000</td>\n",
       "      <td>65.971478</td>\n",
       "    </tr>\n",
       "    <tr>\n",
       "      <th>75%</th>\n",
       "      <td>28.000000</td>\n",
       "      <td>18.000000</td>\n",
       "      <td>8.00000</td>\n",
       "      <td>36.491502</td>\n",
       "      <td>301.000000</td>\n",
       "      <td>234.960725</td>\n",
       "      <td>470.351899</td>\n",
       "      <td>42.00000</td>\n",
       "      <td>71507.587500</td>\n",
       "      <td>7.000000</td>\n",
       "      <td>7.000000</td>\n",
       "      <td>20.000000</td>\n",
       "      <td>5.000000</td>\n",
       "      <td>5936.870000</td>\n",
       "      <td>14.630000</td>\n",
       "      <td>1960.420000</td>\n",
       "      <td>144.429302</td>\n",
       "    </tr>\n",
       "    <tr>\n",
       "      <th>max</th>\n",
       "      <td>67.000000</td>\n",
       "      <td>28.000000</td>\n",
       "      <td>17.00000</td>\n",
       "      <td>47.103409</td>\n",
       "      <td>404.000000</td>\n",
       "      <td>1674.337665</td>\n",
       "      <td>1567.208309</td>\n",
       "      <td>56.00000</td>\n",
       "      <td>179987.280000</td>\n",
       "      <td>10.000000</td>\n",
       "      <td>11.000000</td>\n",
       "      <td>34.000000</td>\n",
       "      <td>9.000000</td>\n",
       "      <td>15167.180000</td>\n",
       "      <td>29.980000</td>\n",
       "      <td>4998.070000</td>\n",
       "      <td>1701.955013</td>\n",
       "    </tr>\n",
       "  </tbody>\n",
       "</table>\n",
       "</div>"
      ],
      "text/plain": [
       "       Delay_from_due_date  Num_of_Delayed_Payment  Num_Credit_Inquiries  \\\n",
       "count         10000.000000            10000.000000           10000.00000   \n",
       "mean             21.263100               13.381300               5.79400   \n",
       "std              14.778976                6.217876               3.86772   \n",
       "min               0.000000                0.000000               0.00000   \n",
       "25%              10.000000                9.000000               3.00000   \n",
       "50%              18.000000               14.000000               6.00000   \n",
       "75%              28.000000               18.000000               8.00000   \n",
       "max              67.000000               28.000000              17.00000   \n",
       "\n",
       "       Credit_Utilization_Ratio  Credit_History_Age  Amount_invested_monthly  \\\n",
       "count              10000.000000        10000.000000             10000.000000   \n",
       "mean                  32.306216          220.501400               195.497580   \n",
       "std                    5.093599           99.204263               196.150962   \n",
       "min                   20.719745            2.000000                 0.000000   \n",
       "25%                   28.075839          144.000000                74.056997   \n",
       "50%                   32.310153          219.000000               130.089440   \n",
       "75%                   36.491502          301.000000               234.960725   \n",
       "max                   47.103409          404.000000              1674.337665   \n",
       "\n",
       "       Monthly_Balance          Age  Annual_Income  Num_Bank_Accounts  \\\n",
       "count     10000.000000  10000.00000   10000.000000       10000.000000   \n",
       "mean        400.130732     33.33680   50318.451889           5.382900   \n",
       "std         211.034108     10.73122   38171.440801           2.566271   \n",
       "min           0.007760     14.00000    7006.035000           0.000000   \n",
       "25%         268.741936     24.00000   19259.307500           4.000000   \n",
       "50%         334.854343     33.00000   36875.140000           5.000000   \n",
       "75%         470.351899     42.00000   71507.587500           7.000000   \n",
       "max        1567.208309     56.00000  179987.280000          10.000000   \n",
       "\n",
       "       Num_Credit_Card  Interest_Rate   Num_of_Loan  Monthly_Inhand_Salary  \\\n",
       "count     10000.000000   10000.000000  10000.000000           10000.000000   \n",
       "mean          5.538000      14.468200      3.525700            4182.906254   \n",
       "std           2.096186       8.687977      2.441585            3175.891720   \n",
       "min           0.000000       1.000000      0.000000             303.645417   \n",
       "25%           4.000000       7.000000      2.000000            1626.342083   \n",
       "50%           5.000000      13.000000      3.000000            3073.272917   \n",
       "75%           7.000000      20.000000      5.000000            5936.870000   \n",
       "max          11.000000      34.000000      9.000000           15167.180000   \n",
       "\n",
       "       Changed_Credit_Limit  Outstanding_Debt  Total_EMI_per_month  \n",
       "count          10000.000000      10000.000000         10000.000000  \n",
       "mean              10.435633       1428.996096           105.114322  \n",
       "std                6.501954       1158.852422           125.502925  \n",
       "min                0.500000          0.230000             0.000000  \n",
       "25%                5.507500        562.340000            28.588769  \n",
       "50%                9.410000       1168.235000            65.971478  \n",
       "75%               14.630000       1960.420000           144.429302  \n",
       "max               29.980000       4998.070000          1701.955013  "
      ]
     },
     "execution_count": 8,
     "metadata": {},
     "output_type": "execute_result"
    }
   ],
   "source": [
    "# 수치형 확인\n",
    "X_train.describe(exclude = 'O')"
   ]
  },
  {
   "cell_type": "code",
   "execution_count": 9,
   "id": "f2709334",
   "metadata": {
    "execution": {
     "iopub.execute_input": "2023-06-18T20:16:07.851062Z",
     "iopub.status.busy": "2023-06-18T20:16:07.849837Z",
     "iopub.status.idle": "2023-06-18T20:16:07.858087Z",
     "shell.execute_reply": "2023-06-18T20:16:07.856940Z"
    },
    "papermill": {
     "duration": 0.028024,
     "end_time": "2023-06-18T20:16:07.860071",
     "exception": false,
     "start_time": "2023-06-18T20:16:07.832047",
     "status": "completed"
    },
    "tags": []
   },
   "outputs": [
    {
     "data": {
      "text/plain": [
       "(10000, 20)"
      ]
     },
     "execution_count": 9,
     "metadata": {},
     "output_type": "execute_result"
    }
   ],
   "source": [
    "X_train.shape"
   ]
  },
  {
   "cell_type": "markdown",
   "id": "d8073eba",
   "metadata": {
    "papermill": {
     "duration": 0.015616,
     "end_time": "2023-06-18T20:16:07.892649",
     "exception": false,
     "start_time": "2023-06-18T20:16:07.877033",
     "status": "completed"
    },
    "tags": []
   },
   "source": [
    "### 1. 스케일링 방법과 컬럼 정하기"
   ]
  },
  {
   "cell_type": "code",
   "execution_count": 10,
   "id": "0c8b0a9d",
   "metadata": {
    "execution": {
     "iopub.execute_input": "2023-06-18T20:16:07.927862Z",
     "iopub.status.busy": "2023-06-18T20:16:07.927497Z",
     "iopub.status.idle": "2023-06-18T20:16:07.973482Z",
     "shell.execute_reply": "2023-06-18T20:16:07.972246Z"
    },
    "papermill": {
     "duration": 0.066096,
     "end_time": "2023-06-18T20:16:07.976518",
     "exception": false,
     "start_time": "2023-06-18T20:16:07.910422",
     "status": "completed"
    },
    "tags": []
   },
   "outputs": [],
   "source": [
    "# 숫자형만 선택\n",
    "temp = X_train.describe(exclude = 'O')\n",
    "temp = temp.loc['max', :]\n",
    "\n",
    "# (1) 상식적으로 Age, Annual_Income, Monthly_Inhand_Salary의 경우 어느정도 분포가 의미가 있을 것으로 예상\n",
    "do_stdscale_list = ['Age', 'Annual_Income', 'Monthly_Inhand_Salary']\n",
    "\n",
    "\n",
    "# 그외의 컬럼은 정규성 검정하여 표준화를 진행할지 정하자\n",
    "# 모든 컬럼이 정규성을 만족하지 않는 것으로 나왔음 : 그래도 저 셋은 분포로 옮기도록하고 나머지는 ->\n",
    "# 만개 밖에 되지 않으므로 모두 표준화스케일링 억지로 옮기는 것보다 민맥스나 로버스트 등을 사용하는 것이 낫다고 생각\n",
    "\n",
    "\n",
    "# from scipy.stats import shapiro as normtest\n",
    "# all_list = list(temp.index)\n",
    "# for i in alllist:\n",
    "#     s, pv = normtest(train[i])\n",
    "#     print('{} : '.format(i), round(s, 6), '\\n > pval : ', round(pv, 6))"
   ]
  },
  {
   "cell_type": "code",
   "execution_count": 11,
   "id": "7c80590b",
   "metadata": {
    "execution": {
     "iopub.execute_input": "2023-06-18T20:16:08.011850Z",
     "iopub.status.busy": "2023-06-18T20:16:08.011505Z",
     "iopub.status.idle": "2023-06-18T20:16:08.017613Z",
     "shell.execute_reply": "2023-06-18T20:16:08.016692Z"
    },
    "papermill": {
     "duration": 0.024802,
     "end_time": "2023-06-18T20:16:08.019452",
     "exception": false,
     "start_time": "2023-06-18T20:16:07.994650",
     "status": "completed"
    },
    "tags": []
   },
   "outputs": [],
   "source": [
    "# (2) max선택하여 맥스 1천이 넘는 것은 로그스케일링인덱스\n",
    "# 1000이 넘어서 로그 스케일링이 필요하다고 생각되는 경우\n",
    "\n",
    "# 정규화 리스트에 포함되지 않은 것들 대상으로\n",
    "temp2 = temp[temp.index.isin(do_stdscale_list)==False]\n",
    "do_logscale_list = list(temp2[temp2>1000].index)\n",
    "# do_logscale_list \n",
    "# ['Amount_invested_monthly',\n",
    "#  'Monthly_Balance',\n",
    "#  'Outstanding_Debt',\n",
    "#  'Total_EMI_per_month']"
   ]
  },
  {
   "cell_type": "code",
   "execution_count": 12,
   "id": "702e4d01",
   "metadata": {
    "execution": {
     "iopub.execute_input": "2023-06-18T20:16:08.052337Z",
     "iopub.status.busy": "2023-06-18T20:16:08.051982Z",
     "iopub.status.idle": "2023-06-18T20:16:08.059761Z",
     "shell.execute_reply": "2023-06-18T20:16:08.059030Z"
    },
    "papermill": {
     "duration": 0.026602,
     "end_time": "2023-06-18T20:16:08.062268",
     "exception": false,
     "start_time": "2023-06-18T20:16:08.035666",
     "status": "completed"
    },
    "tags": []
   },
   "outputs": [],
   "source": [
    "# (3) 나머지 로버스트 스케일링 할 경우\n",
    "# 정규화temp2 에서 로그스케일링에 포함되지 않은 것들 대상으로\n",
    "temp3 = temp2[temp2.index.isin(do_logscale_list)==False]\n",
    "do_rbscale_list = list(temp3[temp3.index.isin(do_stdscale_list)==False].index)\n",
    "# do_rbscale_list\n",
    "# ['Delay_from_due_date',\n",
    "#  'Num_of_Delayed_Payment',\n",
    "#  'Num_Credit_Inquiries',\n",
    "#  'Credit_Utilization_Ratio',\n",
    "#  'Credit_History_Age',\n",
    "#  'Num_Bank_Accounts',\n",
    "#  'Num_Credit_Card',\n",
    "#  'Interest_Rate',\n",
    "#  'Num_of_Loan',\n",
    "#  'Changed_Credit_Limit']"
   ]
  },
  {
   "cell_type": "code",
   "execution_count": 13,
   "id": "179a9174",
   "metadata": {
    "execution": {
     "iopub.execute_input": "2023-06-18T20:16:08.094352Z",
     "iopub.status.busy": "2023-06-18T20:16:08.093984Z",
     "iopub.status.idle": "2023-06-18T20:16:08.099681Z",
     "shell.execute_reply": "2023-06-18T20:16:08.098493Z"
    },
    "papermill": {
     "duration": 0.02437,
     "end_time": "2023-06-18T20:16:08.101857",
     "exception": false,
     "start_time": "2023-06-18T20:16:08.077487",
     "status": "completed"
    },
    "tags": []
   },
   "outputs": [
    {
     "name": "stdout",
     "output_type": "stream",
     "text": [
      "17\n",
      "17\n"
     ]
    }
   ],
   "source": [
    "# 리스트 개수가 오브젝트를 제외한 컬럼개수들과 같은지 확인 : 17로 동일\n",
    "print(X_train.select_dtypes(exclude = 'O').shape[1])\n",
    "print(len(do_stdscale_list)+ len(do_logscale_list) + len(do_rbscale_list))"
   ]
  },
  {
   "cell_type": "code",
   "execution_count": 14,
   "id": "5fa2041d",
   "metadata": {
    "execution": {
     "iopub.execute_input": "2023-06-18T20:16:08.134389Z",
     "iopub.status.busy": "2023-06-18T20:16:08.134047Z",
     "iopub.status.idle": "2023-06-18T20:16:08.140556Z",
     "shell.execute_reply": "2023-06-18T20:16:08.139356Z"
    },
    "papermill": {
     "duration": 0.025553,
     "end_time": "2023-06-18T20:16:08.142368",
     "exception": false,
     "start_time": "2023-06-18T20:16:08.116815",
     "status": "completed"
    },
    "tags": []
   },
   "outputs": [
    {
     "data": {
      "text/plain": [
       "['Amount_invested_monthly',\n",
       " 'Monthly_Balance',\n",
       " 'Outstanding_Debt',\n",
       " 'Total_EMI_per_month']"
      ]
     },
     "execution_count": 14,
     "metadata": {},
     "output_type": "execute_result"
    }
   ],
   "source": [
    "do_logscale_list"
   ]
  },
  {
   "cell_type": "code",
   "execution_count": 15,
   "id": "73990a4a",
   "metadata": {
    "execution": {
     "iopub.execute_input": "2023-06-18T20:16:08.175641Z",
     "iopub.status.busy": "2023-06-18T20:16:08.175296Z",
     "iopub.status.idle": "2023-06-18T20:16:09.493841Z",
     "shell.execute_reply": "2023-06-18T20:16:09.493174Z"
    },
    "papermill": {
     "duration": 1.338147,
     "end_time": "2023-06-18T20:16:09.496254",
     "exception": false,
     "start_time": "2023-06-18T20:16:08.158107",
     "status": "completed"
    },
    "tags": []
   },
   "outputs": [],
   "source": [
    "# 스케일링\n",
    "from sklearn.preprocessing import StandardScaler\n",
    "from sklearn.preprocessing import RobustScaler"
   ]
  },
  {
   "cell_type": "code",
   "execution_count": 16,
   "id": "13af108e",
   "metadata": {
    "execution": {
     "iopub.execute_input": "2023-06-18T20:16:09.528866Z",
     "iopub.status.busy": "2023-06-18T20:16:09.528064Z",
     "iopub.status.idle": "2023-06-18T20:16:09.540970Z",
     "shell.execute_reply": "2023-06-18T20:16:09.540105Z"
    },
    "papermill": {
     "duration": 0.03126,
     "end_time": "2023-06-18T20:16:09.543295",
     "exception": false,
     "start_time": "2023-06-18T20:16:09.512035",
     "status": "completed"
    },
    "tags": []
   },
   "outputs": [],
   "source": [
    "# 표준화\n",
    "std_scaler = StandardScaler()\n",
    "# train\n",
    "X_train[do_stdscale_list] = std_scaler.fit_transform(X_train[do_stdscale_list])\n",
    "# test\n",
    "X_test[do_stdscale_list] = std_scaler.transform(X_test[do_stdscale_list])"
   ]
  },
  {
   "cell_type": "code",
   "execution_count": 17,
   "id": "b6162a25",
   "metadata": {
    "execution": {
     "iopub.execute_input": "2023-06-18T20:16:09.576083Z",
     "iopub.status.busy": "2023-06-18T20:16:09.575726Z",
     "iopub.status.idle": "2023-06-18T20:16:09.589814Z",
     "shell.execute_reply": "2023-06-18T20:16:09.589094Z"
    },
    "papermill": {
     "duration": 0.033338,
     "end_time": "2023-06-18T20:16:09.591964",
     "exception": false,
     "start_time": "2023-06-18T20:16:09.558626",
     "status": "completed"
    },
    "tags": []
   },
   "outputs": [],
   "source": [
    "# 로그 스케일링\n",
    "\n",
    "# 하기전 확인\n",
    "# print(X_train.loc[:, do_logscale_list].head(5))\n",
    "# print(np.log1p(X_train.loc[:, do_logscale_list]).head(5))\n",
    "\n",
    "# 진행\n",
    "X_train.loc[:, do_logscale_list] = np.log1p(X_train.loc[:, do_logscale_list])\n",
    "X_test.loc[:, do_logscale_list] = np.log1p(X_test.loc[:, do_logscale_list])"
   ]
  },
  {
   "cell_type": "code",
   "execution_count": 18,
   "id": "40d74518",
   "metadata": {
    "execution": {
     "iopub.execute_input": "2023-06-18T20:16:09.624854Z",
     "iopub.status.busy": "2023-06-18T20:16:09.624284Z",
     "iopub.status.idle": "2023-06-18T20:16:09.647013Z",
     "shell.execute_reply": "2023-06-18T20:16:09.645823Z"
    },
    "papermill": {
     "duration": 0.041806,
     "end_time": "2023-06-18T20:16:09.649379",
     "exception": false,
     "start_time": "2023-06-18T20:16:09.607573",
     "status": "completed"
    },
    "tags": []
   },
   "outputs": [],
   "source": [
    "# 로버스트 스케일링\n",
    "rb_scaler = RobustScaler()\n",
    "# train\n",
    "X_train[do_rbscale_list] = rb_scaler.fit_transform(X_train[do_rbscale_list])\n",
    "# test\n",
    "X_test[do_rbscale_list] = rb_scaler.transform(X_test[do_rbscale_list])"
   ]
  },
  {
   "cell_type": "code",
   "execution_count": 19,
   "id": "d76b0216",
   "metadata": {
    "execution": {
     "iopub.execute_input": "2023-06-18T20:16:09.682811Z",
     "iopub.status.busy": "2023-06-18T20:16:09.681729Z",
     "iopub.status.idle": "2023-06-18T20:16:09.686261Z",
     "shell.execute_reply": "2023-06-18T20:16:09.685395Z"
    },
    "papermill": {
     "duration": 0.023773,
     "end_time": "2023-06-18T20:16:09.688455",
     "exception": false,
     "start_time": "2023-06-18T20:16:09.664682",
     "status": "completed"
    },
    "tags": []
   },
   "outputs": [],
   "source": [
    "# X_train.describe() # 특별히 튀는 값 없이 대부분 10 미만"
   ]
  },
  {
   "cell_type": "markdown",
   "id": "f4b2f19a",
   "metadata": {
    "papermill": {
     "duration": 0.015019,
     "end_time": "2023-06-18T20:16:09.718861",
     "exception": false,
     "start_time": "2023-06-18T20:16:09.703842",
     "status": "completed"
    },
    "tags": []
   },
   "source": [
    "### 2. 이상치 탐색 - 드랍과 스케일링을 다 하기 때문에 패스"
   ]
  },
  {
   "cell_type": "markdown",
   "id": "c7492c19",
   "metadata": {
    "papermill": {
     "duration": 0.014664,
     "end_time": "2023-06-18T20:16:09.748953",
     "exception": false,
     "start_time": "2023-06-18T20:16:09.734289",
     "status": "completed"
    },
    "tags": []
   },
   "source": [
    "### 3. 상관관계 적은 컬럼 드랍 : \n",
    "'Total_EMI_per_month', 'Credit_Utilization_Ratio'"
   ]
  },
  {
   "cell_type": "code",
   "execution_count": 20,
   "id": "215881c0",
   "metadata": {
    "execution": {
     "iopub.execute_input": "2023-06-18T20:16:09.782467Z",
     "iopub.status.busy": "2023-06-18T20:16:09.781542Z",
     "iopub.status.idle": "2023-06-18T20:16:09.790586Z",
     "shell.execute_reply": "2023-06-18T20:16:09.789618Z"
    },
    "papermill": {
     "duration": 0.027688,
     "end_time": "2023-06-18T20:16:09.792382",
     "exception": false,
     "start_time": "2023-06-18T20:16:09.764694",
     "status": "completed"
    },
    "tags": []
   },
   "outputs": [
    {
     "name": "stdout",
     "output_type": "stream",
     "text": [
      "(10000, 20) (10000, 20) (20000, 20)\n"
     ]
    }
   ],
   "source": [
    "# drop 처리 준비\n",
    "df = pd.concat([X_train, X_test], axis = 0)\n",
    "print(X_train.shape, X_test.shape, df.shape)"
   ]
  },
  {
   "cell_type": "code",
   "execution_count": 21,
   "id": "d536879c",
   "metadata": {
    "execution": {
     "iopub.execute_input": "2023-06-18T20:16:09.825373Z",
     "iopub.status.busy": "2023-06-18T20:16:09.824730Z",
     "iopub.status.idle": "2023-06-18T20:16:09.832365Z",
     "shell.execute_reply": "2023-06-18T20:16:09.831293Z"
    },
    "papermill": {
     "duration": 0.026855,
     "end_time": "2023-06-18T20:16:09.834645",
     "exception": false,
     "start_time": "2023-06-18T20:16:09.807790",
     "status": "completed"
    },
    "tags": []
   },
   "outputs": [],
   "source": [
    "df = df.drop(columns = ['Total_EMI_per_month', 'Credit_Utilization_Ratio'])"
   ]
  },
  {
   "cell_type": "code",
   "execution_count": 22,
   "id": "263a0c2b",
   "metadata": {
    "execution": {
     "iopub.execute_input": "2023-06-18T20:16:09.867191Z",
     "iopub.status.busy": "2023-06-18T20:16:09.866636Z",
     "iopub.status.idle": "2023-06-18T20:16:09.872120Z",
     "shell.execute_reply": "2023-06-18T20:16:09.871068Z"
    },
    "papermill": {
     "duration": 0.024337,
     "end_time": "2023-06-18T20:16:09.874199",
     "exception": false,
     "start_time": "2023-06-18T20:16:09.849862",
     "status": "completed"
    },
    "tags": []
   },
   "outputs": [
    {
     "name": "stdout",
     "output_type": "stream",
     "text": [
      "(10000, 18) (10000, 18) (20000, 18)\n"
     ]
    }
   ],
   "source": [
    "X_train, X_test = df[:train.shape[0]], df[train.shape[0]:]\n",
    "print(X_train.shape, X_test.shape, df.shape)"
   ]
  },
  {
   "cell_type": "markdown",
   "id": "9d9d9a1f",
   "metadata": {
    "papermill": {
     "duration": 0.014596,
     "end_time": "2023-06-18T20:16:09.904215",
     "exception": false,
     "start_time": "2023-06-18T20:16:09.889619",
     "status": "completed"
    },
    "tags": []
   },
   "source": [
    "### 4. object type 확인 및 전처리"
   ]
  },
  {
   "cell_type": "code",
   "execution_count": 23,
   "id": "467b8aee",
   "metadata": {
    "execution": {
     "iopub.execute_input": "2023-06-18T20:16:09.936284Z",
     "iopub.status.busy": "2023-06-18T20:16:09.935028Z",
     "iopub.status.idle": "2023-06-18T20:16:09.946929Z",
     "shell.execute_reply": "2023-06-18T20:16:09.946072Z"
    },
    "papermill": {
     "duration": 0.03009,
     "end_time": "2023-06-18T20:16:09.949159",
     "exception": false,
     "start_time": "2023-06-18T20:16:09.919069",
     "status": "completed"
    },
    "tags": []
   },
   "outputs": [
    {
     "name": "stdout",
     "output_type": "stream",
     "text": [
      "# Payment_of_Min_Amount\n",
      "NM     1175\n",
      "No     3556\n",
      "Yes    5269\n",
      "Name: Payment_of_Min_Amount, dtype: int64 \n",
      "\n",
      "# Credit_Mix\n",
      "Bad         2389\n",
      "Good        3020\n",
      "Standard    4591\n",
      "Name: Credit_Mix, dtype: int64 \n",
      "\n",
      "# Payment_Behaviour\n",
      "High_spent_Large_value_payments     1627\n",
      "High_spent_Medium_value_payments    2743\n",
      "High_spent_Small_value_payments      637\n",
      "Low_spent_Large_value_payments       556\n",
      "Low_spent_Medium_value_payments     1021\n",
      "Low_spent_Small_value_payments      3416\n",
      "Name: Payment_Behaviour, dtype: int64 \n",
      "\n"
     ]
    }
   ],
   "source": [
    "list_obj = X_train.select_dtypes(include = 'O').columns\n",
    "for i in list_obj:\n",
    "    print('# {}'.format(i))\n",
    "    print(X_train[i].value_counts().sort_index(), '\\n')"
   ]
  },
  {
   "cell_type": "code",
   "execution_count": 24,
   "id": "0f54581d",
   "metadata": {
    "execution": {
     "iopub.execute_input": "2023-06-18T20:16:09.981420Z",
     "iopub.status.busy": "2023-06-18T20:16:09.980497Z",
     "iopub.status.idle": "2023-06-18T20:16:10.006016Z",
     "shell.execute_reply": "2023-06-18T20:16:10.005077Z"
    },
    "papermill": {
     "duration": 0.043387,
     "end_time": "2023-06-18T20:16:10.007812",
     "exception": false,
     "start_time": "2023-06-18T20:16:09.964425",
     "status": "completed"
    },
    "tags": []
   },
   "outputs": [
    {
     "data": {
      "text/html": [
       "<div>\n",
       "<style scoped>\n",
       "    .dataframe tbody tr th:only-of-type {\n",
       "        vertical-align: middle;\n",
       "    }\n",
       "\n",
       "    .dataframe tbody tr th {\n",
       "        vertical-align: top;\n",
       "    }\n",
       "\n",
       "    .dataframe thead th {\n",
       "        text-align: right;\n",
       "    }\n",
       "</style>\n",
       "<table border=\"1\" class=\"dataframe\">\n",
       "  <thead>\n",
       "    <tr style=\"text-align: right;\">\n",
       "      <th></th>\n",
       "      <th>Delay_from_due_date</th>\n",
       "      <th>Num_of_Delayed_Payment</th>\n",
       "      <th>Num_Credit_Inquiries</th>\n",
       "      <th>Credit_History_Age</th>\n",
       "      <th>Payment_of_Min_Amount</th>\n",
       "      <th>Amount_invested_monthly</th>\n",
       "      <th>Monthly_Balance</th>\n",
       "      <th>Credit_Mix</th>\n",
       "      <th>Payment_Behaviour</th>\n",
       "      <th>Age</th>\n",
       "      <th>Annual_Income</th>\n",
       "      <th>Num_Bank_Accounts</th>\n",
       "      <th>Num_Credit_Card</th>\n",
       "      <th>Interest_Rate</th>\n",
       "      <th>Num_of_Loan</th>\n",
       "      <th>Monthly_Inhand_Salary</th>\n",
       "      <th>Changed_Credit_Limit</th>\n",
       "      <th>Outstanding_Debt</th>\n",
       "    </tr>\n",
       "  </thead>\n",
       "  <tbody>\n",
       "    <tr>\n",
       "      <th>2932</th>\n",
       "      <td>0.222222</td>\n",
       "      <td>-0.666667</td>\n",
       "      <td>0.2</td>\n",
       "      <td>-0.261146</td>\n",
       "      <td>Yes</td>\n",
       "      <td>6.158554</td>\n",
       "      <td>5.317609</td>\n",
       "      <td>Standard</td>\n",
       "      <td>High_spent_Medium_value_payments</td>\n",
       "      <td>0.527758</td>\n",
       "      <td>0.208249</td>\n",
       "      <td>1.000000</td>\n",
       "      <td>0.333333</td>\n",
       "      <td>0.307692</td>\n",
       "      <td>0.333333</td>\n",
       "      <td>0.239534</td>\n",
       "      <td>0.939435</td>\n",
       "      <td>7.548219</td>\n",
       "    </tr>\n",
       "    <tr>\n",
       "      <th>1083</th>\n",
       "      <td>-0.944444</td>\n",
       "      <td>-1.111111</td>\n",
       "      <td>-0.2</td>\n",
       "      <td>0.726115</td>\n",
       "      <td>NM</td>\n",
       "      <td>5.366641</td>\n",
       "      <td>5.429587</td>\n",
       "      <td>Good</td>\n",
       "      <td>High_spent_Medium_value_payments</td>\n",
       "      <td>1.180093</td>\n",
       "      <td>-0.874113</td>\n",
       "      <td>-0.333333</td>\n",
       "      <td>0.000000</td>\n",
       "      <td>-0.692308</td>\n",
       "      <td>-0.333333</td>\n",
       "      <td>-0.786613</td>\n",
       "      <td>0.134831</td>\n",
       "      <td>6.319833</td>\n",
       "    </tr>\n",
       "    <tr>\n",
       "      <th>155</th>\n",
       "      <td>0.222222</td>\n",
       "      <td>-0.555556</td>\n",
       "      <td>0.0</td>\n",
       "      <td>0.796178</td>\n",
       "      <td>No</td>\n",
       "      <td>5.193285</td>\n",
       "      <td>6.549548</td>\n",
       "      <td>Standard</td>\n",
       "      <td>High_spent_Large_value_payments</td>\n",
       "      <td>-1.056484</td>\n",
       "      <td>1.505055</td>\n",
       "      <td>0.666667</td>\n",
       "      <td>0.000000</td>\n",
       "      <td>-0.461538</td>\n",
       "      <td>0.333333</td>\n",
       "      <td>1.511326</td>\n",
       "      <td>-0.675253</td>\n",
       "      <td>7.034731</td>\n",
       "    </tr>\n",
       "    <tr>\n",
       "      <th>4399</th>\n",
       "      <td>0.777778</td>\n",
       "      <td>-0.444444</td>\n",
       "      <td>-0.6</td>\n",
       "      <td>0.528662</td>\n",
       "      <td>Yes</td>\n",
       "      <td>3.662022</td>\n",
       "      <td>5.999019</td>\n",
       "      <td>Standard</td>\n",
       "      <td>High_spent_Medium_value_payments</td>\n",
       "      <td>-0.683722</td>\n",
       "      <td>-0.611535</td>\n",
       "      <td>0.666667</td>\n",
       "      <td>0.666667</td>\n",
       "      <td>-0.461538</td>\n",
       "      <td>0.333333</td>\n",
       "      <td>-0.522043</td>\n",
       "      <td>0.641272</td>\n",
       "      <td>6.056854</td>\n",
       "    </tr>\n",
       "    <tr>\n",
       "      <th>8858</th>\n",
       "      <td>-0.888889</td>\n",
       "      <td>0.444444</td>\n",
       "      <td>-1.2</td>\n",
       "      <td>0.375796</td>\n",
       "      <td>Yes</td>\n",
       "      <td>5.957694</td>\n",
       "      <td>5.624471</td>\n",
       "      <td>Standard</td>\n",
       "      <td>Low_spent_Medium_value_payments</td>\n",
       "      <td>1.180093</td>\n",
       "      <td>0.013853</td>\n",
       "      <td>-0.666667</td>\n",
       "      <td>0.333333</td>\n",
       "      <td>0.307692</td>\n",
       "      <td>-0.666667</td>\n",
       "      <td>-0.008388</td>\n",
       "      <td>-0.329953</td>\n",
       "      <td>6.189721</td>\n",
       "    </tr>\n",
       "    <tr>\n",
       "      <th>7601</th>\n",
       "      <td>2.277778</td>\n",
       "      <td>0.333333</td>\n",
       "      <td>1.4</td>\n",
       "      <td>-0.133758</td>\n",
       "      <td>Yes</td>\n",
       "      <td>3.339511</td>\n",
       "      <td>5.689595</td>\n",
       "      <td>Bad</td>\n",
       "      <td>Low_spent_Large_value_payments</td>\n",
       "      <td>0.620948</td>\n",
       "      <td>-1.078788</td>\n",
       "      <td>1.333333</td>\n",
       "      <td>0.333333</td>\n",
       "      <td>1.538462</td>\n",
       "      <td>0.666667</td>\n",
       "      <td>-1.065928</td>\n",
       "      <td>-0.943820</td>\n",
       "      <td>7.827022</td>\n",
       "    </tr>\n",
       "    <tr>\n",
       "      <th>205</th>\n",
       "      <td>2.055556</td>\n",
       "      <td>-0.111111</td>\n",
       "      <td>0.6</td>\n",
       "      <td>-0.821656</td>\n",
       "      <td>Yes</td>\n",
       "      <td>4.066978</td>\n",
       "      <td>5.806702</td>\n",
       "      <td>Standard</td>\n",
       "      <td>Low_spent_Small_value_payments</td>\n",
       "      <td>0.807330</td>\n",
       "      <td>-0.881317</td>\n",
       "      <td>1.000000</td>\n",
       "      <td>0.666667</td>\n",
       "      <td>0.769231</td>\n",
       "      <td>-0.333333</td>\n",
       "      <td>-0.928602</td>\n",
       "      <td>-0.005481</td>\n",
       "      <td>7.694598</td>\n",
       "    </tr>\n",
       "    <tr>\n",
       "      <th>468</th>\n",
       "      <td>-0.777778</td>\n",
       "      <td>-1.555556</td>\n",
       "      <td>-1.2</td>\n",
       "      <td>0.681529</td>\n",
       "      <td>No</td>\n",
       "      <td>5.075302</td>\n",
       "      <td>7.030949</td>\n",
       "      <td>Good</td>\n",
       "      <td>High_spent_Large_value_payments</td>\n",
       "      <td>1.552855</td>\n",
       "      <td>3.231169</td>\n",
       "      <td>-0.333333</td>\n",
       "      <td>-0.333333</td>\n",
       "      <td>-0.846154</td>\n",
       "      <td>0.333333</td>\n",
       "      <td>3.254047</td>\n",
       "      <td>-0.751987</td>\n",
       "      <td>6.982083</td>\n",
       "    </tr>\n",
       "    <tr>\n",
       "      <th>5788</th>\n",
       "      <td>-0.111111</td>\n",
       "      <td>-0.111111</td>\n",
       "      <td>0.4</td>\n",
       "      <td>1.050955</td>\n",
       "      <td>Yes</td>\n",
       "      <td>5.331718</td>\n",
       "      <td>5.666288</td>\n",
       "      <td>Standard</td>\n",
       "      <td>Low_spent_Small_value_payments</td>\n",
       "      <td>0.341376</td>\n",
       "      <td>-0.649422</td>\n",
       "      <td>-0.666667</td>\n",
       "      <td>-0.333333</td>\n",
       "      <td>0.461538</td>\n",
       "      <td>-1.000000</td>\n",
       "      <td>-0.644065</td>\n",
       "      <td>0.281721</td>\n",
       "      <td>6.636183</td>\n",
       "    </tr>\n",
       "    <tr>\n",
       "      <th>4839</th>\n",
       "      <td>2.333333</td>\n",
       "      <td>0.888889</td>\n",
       "      <td>0.4</td>\n",
       "      <td>-0.114650</td>\n",
       "      <td>NM</td>\n",
       "      <td>5.844795</td>\n",
       "      <td>4.482362</td>\n",
       "      <td>Bad</td>\n",
       "      <td>High_spent_Large_value_payments</td>\n",
       "      <td>0.527758</td>\n",
       "      <td>-0.467564</td>\n",
       "      <td>0.666667</td>\n",
       "      <td>1.666667</td>\n",
       "      <td>0.461538</td>\n",
       "      <td>2.000000</td>\n",
       "      <td>-0.423502</td>\n",
       "      <td>-0.727871</td>\n",
       "      <td>7.339882</td>\n",
       "    </tr>\n",
       "  </tbody>\n",
       "</table>\n",
       "</div>"
      ],
      "text/plain": [
       "      Delay_from_due_date  Num_of_Delayed_Payment  Num_Credit_Inquiries  \\\n",
       "2932             0.222222               -0.666667                   0.2   \n",
       "1083            -0.944444               -1.111111                  -0.2   \n",
       "155              0.222222               -0.555556                   0.0   \n",
       "4399             0.777778               -0.444444                  -0.6   \n",
       "8858            -0.888889                0.444444                  -1.2   \n",
       "7601             2.277778                0.333333                   1.4   \n",
       "205              2.055556               -0.111111                   0.6   \n",
       "468             -0.777778               -1.555556                  -1.2   \n",
       "5788            -0.111111               -0.111111                   0.4   \n",
       "4839             2.333333                0.888889                   0.4   \n",
       "\n",
       "      Credit_History_Age Payment_of_Min_Amount  Amount_invested_monthly  \\\n",
       "2932           -0.261146                   Yes                 6.158554   \n",
       "1083            0.726115                    NM                 5.366641   \n",
       "155             0.796178                    No                 5.193285   \n",
       "4399            0.528662                   Yes                 3.662022   \n",
       "8858            0.375796                   Yes                 5.957694   \n",
       "7601           -0.133758                   Yes                 3.339511   \n",
       "205            -0.821656                   Yes                 4.066978   \n",
       "468             0.681529                    No                 5.075302   \n",
       "5788            1.050955                   Yes                 5.331718   \n",
       "4839           -0.114650                    NM                 5.844795   \n",
       "\n",
       "      Monthly_Balance Credit_Mix                 Payment_Behaviour       Age  \\\n",
       "2932         5.317609   Standard  High_spent_Medium_value_payments  0.527758   \n",
       "1083         5.429587       Good  High_spent_Medium_value_payments  1.180093   \n",
       "155          6.549548   Standard   High_spent_Large_value_payments -1.056484   \n",
       "4399         5.999019   Standard  High_spent_Medium_value_payments -0.683722   \n",
       "8858         5.624471   Standard   Low_spent_Medium_value_payments  1.180093   \n",
       "7601         5.689595        Bad    Low_spent_Large_value_payments  0.620948   \n",
       "205          5.806702   Standard    Low_spent_Small_value_payments  0.807330   \n",
       "468          7.030949       Good   High_spent_Large_value_payments  1.552855   \n",
       "5788         5.666288   Standard    Low_spent_Small_value_payments  0.341376   \n",
       "4839         4.482362        Bad   High_spent_Large_value_payments  0.527758   \n",
       "\n",
       "      Annual_Income  Num_Bank_Accounts  Num_Credit_Card  Interest_Rate  \\\n",
       "2932       0.208249           1.000000         0.333333       0.307692   \n",
       "1083      -0.874113          -0.333333         0.000000      -0.692308   \n",
       "155        1.505055           0.666667         0.000000      -0.461538   \n",
       "4399      -0.611535           0.666667         0.666667      -0.461538   \n",
       "8858       0.013853          -0.666667         0.333333       0.307692   \n",
       "7601      -1.078788           1.333333         0.333333       1.538462   \n",
       "205       -0.881317           1.000000         0.666667       0.769231   \n",
       "468        3.231169          -0.333333        -0.333333      -0.846154   \n",
       "5788      -0.649422          -0.666667        -0.333333       0.461538   \n",
       "4839      -0.467564           0.666667         1.666667       0.461538   \n",
       "\n",
       "      Num_of_Loan  Monthly_Inhand_Salary  Changed_Credit_Limit  \\\n",
       "2932     0.333333               0.239534              0.939435   \n",
       "1083    -0.333333              -0.786613              0.134831   \n",
       "155      0.333333               1.511326             -0.675253   \n",
       "4399     0.333333              -0.522043              0.641272   \n",
       "8858    -0.666667              -0.008388             -0.329953   \n",
       "7601     0.666667              -1.065928             -0.943820   \n",
       "205     -0.333333              -0.928602             -0.005481   \n",
       "468      0.333333               3.254047             -0.751987   \n",
       "5788    -1.000000              -0.644065              0.281721   \n",
       "4839     2.000000              -0.423502             -0.727871   \n",
       "\n",
       "      Outstanding_Debt  \n",
       "2932          7.548219  \n",
       "1083          6.319833  \n",
       "155           7.034731  \n",
       "4399          6.056854  \n",
       "8858          6.189721  \n",
       "7601          7.827022  \n",
       "205           7.694598  \n",
       "468           6.982083  \n",
       "5788          6.636183  \n",
       "4839          7.339882  "
      ]
     },
     "execution_count": 24,
     "metadata": {},
     "output_type": "execute_result"
    }
   ],
   "source": [
    "X_train.sample(10)"
   ]
  },
  {
   "cell_type": "code",
   "execution_count": 25,
   "id": "e344e54a",
   "metadata": {
    "execution": {
     "iopub.execute_input": "2023-06-18T20:16:10.048120Z",
     "iopub.status.busy": "2023-06-18T20:16:10.047558Z",
     "iopub.status.idle": "2023-06-18T20:16:10.051966Z",
     "shell.execute_reply": "2023-06-18T20:16:10.051324Z"
    },
    "papermill": {
     "duration": 0.027573,
     "end_time": "2023-06-18T20:16:10.053748",
     "exception": false,
     "start_time": "2023-06-18T20:16:10.026175",
     "status": "completed"
    },
    "tags": []
   },
   "outputs": [],
   "source": [
    "# 각각 어떤 레이블로 인코딩 하는게 좋을지 정하여 수동 레이블링이 필요해보인다. 좋고 나쁨의 등급이 있기 때문.\n",
    "\n",
    "# Payment_of_Min_Amount : 급액 상환 최소 금액이 있는가 없는 가 인 것 같다. 있다면 성실할 가능성이 높다. \n",
    "# 그러나 없어도 상환을 한번에 많이 할 수도 있으며, NM의 의미를 모르기 때문에 원핫 인코딩이 필요해보인다.\n",
    "\n",
    "# Credit_Mix : Bad, Standard, Good 에 따라 -1, 1, 2로 라벨 인코딩 하도록 한다. \n",
    "# Standard와 Good은 어느정도의 차이가 있겠지만,신용에서 나쁜 것은 더 큰 차이가 있기 때문.\n",
    "\n",
    "# Payment_Behaviour : 소비 유형과 납입의 크기에 따라 정해둔 것 같다. \n",
    "# 소비와 관련하여 따로 있지는 않지만, 다중공선성을 일으킬 가능성이 있기 때문에,\n",
    "# 없는 채로 하고, low우선 다음 large 우선으로 라벨인코딩을 진행하여 한번 더 하면 좋을 수 있겠다."
   ]
  },
  {
   "cell_type": "code",
   "execution_count": 26,
   "id": "08e0d123",
   "metadata": {
    "execution": {
     "iopub.execute_input": "2023-06-18T20:16:10.088566Z",
     "iopub.status.busy": "2023-06-18T20:16:10.087965Z",
     "iopub.status.idle": "2023-06-18T20:16:10.105074Z",
     "shell.execute_reply": "2023-06-18T20:16:10.104116Z"
    },
    "papermill": {
     "duration": 0.035748,
     "end_time": "2023-06-18T20:16:10.106794",
     "exception": false,
     "start_time": "2023-06-18T20:16:10.071046",
     "status": "completed"
    },
    "tags": []
   },
   "outputs": [
    {
     "name": "stdout",
     "output_type": "stream",
     "text": [
      "(10000, 18) (10000, 18) (20000, 18)\n",
      "(10000, 17) (10000, 17) (20000, 17)\n"
     ]
    }
   ],
   "source": [
    "# Payment_Behaviour의 범주별 Credit_Score\n",
    "train.groupby(['Payment_Behaviour'])[['Credit_Score']].mean()\n",
    "\n",
    "# High spent가 credit score가 더 높다\n",
    "# 순서가 HL, HM, LL, HS, LM, LS 순이다.\n",
    "# 크게 차이가 나지는 않지만 아무래도 차이가 있는 것으로 보이긴 한다.\n",
    "\n",
    "# 라벨인코딩을 하되, 일정한 차이를 가지도록 하며\n",
    "# 라벨인코딩 시 인코딩 후 민맥스 스케일링을 진행한다.\n",
    "# High_spent_Large_value_payments : 3\n",
    "# High_spent_Medium_value_payments : 2\n",
    "# High_spent_Small_value_payments : 1\n",
    "# Low_spent_Large_value_payments : 2\n",
    "# Low_spent_Medium_value_payments : 1\n",
    "# Low_spent_Medium_value_payments : 0\n",
    "\n",
    "# 여기서는 어차피 2 언저리에서 큰 차이를 보이는 것 같지 않으니 드랍하기로 한다.\n",
    "# 만약 성능이 안나오면 인코딩 코드를 진행하려한다.\n",
    "df = pd.concat([X_train, X_test], axis = 0)\n",
    "print(X_train.shape, X_test.shape, df.shape)\n",
    "df = df.drop(columns = ['Payment_Behaviour'])\n",
    "X_train, X_test = df[:train.shape[0]], df[train.shape[0]:]\n",
    "print(X_train.shape, X_test.shape, df.shape)"
   ]
  },
  {
   "cell_type": "code",
   "execution_count": 27,
   "id": "373b051f",
   "metadata": {
    "execution": {
     "iopub.execute_input": "2023-06-18T20:16:10.142670Z",
     "iopub.status.busy": "2023-06-18T20:16:10.142175Z",
     "iopub.status.idle": "2023-06-18T20:16:10.157385Z",
     "shell.execute_reply": "2023-06-18T20:16:10.156617Z"
    },
    "papermill": {
     "duration": 0.036524,
     "end_time": "2023-06-18T20:16:10.159161",
     "exception": false,
     "start_time": "2023-06-18T20:16:10.122637",
     "status": "completed"
    },
    "tags": []
   },
   "outputs": [
    {
     "data": {
      "text/html": [
       "<div>\n",
       "<style scoped>\n",
       "    .dataframe tbody tr th:only-of-type {\n",
       "        vertical-align: middle;\n",
       "    }\n",
       "\n",
       "    .dataframe tbody tr th {\n",
       "        vertical-align: top;\n",
       "    }\n",
       "\n",
       "    .dataframe thead th {\n",
       "        text-align: right;\n",
       "    }\n",
       "</style>\n",
       "<table border=\"1\" class=\"dataframe\">\n",
       "  <thead>\n",
       "    <tr style=\"text-align: right;\">\n",
       "      <th></th>\n",
       "      <th></th>\n",
       "      <th>Credit_Score</th>\n",
       "    </tr>\n",
       "    <tr>\n",
       "      <th>Credit_Mix</th>\n",
       "      <th>Payment_of_Min_Amount</th>\n",
       "      <th></th>\n",
       "    </tr>\n",
       "  </thead>\n",
       "  <tbody>\n",
       "    <tr>\n",
       "      <th rowspan=\"2\" valign=\"top\">Bad</th>\n",
       "      <th>NM</th>\n",
       "      <td>1.396429</td>\n",
       "    </tr>\n",
       "    <tr>\n",
       "      <th>Yes</th>\n",
       "      <td>1.410621</td>\n",
       "    </tr>\n",
       "    <tr>\n",
       "      <th rowspan=\"2\" valign=\"top\">Good</th>\n",
       "      <th>NM</th>\n",
       "      <td>2.358639</td>\n",
       "    </tr>\n",
       "    <tr>\n",
       "      <th>No</th>\n",
       "      <td>2.316149</td>\n",
       "    </tr>\n",
       "    <tr>\n",
       "      <th rowspan=\"3\" valign=\"top\">Standard</th>\n",
       "      <th>NM</th>\n",
       "      <td>1.836257</td>\n",
       "    </tr>\n",
       "    <tr>\n",
       "      <th>No</th>\n",
       "      <td>2.017429</td>\n",
       "    </tr>\n",
       "    <tr>\n",
       "      <th>Yes</th>\n",
       "      <td>1.783544</td>\n",
       "    </tr>\n",
       "  </tbody>\n",
       "</table>\n",
       "</div>"
      ],
      "text/plain": [
       "                                  Credit_Score\n",
       "Credit_Mix Payment_of_Min_Amount              \n",
       "Bad        NM                         1.396429\n",
       "           Yes                        1.410621\n",
       "Good       NM                         2.358639\n",
       "           No                         2.316149\n",
       "Standard   NM                         1.836257\n",
       "           No                         2.017429\n",
       "           Yes                        1.783544"
      ]
     },
     "execution_count": 27,
     "metadata": {},
     "output_type": "execute_result"
    }
   ],
   "source": [
    "# 각 범주에 따른 신용점수 평균\n",
    "train.groupby(['Credit_Mix', 'Payment_of_Min_Amount'])[['Credit_Score']].mean()"
   ]
  },
  {
   "cell_type": "code",
   "execution_count": 28,
   "id": "f2d54a64",
   "metadata": {
    "execution": {
     "iopub.execute_input": "2023-06-18T20:16:10.192240Z",
     "iopub.status.busy": "2023-06-18T20:16:10.191588Z",
     "iopub.status.idle": "2023-06-18T20:16:10.207398Z",
     "shell.execute_reply": "2023-06-18T20:16:10.206133Z"
    },
    "papermill": {
     "duration": 0.034277,
     "end_time": "2023-06-18T20:16:10.209229",
     "exception": false,
     "start_time": "2023-06-18T20:16:10.174952",
     "status": "completed"
    },
    "tags": []
   },
   "outputs": [
    {
     "name": "stdout",
     "output_type": "stream",
     "text": [
      "(10000, 17) (10000, 17) (20000, 17)\n",
      "(10000, 16) (10000, 16) (20000, 16)\n"
     ]
    },
    {
     "name": "stderr",
     "output_type": "stream",
     "text": [
      "/tmp/ipykernel_20/4228366315.py:5: FutureWarning: The default value of numeric_only in DataFrameGroupBy.mean is deprecated. In a future version, numeric_only will default to False. Either specify numeric_only or select only columns which should be valid for the function.\n",
      "  train.groupby('Payment_of_Min_Amount')[temp].mean()\n"
     ]
    }
   ],
   "source": [
    "# 'Payment_of_Min_Amount' 에 대해\n",
    "# Yes와 No는 극명한 차이가 있음. 크레딧 믹스가 좋은 사람은 Yes가 없음. 최소한 매달 꼭 값으라고 정해진게 없다는 말인 거 같음.\n",
    "# 'NM은 뭘까'\n",
    "temp = ['Delay_from_due_date', 'Num_of_Delayed_Payment', 'Num_Credit_Inquiries', 'Credit_Utilization_Ratio', 'Credit_History_Age', 'Amount_invested_monthly', 'Monthly_Balance', 'Credit_Score', 'Credit_Mix', 'Payment_Behaviour', 'Age', 'Annual_Income', 'Num_Bank_Accounts', 'Num_Credit_Card', 'Interest_Rate', 'Num_of_Loan', 'Monthly_Inhand_Salary', 'Changed_Credit_Limit', 'Outstanding_Debt', 'Total_EMI_per_month']\n",
    "train.groupby('Payment_of_Min_Amount')[temp].mean()\n",
    "\n",
    "\n",
    "# 전체적으로 Yes 인 사람들에게 더 까가움. 나쁜 지표든 좋은 지표든 No 와의 차이보다 Yes 와의 차이가 더 큼\n",
    "# 그렇다면 이렇게 할 수 있을 것으로 생각됨.\n",
    "# Yes = 0\n",
    "# NM = 0.75\n",
    "# No = 1\n",
    "\n",
    "# 그러나 이마저도, 다른 지표들로 어느정도 구분된다는 것 자체가 굳이 넣을 필요가 없다고 생각됨.\n",
    "# 그리고 의미상 신용 등급 자체가 이 지표를 만들어낼 가능성이 높다고 생각함.\n",
    "# drop\n",
    "df = pd.concat([X_train, X_test], axis = 0)\n",
    "print(X_train.shape, X_test.shape, df.shape)\n",
    "df = df.drop(columns = ['Payment_of_Min_Amount'])\n",
    "X_train, X_test = df[:train.shape[0]], df[train.shape[0]:]\n",
    "print(X_train.shape, X_test.shape, df.shape)"
   ]
  },
  {
   "cell_type": "code",
   "execution_count": 29,
   "id": "ec137c9b",
   "metadata": {
    "execution": {
     "iopub.execute_input": "2023-06-18T20:16:10.244591Z",
     "iopub.status.busy": "2023-06-18T20:16:10.244013Z",
     "iopub.status.idle": "2023-06-18T20:16:10.267463Z",
     "shell.execute_reply": "2023-06-18T20:16:10.266117Z"
    },
    "papermill": {
     "duration": 0.045443,
     "end_time": "2023-06-18T20:16:10.270504",
     "exception": false,
     "start_time": "2023-06-18T20:16:10.225061",
     "status": "completed"
    },
    "tags": []
   },
   "outputs": [
    {
     "name": "stdout",
     "output_type": "stream",
     "text": [
      "(10000, 16) (10000, 16) (20000, 16)\n",
      "Standard    9181\n",
      "Good        6100\n",
      "Bad         4719\n",
      "Name: Credit_Mix, dtype: int64\n",
      "1    9181\n",
      "2    6100\n",
      "0    4719\n",
      "Name: Credit_Mix, dtype: int64\n",
      "(10000, 16) (10000, 16) (20000, 16)\n"
     ]
    }
   ],
   "source": [
    "# 'Credit_Mix'에 대하여 \n",
    "# Bad 인 사람들은 NM과 Yes 만 있고 신용점수도 평균 1.5가 되지 않는다\n",
    "# Good 인 사람들은 NM과 No 만 있고 신용점수가 평균 2.3이다\n",
    "# Standard 인 사람들은 중간으로, NM, No, Yes 다 있으며, Yes 는 1.783, NM 은 1.836, No 는 2.017 로  약간의 차이를 보이고 있다.\n",
    "\n",
    "# 만약 아래처럼 단적으로 본다면 차이가 극명하다. 거의 0.5씩 상승하는 것을 볼 수 있다.\n",
    "train.groupby(['Credit_Mix'])[['Credit_Score']].mean()\n",
    "# Credit_Mix Credit_Score\n",
    "# Bad\t1.408958\n",
    "# Good\t2.321523\n",
    "# Standard\t1.836201\n",
    "\n",
    "# 따라서 이들은 라벨인코딩을 진행한다\n",
    "# Bad : 0\n",
    "# Standard : 1\n",
    "# Good : 2\n",
    "\n",
    "# 데이터 셋 합치기\n",
    "df = pd.concat([X_train, X_test], axis = 0)\n",
    "\n",
    "# 바꾸기 전 확인\n",
    "print(X_train.shape, X_test.shape, df.shape)\n",
    "print(df['Credit_Mix'].value_counts())\n",
    "# 딕셔너리 만들어 대체\n",
    "creditmix_dict = {'Bad': 0, 'Standard': 1, 'Good': 2}\n",
    "df['Credit_Mix'] = df['Credit_Mix'].replace(creditmix_dict)\n",
    "# 바꾼 후 확인\n",
    "print(df['Credit_Mix'].replace(creditmix_dict).value_counts())\n",
    "\n",
    "# 데이터셋 분리\n",
    "X_train, X_test = df[:train.shape[0]], df[train.shape[0]:]\n",
    "print(X_train.shape, X_test.shape, df.shape)"
   ]
  },
  {
   "cell_type": "code",
   "execution_count": 30,
   "id": "8911c6cd",
   "metadata": {
    "execution": {
     "iopub.execute_input": "2023-06-18T20:16:10.308843Z",
     "iopub.status.busy": "2023-06-18T20:16:10.308247Z",
     "iopub.status.idle": "2023-06-18T20:16:10.311961Z",
     "shell.execute_reply": "2023-06-18T20:16:10.311251Z"
    },
    "papermill": {
     "duration": 0.025888,
     "end_time": "2023-06-18T20:16:10.313647",
     "exception": false,
     "start_time": "2023-06-18T20:16:10.287759",
     "status": "completed"
    },
    "tags": []
   },
   "outputs": [],
   "source": [
    "# 트레인 데이터가 다 준비되었는지 보자.\n",
    "\n",
    "# df = pd.concat([X_train, X_test], axis = 0)\n",
    "\n",
    "# df.info()\n",
    "\n",
    "# df.describe()\n",
    "\n",
    "# 다 된 것 같다."
   ]
  },
  {
   "cell_type": "markdown",
   "id": "d33009b7",
   "metadata": {
    "papermill": {
     "duration": 0.016581,
     "end_time": "2023-06-18T20:16:10.346682",
     "exception": false,
     "start_time": "2023-06-18T20:16:10.330101",
     "status": "completed"
    },
    "tags": []
   },
   "source": [
    "### 5. 타겟 데이터 확인"
   ]
  },
  {
   "cell_type": "code",
   "execution_count": 31,
   "id": "efc3f3ef",
   "metadata": {
    "execution": {
     "iopub.execute_input": "2023-06-18T20:16:10.381798Z",
     "iopub.status.busy": "2023-06-18T20:16:10.381046Z",
     "iopub.status.idle": "2023-06-18T20:16:10.390252Z",
     "shell.execute_reply": "2023-06-18T20:16:10.388951Z"
    },
    "papermill": {
     "duration": 0.028133,
     "end_time": "2023-06-18T20:16:10.392003",
     "exception": false,
     "start_time": "2023-06-18T20:16:10.363870",
     "status": "completed"
    },
    "tags": []
   },
   "outputs": [
    {
     "name": "stdout",
     "output_type": "stream",
     "text": [
      "2    5237\n",
      "1    2978\n",
      "3    1785\n",
      "Name: Credit_Score, dtype: int64\n",
      "1    5237\n",
      "0    2978\n",
      "2    1785\n",
      "Name: Credit_Score, dtype: int64\n"
     ]
    }
   ],
   "source": [
    "print(y_train.value_counts())\n",
    "\n",
    "# 2    5237\n",
    "# 1    2978\n",
    "# 3    1785\n",
    "\n",
    "# 어느정도 불균형이 있지만 쉽게 적은 데이터가 17%면 아주 작은 편도 아니기 때문에 분류를 바로 진행하도록 한다.\n",
    "\n",
    "# 타깃 데이터 인코딩\n",
    "target_encoding = {1:0, 2:1, 3:2}\n",
    "y_train = y_train.replace(target_encoding)\n",
    "print(y_train.value_counts())"
   ]
  },
  {
   "cell_type": "markdown",
   "id": "41fae163",
   "metadata": {
    "papermill": {
     "duration": 0.01524,
     "end_time": "2023-06-18T20:16:10.423362",
     "exception": false,
     "start_time": "2023-06-18T20:16:10.408122",
     "status": "completed"
    },
    "tags": []
   },
   "source": [
    "## validation 데이터 나누기"
   ]
  },
  {
   "cell_type": "code",
   "execution_count": 32,
   "id": "7dcc0bdf",
   "metadata": {
    "execution": {
     "iopub.execute_input": "2023-06-18T20:16:10.457094Z",
     "iopub.status.busy": "2023-06-18T20:16:10.456495Z",
     "iopub.status.idle": "2023-06-18T20:16:10.572180Z",
     "shell.execute_reply": "2023-06-18T20:16:10.571308Z"
    },
    "papermill": {
     "duration": 0.135221,
     "end_time": "2023-06-18T20:16:10.574320",
     "exception": false,
     "start_time": "2023-06-18T20:16:10.439099",
     "status": "completed"
    },
    "tags": []
   },
   "outputs": [
    {
     "name": "stdout",
     "output_type": "stream",
     "text": [
      "(8000, 16) (2000, 16) (8000,) (2000,)\n"
     ]
    }
   ],
   "source": [
    "from sklearn.model_selection import train_test_split\n",
    "\n",
    "# help(train_test_split)\n",
    "# train_test_split(*arrays, test_size=None, train_size=None, random_state=None, shuffle=True, stratify=None)\n",
    "\n",
    "X_tr, X_val, y_tr, y_val = train_test_split(X_train, y_train, test_size = 0.2, random_state = 617)\n",
    "print(X_tr.shape, X_val.shape, y_tr.shape, y_val.shape)"
   ]
  },
  {
   "cell_type": "markdown",
   "id": "b4ff2488",
   "metadata": {
    "papermill": {
     "duration": 0.016125,
     "end_time": "2023-06-18T20:16:10.606699",
     "exception": false,
     "start_time": "2023-06-18T20:16:10.590574",
     "status": "completed"
    },
    "tags": []
   },
   "source": [
    "## 모델링"
   ]
  },
  {
   "cell_type": "markdown",
   "id": "891c8ad8",
   "metadata": {
    "papermill": {
     "duration": 0.016123,
     "end_time": "2023-06-18T20:16:10.638914",
     "exception": false,
     "start_time": "2023-06-18T20:16:10.622791",
     "status": "completed"
    },
    "tags": []
   },
   "source": [
    "### 지표 관련 \n",
    "\n",
    "macro_f1_score?\n",
    "\n",
    "f1 score 에서 설정할 수 있음"
   ]
  },
  {
   "cell_type": "code",
   "execution_count": 33,
   "id": "07e7e780",
   "metadata": {
    "execution": {
     "iopub.execute_input": "2023-06-18T20:16:10.675008Z",
     "iopub.status.busy": "2023-06-18T20:16:10.674435Z",
     "iopub.status.idle": "2023-06-18T20:16:11.202480Z",
     "shell.execute_reply": "2023-06-18T20:16:11.201545Z"
    },
    "papermill": {
     "duration": 0.547813,
     "end_time": "2023-06-18T20:16:11.204602",
     "exception": false,
     "start_time": "2023-06-18T20:16:10.656789",
     "status": "completed"
    },
    "tags": []
   },
   "outputs": [],
   "source": [
    "# 모델 라이브러리\n",
    "from sklearn.ensemble import RandomForestClassifier\n",
    "from sklearn.ensemble import GradientBoostingClassifier\n",
    "from xgboost import XGBClassifier, XGBRFClassifier\n",
    "\n",
    "# 성능 지표\n",
    "from sklearn.metrics import f1_score, roc_auc_score, accuracy_score, confusion_matrix"
   ]
  },
  {
   "cell_type": "markdown",
   "id": "bc5c80a9",
   "metadata": {
    "papermill": {
     "duration": 0.015988,
     "end_time": "2023-06-18T20:16:11.237413",
     "exception": false,
     "start_time": "2023-06-18T20:16:11.221425",
     "status": "completed"
    },
    "tags": []
   },
   "source": [
    " ```\n",
    " |  class_weight : {\"balanced\", \"balanced_subsample\"}, dict or list of dicts,             default=None\n",
    " |      Weights associated with classes in the form ``{class_label: weight}``.\n",
    " |      If not given, all classes are supposed to have weight one. For\n",
    " |      multi-output problems, a list of dicts can be provided in the same\n",
    " |      order as the columns of y.\n",
    " ```"
   ]
  },
  {
   "cell_type": "code",
   "execution_count": 34,
   "id": "eb166577",
   "metadata": {
    "execution": {
     "iopub.execute_input": "2023-06-18T20:16:11.271963Z",
     "iopub.status.busy": "2023-06-18T20:16:11.271618Z",
     "iopub.status.idle": "2023-06-18T20:16:13.906985Z",
     "shell.execute_reply": "2023-06-18T20:16:13.905529Z"
    },
    "papermill": {
     "duration": 2.655188,
     "end_time": "2023-06-18T20:16:13.909145",
     "exception": false,
     "start_time": "2023-06-18T20:16:11.253957",
     "status": "completed"
    },
    "tags": []
   },
   "outputs": [
    {
     "data": {
      "text/plain": [
       "array([0, 2, 1, ..., 1, 1, 1])"
      ]
     },
     "execution_count": 34,
     "metadata": {},
     "output_type": "execute_result"
    }
   ],
   "source": [
    "# 랜덤포레스트1\n",
    "\n",
    "# help(RandomForestClassifier)\n",
    "rfc = RandomForestClassifier(class_weight = {0:0.3, 1:0.4, 2:0.3}, random_state = 617)\n",
    "rfc.fit(X_tr, y_tr)\n",
    "pred_rfc = rfc.predict(X_val)\n",
    "pred_rfc"
   ]
  },
  {
   "cell_type": "code",
   "execution_count": 35,
   "id": "f9a355d9",
   "metadata": {
    "execution": {
     "iopub.execute_input": "2023-06-18T20:16:13.944053Z",
     "iopub.status.busy": "2023-06-18T20:16:13.943711Z",
     "iopub.status.idle": "2023-06-18T20:16:13.954321Z",
     "shell.execute_reply": "2023-06-18T20:16:13.953276Z"
    },
    "papermill": {
     "duration": 0.030589,
     "end_time": "2023-06-18T20:16:13.956134",
     "exception": false,
     "start_time": "2023-06-18T20:16:13.925545",
     "status": "completed"
    },
    "tags": []
   },
   "outputs": [
    {
     "name": "stdout",
     "output_type": "stream",
     "text": [
      "f1score:  0.7149725785781892\n",
      "[[449 134  30]\n",
      " [137 780 112]\n",
      " [ 12 109 237]]\n",
      "accuracy:  0.733\n"
     ]
    }
   ],
   "source": [
    "# 랜덤포레스트1 검증\n",
    "\n",
    "print('f1score: ', f1_score(y_val, pred_rfc, average = 'macro'))\n",
    "print(confusion_matrix(y_val, pred_rfc))\n",
    "# print('auc: ', roc_auc_score(y_val, pred_rfc, multi_class = 'ovo')) # 잘 안돼서 뺌\n",
    "print('accuracy: ', accuracy_score(y_val, pred_rfc))\n",
    "\n",
    "\n",
    "# 0.7149725785781892\n",
    "# [[449 134  30]\n",
    "#  [137 780 112]\n",
    "#  [ 12 109 237]]\n",
    "# accuracy:  0.733"
   ]
  },
  {
   "cell_type": "code",
   "execution_count": 36,
   "id": "5c62feb6",
   "metadata": {
    "execution": {
     "iopub.execute_input": "2023-06-18T20:16:13.991542Z",
     "iopub.status.busy": "2023-06-18T20:16:13.990490Z",
     "iopub.status.idle": "2023-06-18T20:16:16.564086Z",
     "shell.execute_reply": "2023-06-18T20:16:16.562773Z"
    },
    "papermill": {
     "duration": 2.593019,
     "end_time": "2023-06-18T20:16:16.565841",
     "exception": false,
     "start_time": "2023-06-18T20:16:13.972822",
     "status": "completed"
    },
    "tags": []
   },
   "outputs": [
    {
     "data": {
      "text/plain": [
       "array([0, 1, 2, ..., 1, 1, 1])"
      ]
     },
     "execution_count": 36,
     "metadata": {},
     "output_type": "execute_result"
    }
   ],
   "source": [
    "# 랜덤포레스트2 : 클래스 가중치 없앴을 때\n",
    "\n",
    "rfc = RandomForestClassifier(random_state = 617)\n",
    "rfc.fit(X_tr, y_tr)\n",
    "pred_rfc = rfc.predict(X_val)\n",
    "pred_rfc"
   ]
  },
  {
   "cell_type": "code",
   "execution_count": 37,
   "id": "fa49c403",
   "metadata": {
    "execution": {
     "iopub.execute_input": "2023-06-18T20:16:16.600726Z",
     "iopub.status.busy": "2023-06-18T20:16:16.599557Z",
     "iopub.status.idle": "2023-06-18T20:16:16.610304Z",
     "shell.execute_reply": "2023-06-18T20:16:16.608949Z"
    },
    "papermill": {
     "duration": 0.029937,
     "end_time": "2023-06-18T20:16:16.612308",
     "exception": false,
     "start_time": "2023-06-18T20:16:16.582371",
     "status": "completed"
    },
    "tags": []
   },
   "outputs": [
    {
     "name": "stdout",
     "output_type": "stream",
     "text": [
      "f1score:  0.7072079459233914\n",
      "[[444 136  33]\n",
      " [143 778 108]\n",
      " [ 12 115 231]]\n",
      "accuracy:  0.7265\n"
     ]
    }
   ],
   "source": [
    "# 랜덤포레스트2 검증\n",
    "\n",
    "print('f1score: ', f1_score(y_val, pred_rfc, average = 'macro'))\n",
    "print(confusion_matrix(y_val, pred_rfc))\n",
    "print('accuracy: ', accuracy_score(y_val, pred_rfc))\n",
    "\n",
    "# f1score:  0.7072079459233914\n",
    "# [[444 136  33]\n",
    "#  [143 778 108]\n",
    "#  [ 12 115 231]]\n",
    "# accuracy:  0.7265"
   ]
  },
  {
   "cell_type": "code",
   "execution_count": 38,
   "id": "f08b90b2",
   "metadata": {
    "execution": {
     "iopub.execute_input": "2023-06-18T20:16:16.646431Z",
     "iopub.status.busy": "2023-06-18T20:16:16.646050Z",
     "iopub.status.idle": "2023-06-18T20:16:24.763350Z",
     "shell.execute_reply": "2023-06-18T20:16:24.762387Z"
    },
    "papermill": {
     "duration": 8.136873,
     "end_time": "2023-06-18T20:16:24.765368",
     "exception": false,
     "start_time": "2023-06-18T20:16:16.628495",
     "status": "completed"
    },
    "tags": []
   },
   "outputs": [
    {
     "data": {
      "text/plain": [
       "array([0, 1, 2, ..., 1, 1, 1])"
      ]
     },
     "execution_count": 38,
     "metadata": {},
     "output_type": "execute_result"
    }
   ],
   "source": [
    "# 그래디언트부스트\n",
    "\n",
    "gbc = GradientBoostingClassifier(random_state = 617)\n",
    "gbc.fit(X_tr, y_tr)\n",
    "pred_gbc = gbc.predict(X_val)\n",
    "pred_gbc"
   ]
  },
  {
   "cell_type": "code",
   "execution_count": 39,
   "id": "c63631b9",
   "metadata": {
    "execution": {
     "iopub.execute_input": "2023-06-18T20:16:24.802828Z",
     "iopub.status.busy": "2023-06-18T20:16:24.801775Z",
     "iopub.status.idle": "2023-06-18T20:16:24.814534Z",
     "shell.execute_reply": "2023-06-18T20:16:24.813064Z"
    },
    "papermill": {
     "duration": 0.033941,
     "end_time": "2023-06-18T20:16:24.817096",
     "exception": false,
     "start_time": "2023-06-18T20:16:24.783155",
     "status": "completed"
    },
    "tags": []
   },
   "outputs": [
    {
     "name": "stdout",
     "output_type": "stream",
     "text": [
      "f1score:  0.7042427073254819\n",
      "[[415 158  40]\n",
      " [123 778 128]\n",
      " [ 13  95 250]]\n",
      "accuracy:  0.7215\n"
     ]
    }
   ],
   "source": [
    "# 그래디언트부스트 검증 : 랜포랑 성능 비슷함 클래스 분류도 비슷하고\n",
    "\n",
    "print('f1score: ', f1_score(y_val, pred_gbc, average = 'macro'))\n",
    "print(confusion_matrix(y_val, pred_gbc))\n",
    "print('accuracy: ', accuracy_score(y_val, pred_gbc))\n",
    "\n",
    "# f1score:  0.7042427073254819\n",
    "# [[415 158  40]\n",
    "#  [123 778 128]\n",
    "#  [ 13  95 250]]\n",
    "# accuracy:  0.7215"
   ]
  },
  {
   "cell_type": "code",
   "execution_count": 40,
   "id": "d93ec2f2",
   "metadata": {
    "execution": {
     "iopub.execute_input": "2023-06-18T20:16:24.852471Z",
     "iopub.status.busy": "2023-06-18T20:16:24.851906Z",
     "iopub.status.idle": "2023-06-18T20:16:26.933274Z",
     "shell.execute_reply": "2023-06-18T20:16:26.932404Z"
    },
    "papermill": {
     "duration": 2.101522,
     "end_time": "2023-06-18T20:16:26.935292",
     "exception": false,
     "start_time": "2023-06-18T20:16:24.833770",
     "status": "completed"
    },
    "tags": []
   },
   "outputs": [
    {
     "data": {
      "text/plain": [
       "array([0, 1, 2, ..., 1, 1, 1])"
      ]
     },
     "execution_count": 40,
     "metadata": {},
     "output_type": "execute_result"
    }
   ],
   "source": [
    "# XGBoost \n",
    "\n",
    "xgc = XGBClassifier(random_state = 617)\n",
    "xgc.fit(X_tr, y_tr)\n",
    "pred_xgc = xgc.predict(X_val)\n",
    "pred_xgc"
   ]
  },
  {
   "cell_type": "code",
   "execution_count": 41,
   "id": "7474c2a7",
   "metadata": {
    "execution": {
     "iopub.execute_input": "2023-06-18T20:16:26.969427Z",
     "iopub.status.busy": "2023-06-18T20:16:26.969107Z",
     "iopub.status.idle": "2023-06-18T20:16:26.979769Z",
     "shell.execute_reply": "2023-06-18T20:16:26.978410Z"
    },
    "papermill": {
     "duration": 0.030584,
     "end_time": "2023-06-18T20:16:26.982024",
     "exception": false,
     "start_time": "2023-06-18T20:16:26.951440",
     "status": "completed"
    },
    "tags": []
   },
   "outputs": [
    {
     "name": "stdout",
     "output_type": "stream",
     "text": [
      "f1score:  0.6900323497608474\n",
      "[[424 158  31]\n",
      " [145 777 107]\n",
      " [ 14 123 221]]\n",
      "accuracy:  0.711\n"
     ]
    }
   ],
   "source": [
    "# XGBoost 검증 : 성능이 더 떨어짐\n",
    "\n",
    "print('f1score: ', f1_score(y_val, pred_xgc, average = 'macro'))\n",
    "print(confusion_matrix(y_val, pred_xgc))\n",
    "print('accuracy: ', accuracy_score(y_val, pred_xgc))\n",
    "\n",
    "# f1score:  0.6900323497608474\n",
    "# [[424 158  31]\n",
    "#  [145 777 107]\n",
    "#  [ 14 123 221]]\n",
    "# accuracy:  0.711"
   ]
  },
  {
   "cell_type": "code",
   "execution_count": 42,
   "id": "179d2b61",
   "metadata": {
    "execution": {
     "iopub.execute_input": "2023-06-18T20:16:27.016562Z",
     "iopub.status.busy": "2023-06-18T20:16:27.016018Z",
     "iopub.status.idle": "2023-06-18T20:16:28.702625Z",
     "shell.execute_reply": "2023-06-18T20:16:28.701955Z"
    },
    "papermill": {
     "duration": 1.706106,
     "end_time": "2023-06-18T20:16:28.704661",
     "exception": false,
     "start_time": "2023-06-18T20:16:26.998555",
     "status": "completed"
    },
    "tags": []
   },
   "outputs": [
    {
     "data": {
      "text/plain": [
       "array([0, 2, 1, ..., 1, 1, 1])"
      ]
     },
     "execution_count": 42,
     "metadata": {},
     "output_type": "execute_result"
    }
   ],
   "source": [
    "# 추가로 XGBRFClassifier\n",
    "\n",
    "xgrc = XGBRFClassifier(random_state = 617)\n",
    "xgrc.fit(X_tr, y_tr)\n",
    "pred_xgrc = xgrc.predict(X_val)\n",
    "pred_xgrc"
   ]
  },
  {
   "cell_type": "code",
   "execution_count": 43,
   "id": "d20ca61b",
   "metadata": {
    "execution": {
     "iopub.execute_input": "2023-06-18T20:16:28.741015Z",
     "iopub.status.busy": "2023-06-18T20:16:28.739818Z",
     "iopub.status.idle": "2023-06-18T20:16:28.750577Z",
     "shell.execute_reply": "2023-06-18T20:16:28.749429Z"
    },
    "papermill": {
     "duration": 0.030647,
     "end_time": "2023-06-18T20:16:28.752432",
     "exception": false,
     "start_time": "2023-06-18T20:16:28.721785",
     "status": "completed"
    },
    "tags": []
   },
   "outputs": [
    {
     "name": "stdout",
     "output_type": "stream",
     "text": [
      "f1score:  0.7119404631973677\n",
      "[[419 152  42]\n",
      " [123 778 128]\n",
      " [ 16  83 259]]\n",
      "accuracy:  0.728\n"
     ]
    }
   ],
   "source": [
    "# XGBRFClassifier 검증 : 분류라 그런지 트리계열이 성능이 더 낫다.\n",
    "\n",
    "print('f1score: ', f1_score(y_val, pred_xgrc, average = 'macro'))\n",
    "print(confusion_matrix(y_val, pred_xgrc))\n",
    "print('accuracy: ', accuracy_score(y_val, pred_xgrc))\n",
    "\n",
    "# f1score:  0.7119404631973677\n",
    "# [[419 152  42]\n",
    "#  [123 778 128]\n",
    "#  [ 16  83 259]]\n",
    "# accuracy:  0.728"
   ]
  },
  {
   "cell_type": "markdown",
   "id": "74829111",
   "metadata": {
    "papermill": {
     "duration": 0.016377,
     "end_time": "2023-06-18T20:16:28.785973",
     "exception": false,
     "start_time": "2023-06-18T20:16:28.769596",
     "status": "completed"
    },
    "tags": []
   },
   "source": [
    "### 모델 선택 : 랜덤포레스트\n",
    "파라미터 튜닝"
   ]
  },
  {
   "cell_type": "code",
   "execution_count": 44,
   "id": "f0b1ea2a",
   "metadata": {
    "execution": {
     "iopub.execute_input": "2023-06-18T20:16:28.820143Z",
     "iopub.status.busy": "2023-06-18T20:16:28.819804Z",
     "iopub.status.idle": "2023-06-18T20:16:31.475589Z",
     "shell.execute_reply": "2023-06-18T20:16:31.474292Z"
    },
    "papermill": {
     "duration": 2.675294,
     "end_time": "2023-06-18T20:16:31.477498",
     "exception": false,
     "start_time": "2023-06-18T20:16:28.802204",
     "status": "completed"
    },
    "tags": []
   },
   "outputs": [
    {
     "data": {
      "text/plain": [
       "array([0, 2, 2, ..., 1, 1, 1])"
      ]
     },
     "execution_count": 44,
     "metadata": {},
     "output_type": "execute_result"
    }
   ],
   "source": [
    "# 랜덤포레스트1-1\n",
    "# class_weight = {0:0.2, 1:0.5, 2:0.3}\n",
    "\n",
    "rfc = RandomForestClassifier(class_weight = {0:0.2, 1:0.5, 2:0.3}, random_state = 617)\n",
    "rfc.fit(X_tr, y_tr)\n",
    "pred_rfc = rfc.predict(X_val)\n",
    "pred_rfc"
   ]
  },
  {
   "cell_type": "code",
   "execution_count": 45,
   "id": "b8a0bef0",
   "metadata": {
    "execution": {
     "iopub.execute_input": "2023-06-18T20:16:31.512363Z",
     "iopub.status.busy": "2023-06-18T20:16:31.512047Z",
     "iopub.status.idle": "2023-06-18T20:16:31.524494Z",
     "shell.execute_reply": "2023-06-18T20:16:31.523176Z"
    },
    "papermill": {
     "duration": 0.032251,
     "end_time": "2023-06-18T20:16:31.526604",
     "exception": false,
     "start_time": "2023-06-18T20:16:31.494353",
     "status": "completed"
    },
    "tags": []
   },
   "outputs": [
    {
     "name": "stdout",
     "output_type": "stream",
     "text": [
      "f1score:  0.7164900913941885\n",
      "[[454 126  33]\n",
      " [143 772 114]\n",
      " [ 10 107 241]]\n",
      "accuracy:  0.7335\n"
     ]
    }
   ],
   "source": [
    "# 랜덤포레스트1-1 검증\n",
    "\n",
    "print('f1score: ', f1_score(y_val, pred_rfc, average = 'macro'))\n",
    "print(confusion_matrix(y_val, pred_rfc))\n",
    "print('accuracy: ', accuracy_score(y_val, pred_rfc))\n",
    "\n",
    "# f1score:  0.7164900913941885\n",
    "# [[454 126  33]\n",
    "#  [143 772 114]\n",
    "#  [ 10 107 241]]\n",
    "# accuracy:  0.7335"
   ]
  },
  {
   "cell_type": "code",
   "execution_count": 46,
   "id": "3332eb0c",
   "metadata": {
    "execution": {
     "iopub.execute_input": "2023-06-18T20:16:31.562175Z",
     "iopub.status.busy": "2023-06-18T20:16:31.561818Z",
     "iopub.status.idle": "2023-06-18T20:16:34.606639Z",
     "shell.execute_reply": "2023-06-18T20:16:34.605360Z"
    },
    "papermill": {
     "duration": 3.065044,
     "end_time": "2023-06-18T20:16:34.608717",
     "exception": false,
     "start_time": "2023-06-18T20:16:31.543673",
     "status": "completed"
    },
    "tags": []
   },
   "outputs": [
    {
     "data": {
      "text/plain": [
       "array([0, 1, 2, ..., 1, 1, 1])"
      ]
     },
     "execution_count": 46,
     "metadata": {},
     "output_type": "execute_result"
    }
   ],
   "source": [
    "# 랜덤포레스트1-2\n",
    "# class_weight = {0:0.2, 1:0., 2:0.3}\n",
    "# 분류 기준 수정해보기 : criterion='entropy'\n",
    "\n",
    "rfc = RandomForestClassifier(criterion='entropy', class_weight = {0:0.2, 1:0.5, 2:0.3}, random_state = 617)\n",
    "rfc.fit(X_tr, y_tr)\n",
    "pred_rfc = rfc.predict(X_val)\n",
    "pred_rfc"
   ]
  },
  {
   "cell_type": "code",
   "execution_count": 47,
   "id": "41953bbe",
   "metadata": {
    "execution": {
     "iopub.execute_input": "2023-06-18T20:16:34.644315Z",
     "iopub.status.busy": "2023-06-18T20:16:34.643101Z",
     "iopub.status.idle": "2023-06-18T20:16:34.653223Z",
     "shell.execute_reply": "2023-06-18T20:16:34.652359Z"
    },
    "papermill": {
     "duration": 0.029769,
     "end_time": "2023-06-18T20:16:34.655236",
     "exception": false,
     "start_time": "2023-06-18T20:16:34.625467",
     "status": "completed"
    },
    "tags": []
   },
   "outputs": [
    {
     "name": "stdout",
     "output_type": "stream",
     "text": [
      "f1score:  0.7115857431779062\n",
      "[[451 130  32]\n",
      " [140 773 116]\n",
      " [ 13 109 236]]\n",
      "accuracy:  0.73\n"
     ]
    }
   ],
   "source": [
    "# 랜덤포레스트1-2 검증\n",
    "\n",
    "print('f1score: ', f1_score(y_val, pred_rfc, average = 'macro'))\n",
    "print(confusion_matrix(y_val, pred_rfc))\n",
    "print('accuracy: ', accuracy_score(y_val, pred_rfc))\n",
    "\n",
    "# f1score:  0.7115857431779062\n",
    "# [[451 130  32]\n",
    "#  [140 773 116]\n",
    "#  [ 13 109 236]]\n",
    "# accuracy:  0.73"
   ]
  },
  {
   "cell_type": "code",
   "execution_count": 48,
   "id": "c879a88c",
   "metadata": {
    "execution": {
     "iopub.execute_input": "2023-06-18T20:16:34.691625Z",
     "iopub.status.busy": "2023-06-18T20:16:34.691300Z",
     "iopub.status.idle": "2023-06-18T20:16:37.770361Z",
     "shell.execute_reply": "2023-06-18T20:16:37.769255Z"
    },
    "papermill": {
     "duration": 3.100265,
     "end_time": "2023-06-18T20:16:37.772492",
     "exception": false,
     "start_time": "2023-06-18T20:16:34.672227",
     "status": "completed"
    },
    "tags": []
   },
   "outputs": [
    {
     "data": {
      "text/plain": [
       "array([0, 1, 2, ..., 1, 1, 1])"
      ]
     },
     "execution_count": 48,
     "metadata": {},
     "output_type": "execute_result"
    }
   ],
   "source": [
    "# 랜덤포레스트1-3\n",
    "# class_weight = {0:0.2, 1:0., 2:0.3}\n",
    "# 분류 기준 수정해보기 : criterion='log_loss'\n",
    "\n",
    "rfc = RandomForestClassifier(criterion='log_loss', class_weight = {0:0.2, 1:0.5, 2:0.3}, random_state = 617)\n",
    "rfc.fit(X_tr, y_tr)\n",
    "pred_rfc = rfc.predict(X_val)\n",
    "pred_rfc"
   ]
  },
  {
   "cell_type": "code",
   "execution_count": 49,
   "id": "5ae4ec67",
   "metadata": {
    "execution": {
     "iopub.execute_input": "2023-06-18T20:16:37.808300Z",
     "iopub.status.busy": "2023-06-18T20:16:37.807958Z",
     "iopub.status.idle": "2023-06-18T20:16:37.820593Z",
     "shell.execute_reply": "2023-06-18T20:16:37.819637Z"
    },
    "papermill": {
     "duration": 0.033112,
     "end_time": "2023-06-18T20:16:37.822705",
     "exception": false,
     "start_time": "2023-06-18T20:16:37.789593",
     "status": "completed"
    },
    "tags": []
   },
   "outputs": [
    {
     "name": "stdout",
     "output_type": "stream",
     "text": [
      "f1score:  0.7115857431779062\n",
      "[[451 130  32]\n",
      " [140 773 116]\n",
      " [ 13 109 236]]\n",
      "accuracy:  0.73\n"
     ]
    }
   ],
   "source": [
    "# 랜덤포레스트1-3 검증\n",
    "\n",
    "print('f1score: ', f1_score(y_val, pred_rfc, average = 'macro'))\n",
    "print(confusion_matrix(y_val, pred_rfc))\n",
    "print('accuracy: ', accuracy_score(y_val, pred_rfc))\n",
    "\n",
    "# f1score:  0.7115857431779062\n",
    "# [[451 130  32]\n",
    "#  [140 773 116]\n",
    "#  [ 13 109 236]]\n",
    "# accuracy:  0.73"
   ]
  },
  {
   "cell_type": "code",
   "execution_count": 50,
   "id": "3243a95b",
   "metadata": {
    "execution": {
     "iopub.execute_input": "2023-06-18T20:16:37.859663Z",
     "iopub.status.busy": "2023-06-18T20:16:37.859346Z",
     "iopub.status.idle": "2023-06-18T20:16:40.509631Z",
     "shell.execute_reply": "2023-06-18T20:16:40.508636Z"
    },
    "papermill": {
     "duration": 2.671517,
     "end_time": "2023-06-18T20:16:40.511613",
     "exception": false,
     "start_time": "2023-06-18T20:16:37.840096",
     "status": "completed"
    },
    "tags": []
   },
   "outputs": [
    {
     "data": {
      "text/plain": [
       "array([0, 2, 2, ..., 1, 1, 1])"
      ]
     },
     "execution_count": 50,
     "metadata": {},
     "output_type": "execute_result"
    }
   ],
   "source": [
    "# 랜덤포레스트1-4\n",
    "# class_weight = {0:0.2, 1:0., 2:0.3}\n",
    "# 트리 맥스 깊이 정하기\n",
    "\n",
    "rfc = RandomForestClassifier(max_depth = 33, class_weight = {0:0.2, 1:0.5, 2:0.3}, random_state = 617)\n",
    "rfc.fit(X_tr, y_tr)\n",
    "pred_rfc = rfc.predict(X_val)\n",
    "pred_rfc"
   ]
  },
  {
   "cell_type": "code",
   "execution_count": 51,
   "id": "2dc893e4",
   "metadata": {
    "execution": {
     "iopub.execute_input": "2023-06-18T20:16:40.546822Z",
     "iopub.status.busy": "2023-06-18T20:16:40.546493Z",
     "iopub.status.idle": "2023-06-18T20:16:40.557410Z",
     "shell.execute_reply": "2023-06-18T20:16:40.555947Z"
    },
    "papermill": {
     "duration": 0.030711,
     "end_time": "2023-06-18T20:16:40.559302",
     "exception": false,
     "start_time": "2023-06-18T20:16:40.528591",
     "status": "completed"
    },
    "tags": []
   },
   "outputs": [
    {
     "name": "stdout",
     "output_type": "stream",
     "text": [
      "f1score:  0.7237787361722421\n",
      "[[457 123  33]\n",
      " [146 776 107]\n",
      " [ 10 102 246]]\n",
      "accuracy:  0.7395\n"
     ]
    }
   ],
   "source": [
    "# 랜덤포레스트1-4 검증\n",
    "# 맥스 깊이가 41 그정도 됐었나보다. 33으로 수정하니 더 낫다.\n",
    "\n",
    "print('f1score: ', f1_score(y_val, pred_rfc, average = 'macro'))\n",
    "print(confusion_matrix(y_val, pred_rfc))\n",
    "print('accuracy: ', accuracy_score(y_val, pred_rfc))\n",
    "\n",
    "# f1score:  0.7237787361722421\n",
    "# [[457 123  33]\n",
    "#  [146 776 107]\n",
    "#  [ 10 102 246]]\n",
    "# accuracy:  0.7395"
   ]
  },
  {
   "cell_type": "markdown",
   "id": "25d03ce5",
   "metadata": {
    "papermill": {
     "duration": 0.017064,
     "end_time": "2023-06-18T20:16:40.593599",
     "exception": false,
     "start_time": "2023-06-18T20:16:40.576535",
     "status": "completed"
    },
    "tags": []
   },
   "source": [
    "## 모델 선택 및 적합\n",
    "랜포1-4"
   ]
  },
  {
   "cell_type": "code",
   "execution_count": 52,
   "id": "168d2782",
   "metadata": {
    "execution": {
     "iopub.execute_input": "2023-06-18T20:16:40.630340Z",
     "iopub.status.busy": "2023-06-18T20:16:40.629531Z",
     "iopub.status.idle": "2023-06-18T20:16:44.150767Z",
     "shell.execute_reply": "2023-06-18T20:16:44.149838Z"
    },
    "papermill": {
     "duration": 3.541703,
     "end_time": "2023-06-18T20:16:44.153321",
     "exception": false,
     "start_time": "2023-06-18T20:16:40.611618",
     "status": "completed"
    },
    "tags": []
   },
   "outputs": [
    {
     "data": {
      "text/plain": [
       "array([1, 0, 0, ..., 0, 0, 1])"
      ]
     },
     "execution_count": 52,
     "metadata": {},
     "output_type": "execute_result"
    }
   ],
   "source": [
    "# 랜덤포레스트1-4로 예측 진행\n",
    "\n",
    "rfc = RandomForestClassifier(max_depth = 33, class_weight = {0:0.2, 1:0.5, 2:0.3}, random_state = 617)\n",
    "rfc.fit(X_train, y_train)\n",
    "pred = rfc.predict(X_test)\n",
    "pred"
   ]
  },
  {
   "cell_type": "markdown",
   "id": "88fe417e",
   "metadata": {
    "papermill": {
     "duration": 0.017945,
     "end_time": "2023-06-18T20:16:44.189476",
     "exception": false,
     "start_time": "2023-06-18T20:16:44.171531",
     "status": "completed"
    },
    "tags": []
   },
   "source": [
    "디코딩 관련 swap 방법 빠르게 구글링 : \n",
    "\n",
    "`res = dict((v,k) for k,v in dic.items())`\n",
    "(https://sseongju1.tistory.com/35)\n",
    "\n",
    "`{v:k for k, v in sample_dict.items()}`\n",
    "(https://hellodata.tistory.com/29)\n"
   ]
  },
  {
   "cell_type": "code",
   "execution_count": 53,
   "id": "08c47087",
   "metadata": {
    "execution": {
     "iopub.execute_input": "2023-06-18T20:16:44.228046Z",
     "iopub.status.busy": "2023-06-18T20:16:44.227680Z",
     "iopub.status.idle": "2023-06-18T20:16:44.239185Z",
     "shell.execute_reply": "2023-06-18T20:16:44.237966Z"
    },
    "papermill": {
     "duration": 0.033314,
     "end_time": "2023-06-18T20:16:44.240992",
     "exception": false,
     "start_time": "2023-06-18T20:16:44.207678",
     "status": "completed"
    },
    "tags": []
   },
   "outputs": [
    {
     "data": {
      "text/plain": [
       "pred\n",
       "2       5259\n",
       "1       2854\n",
       "3       1887\n",
       "dtype: int64"
      ]
     },
     "execution_count": 53,
     "metadata": {},
     "output_type": "execute_result"
    }
   ],
   "source": [
    "# 라벨 디코딩\n",
    "\n",
    "target_encoding = {1:0, 2:1, 3:2}\n",
    "target_decoding = dict((v,k) for k,v in target_encoding.items())\n",
    "\n",
    "result = pd.DataFrame({'pred':pred})\n",
    "result = result.replace(target_decoding)\n",
    "result.value_counts()"
   ]
  },
  {
   "cell_type": "markdown",
   "id": "5f1f0686",
   "metadata": {
    "papermill": {
     "duration": 0.016488,
     "end_time": "2023-06-18T20:16:44.274872",
     "exception": false,
     "start_time": "2023-06-18T20:16:44.258384",
     "status": "completed"
    },
    "tags": []
   },
   "source": [
    "## 제출\n",
    "\n",
    "제출 방식 : test데이터로 예측한 class 1개 컬럼만 csv로 제출 (컬럼명 pred, 파일명 result.csv)"
   ]
  },
  {
   "cell_type": "code",
   "execution_count": 54,
   "id": "3ef4fe06",
   "metadata": {
    "execution": {
     "iopub.execute_input": "2023-06-18T20:16:44.312159Z",
     "iopub.status.busy": "2023-06-18T20:16:44.311047Z",
     "iopub.status.idle": "2023-06-18T20:16:44.328463Z",
     "shell.execute_reply": "2023-06-18T20:16:44.327481Z"
    },
    "papermill": {
     "duration": 0.039045,
     "end_time": "2023-06-18T20:16:44.330579",
     "exception": false,
     "start_time": "2023-06-18T20:16:44.291534",
     "status": "completed"
    },
    "tags": []
   },
   "outputs": [],
   "source": [
    "result.to_csv('result.csv', index = False)"
   ]
  },
  {
   "cell_type": "code",
   "execution_count": 55,
   "id": "74e75fda",
   "metadata": {
    "execution": {
     "iopub.execute_input": "2023-06-18T20:16:44.366247Z",
     "iopub.status.busy": "2023-06-18T20:16:44.365921Z",
     "iopub.status.idle": "2023-06-18T20:16:44.376240Z",
     "shell.execute_reply": "2023-06-18T20:16:44.375381Z"
    },
    "papermill": {
     "duration": 0.030024,
     "end_time": "2023-06-18T20:16:44.378028",
     "exception": false,
     "start_time": "2023-06-18T20:16:44.348004",
     "status": "completed"
    },
    "tags": []
   },
   "outputs": [
    {
     "name": "stdout",
     "output_type": "stream",
     "text": [
      "(10000, 1)\n",
      "pred\n",
      "2       5259\n",
      "1       2854\n",
      "3       1887\n",
      "dtype: int64\n"
     ]
    }
   ],
   "source": [
    "# 확인\n",
    "read = pd.read_csv('/kaggle/working/result.csv')\n",
    "print(read.shape)\n",
    "print(read.value_counts())"
   ]
  },
  {
   "cell_type": "markdown",
   "id": "edfc5cb6",
   "metadata": {
    "papermill": {
     "duration": 0.019913,
     "end_time": "2023-06-18T20:16:44.416607",
     "exception": false,
     "start_time": "2023-06-18T20:16:44.396694",
     "status": "completed"
    },
    "tags": []
   },
   "source": [
    "the end\n",
    "\n",
    "restart 후 run all time : 39.36초\n",
    "\n",
    "필요없는 모델 주석처리하고 진행 : "
   ]
  },
  {
   "cell_type": "code",
   "execution_count": 56,
   "id": "da1d35f7",
   "metadata": {
    "execution": {
     "iopub.execute_input": "2023-06-18T20:16:44.458609Z",
     "iopub.status.busy": "2023-06-18T20:16:44.457774Z",
     "iopub.status.idle": "2023-06-18T20:16:44.467414Z",
     "shell.execute_reply": "2023-06-18T20:16:44.466632Z"
    },
    "papermill": {
     "duration": 0.030807,
     "end_time": "2023-06-18T20:16:44.469110",
     "exception": false,
     "start_time": "2023-06-18T20:16:44.438303",
     "status": "completed"
    },
    "tags": []
   },
   "outputs": [
    {
     "data": {
      "text/html": [
       "<div>\n",
       "<style scoped>\n",
       "    .dataframe tbody tr th:only-of-type {\n",
       "        vertical-align: middle;\n",
       "    }\n",
       "\n",
       "    .dataframe tbody tr th {\n",
       "        vertical-align: top;\n",
       "    }\n",
       "\n",
       "    .dataframe thead th {\n",
       "        text-align: right;\n",
       "    }\n",
       "</style>\n",
       "<table border=\"1\" class=\"dataframe\">\n",
       "  <thead>\n",
       "    <tr style=\"text-align: right;\">\n",
       "      <th></th>\n",
       "      <th>pred</th>\n",
       "    </tr>\n",
       "  </thead>\n",
       "  <tbody>\n",
       "    <tr>\n",
       "      <th>0</th>\n",
       "      <td>2</td>\n",
       "    </tr>\n",
       "    <tr>\n",
       "      <th>1</th>\n",
       "      <td>1</td>\n",
       "    </tr>\n",
       "    <tr>\n",
       "      <th>2</th>\n",
       "      <td>1</td>\n",
       "    </tr>\n",
       "    <tr>\n",
       "      <th>3</th>\n",
       "      <td>2</td>\n",
       "    </tr>\n",
       "    <tr>\n",
       "      <th>4</th>\n",
       "      <td>1</td>\n",
       "    </tr>\n",
       "    <tr>\n",
       "      <th>...</th>\n",
       "      <td>...</td>\n",
       "    </tr>\n",
       "    <tr>\n",
       "      <th>9995</th>\n",
       "      <td>2</td>\n",
       "    </tr>\n",
       "    <tr>\n",
       "      <th>9996</th>\n",
       "      <td>2</td>\n",
       "    </tr>\n",
       "    <tr>\n",
       "      <th>9997</th>\n",
       "      <td>1</td>\n",
       "    </tr>\n",
       "    <tr>\n",
       "      <th>9998</th>\n",
       "      <td>1</td>\n",
       "    </tr>\n",
       "    <tr>\n",
       "      <th>9999</th>\n",
       "      <td>2</td>\n",
       "    </tr>\n",
       "  </tbody>\n",
       "</table>\n",
       "<p>10000 rows × 1 columns</p>\n",
       "</div>"
      ],
      "text/plain": [
       "      pred\n",
       "0        2\n",
       "1        1\n",
       "2        1\n",
       "3        2\n",
       "4        1\n",
       "...    ...\n",
       "9995     2\n",
       "9996     2\n",
       "9997     1\n",
       "9998     1\n",
       "9999     2\n",
       "\n",
       "[10000 rows x 1 columns]"
      ]
     },
     "execution_count": 56,
     "metadata": {},
     "output_type": "execute_result"
    }
   ],
   "source": [
    "read"
   ]
  },
  {
   "cell_type": "code",
   "execution_count": null,
   "id": "01332f13",
   "metadata": {
    "papermill": {
     "duration": 0.017671,
     "end_time": "2023-06-18T20:16:44.504411",
     "exception": false,
     "start_time": "2023-06-18T20:16:44.486740",
     "status": "completed"
    },
    "tags": []
   },
   "outputs": [],
   "source": []
  }
 ],
 "metadata": {
  "kernelspec": {
   "display_name": "Python 3",
   "language": "python",
   "name": "python3"
  },
  "language_info": {
   "codemirror_mode": {
    "name": "ipython",
    "version": 3
   },
   "file_extension": ".py",
   "mimetype": "text/x-python",
   "name": "python",
   "nbconvert_exporter": "python",
   "pygments_lexer": "ipython3",
   "version": "3.10.10"
  },
  "papermill": {
   "default_parameters": {},
   "duration": 49.124452,
   "end_time": "2023-06-18T20:16:45.441999",
   "environment_variables": {},
   "exception": null,
   "input_path": "__notebook__.ipynb",
   "output_path": "__notebook__.ipynb",
   "parameters": {},
   "start_time": "2023-06-18T20:15:56.317547",
   "version": "2.4.0"
  }
 },
 "nbformat": 4,
 "nbformat_minor": 5
}
