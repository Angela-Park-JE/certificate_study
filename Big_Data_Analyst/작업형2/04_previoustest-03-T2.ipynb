{
 "cells": [
  {
   "cell_type": "markdown",
   "id": "0a0c604e",
   "metadata": {
    "papermill": {
     "duration": 0.009158,
     "end_time": "2023-06-07T19:08:16.439749",
     "exception": false,
     "start_time": "2023-06-07T19:08:16.430591",
     "status": "completed"
    },
    "tags": []
   },
   "source": [
    "# 작업형2 기출 유형(심화)\n",
    " 3회 기출 2유형 깍두기 : 617 JungEun : 230607 WED mission 21 (2) \n",
    "- 본 문제는 변형한 심화 문제 입니다.\n",
    "- 오리지널 3회 기출 유형을 보고 싶은 분은 아래 클래스-커리큘럼 탭에 무료공개(3회 작업형2)로 영상과 데이터셋을 올려놨어요!\n",
    "- https://class101.net/products/467P0ZPH0lVX9FwFBDz7\n",
    "\n",
    "### 여행 보험 패키지 상품을 구매할 확률 값을 구하시오\n",
    "- 예측할 값(y): TravelInsurance (여행보험 패키지를 구매 했는지 여부 0:구매안함, 1:구매)\n",
    "- 평가: roc-auc 평가지표\n",
    "- data: t2-1-train.csv, t2-1-test.csv\n",
    "- 제출 형식\n",
    "\n",
    "~~~\n",
    "id, TravelInsurance\n",
    "0,  0.3\n",
    "1,  0.48\n",
    "2,  0.3\n",
    "3,  0.83\n",
    "~~~\n",
    "\n",
    "### Baseline: 3회 기출문제에서 데이터 셋을 편집해 조금 더 어렵게 만들었어요\n",
    "- 결측치 추가\n",
    "- Employment Type 컬럼에 카테고리 추가 \n",
    "- sample_submission 파일은 제공된 적 없음(3회 때 제출 형식에 대한 이슈가 있어 제공하거나 제출 형식을 명확하게 설명할 가능성 있어 보임)"
   ]
  },
  {
   "cell_type": "markdown",
   "id": "afe57028",
   "metadata": {
    "papermill": {
     "duration": 0.00816,
     "end_time": "2023-06-07T19:08:16.456566",
     "exception": false,
     "start_time": "2023-06-07T19:08:16.448406",
     "status": "completed"
    },
    "tags": []
   },
   "source": [
    "### 풀이 영상: https://youtu.be/QpNufh_ZV7A?t=291"
   ]
  },
  {
   "cell_type": "code",
   "execution_count": 1,
   "id": "fbfc70f7",
   "metadata": {
    "_cell_guid": "b1076dfc-b9ad-4769-8c92-a6c4dae69d19",
    "_uuid": "8f2839f25d086af736a60e9eeb907d3b93b6e0e5",
    "execution": {
     "iopub.execute_input": "2023-06-07T19:08:16.475344Z",
     "iopub.status.busy": "2023-06-07T19:08:16.474808Z",
     "iopub.status.idle": "2023-06-07T19:08:16.485669Z",
     "shell.execute_reply": "2023-06-07T19:08:16.484654Z"
    },
    "papermill": {
     "duration": 0.022774,
     "end_time": "2023-06-07T19:08:16.487930",
     "exception": false,
     "start_time": "2023-06-07T19:08:16.465156",
     "status": "completed"
    },
    "tags": []
   },
   "outputs": [],
   "source": [
    "# 라이브러리 불러오기\n",
    "import pandas as pd"
   ]
  },
  {
   "cell_type": "code",
   "execution_count": 2,
   "id": "f76052b5",
   "metadata": {
    "execution": {
     "iopub.execute_input": "2023-06-07T19:08:16.506831Z",
     "iopub.status.busy": "2023-06-07T19:08:16.506330Z",
     "iopub.status.idle": "2023-06-07T19:08:16.537507Z",
     "shell.execute_reply": "2023-06-07T19:08:16.536544Z"
    },
    "papermill": {
     "duration": 0.043159,
     "end_time": "2023-06-07T19:08:16.539792",
     "exception": false,
     "start_time": "2023-06-07T19:08:16.496633",
     "status": "completed"
    },
    "tags": []
   },
   "outputs": [],
   "source": [
    "# 데이터 불러오기\n",
    "train = pd.read_csv(\"../input/big-data-analytics-certification/t2-1-train.csv\")\n",
    "test = pd.read_csv(\"../input/big-data-analytics-certification/t2-1-test.csv\")"
   ]
  },
  {
   "cell_type": "markdown",
   "id": "df2fa5ae",
   "metadata": {
    "papermill": {
     "duration": 0.008426,
     "end_time": "2023-06-07T19:08:16.557305",
     "exception": false,
     "start_time": "2023-06-07T19:08:16.548879",
     "status": "completed"
    },
    "tags": []
   },
   "source": [
    "# EDA"
   ]
  },
  {
   "cell_type": "code",
   "execution_count": 3,
   "id": "4043c2d9",
   "metadata": {
    "execution": {
     "iopub.execute_input": "2023-06-07T19:08:16.576615Z",
     "iopub.status.busy": "2023-06-07T19:08:16.576140Z",
     "iopub.status.idle": "2023-06-07T19:08:16.582606Z",
     "shell.execute_reply": "2023-06-07T19:08:16.582067Z"
    },
    "papermill": {
     "duration": 0.01873,
     "end_time": "2023-06-07T19:08:16.584713",
     "exception": false,
     "start_time": "2023-06-07T19:08:16.565983",
     "status": "completed"
    },
    "tags": []
   },
   "outputs": [
    {
     "data": {
      "text/plain": [
       "((1490, 10), (497, 9))"
      ]
     },
     "execution_count": 3,
     "metadata": {},
     "output_type": "execute_result"
    }
   ],
   "source": [
    "# 데이터 사이즈\n",
    "train.shape, test.shape"
   ]
  },
  {
   "cell_type": "code",
   "execution_count": 4,
   "id": "9b03fc85",
   "metadata": {
    "execution": {
     "iopub.execute_input": "2023-06-07T19:08:16.603870Z",
     "iopub.status.busy": "2023-06-07T19:08:16.603373Z",
     "iopub.status.idle": "2023-06-07T19:08:16.622325Z",
     "shell.execute_reply": "2023-06-07T19:08:16.621105Z"
    },
    "papermill": {
     "duration": 0.030768,
     "end_time": "2023-06-07T19:08:16.624354",
     "exception": false,
     "start_time": "2023-06-07T19:08:16.593586",
     "status": "completed"
    },
    "tags": []
   },
   "outputs": [
    {
     "data": {
      "text/html": [
       "<div>\n",
       "<style scoped>\n",
       "    .dataframe tbody tr th:only-of-type {\n",
       "        vertical-align: middle;\n",
       "    }\n",
       "\n",
       "    .dataframe tbody tr th {\n",
       "        vertical-align: top;\n",
       "    }\n",
       "\n",
       "    .dataframe thead th {\n",
       "        text-align: right;\n",
       "    }\n",
       "</style>\n",
       "<table border=\"1\" class=\"dataframe\">\n",
       "  <thead>\n",
       "    <tr style=\"text-align: right;\">\n",
       "      <th></th>\n",
       "      <th>id</th>\n",
       "      <th>Age</th>\n",
       "      <th>Employment Type</th>\n",
       "      <th>GraduateOrNot</th>\n",
       "      <th>AnnualIncome</th>\n",
       "      <th>FamilyMembers</th>\n",
       "      <th>ChronicDiseases</th>\n",
       "      <th>FrequentFlyer</th>\n",
       "      <th>EverTravelledAbroad</th>\n",
       "      <th>TravelInsurance</th>\n",
       "    </tr>\n",
       "  </thead>\n",
       "  <tbody>\n",
       "    <tr>\n",
       "      <th>0</th>\n",
       "      <td>10000</td>\n",
       "      <td>28</td>\n",
       "      <td>Private Sector/Self Employed</td>\n",
       "      <td>Yes</td>\n",
       "      <td>1250000.0</td>\n",
       "      <td>6</td>\n",
       "      <td>1</td>\n",
       "      <td>No</td>\n",
       "      <td>No</td>\n",
       "      <td>0</td>\n",
       "    </tr>\n",
       "    <tr>\n",
       "      <th>1</th>\n",
       "      <td>10001</td>\n",
       "      <td>31</td>\n",
       "      <td>Private Sector/Self Employed</td>\n",
       "      <td>Yes</td>\n",
       "      <td>1250000.0</td>\n",
       "      <td>7</td>\n",
       "      <td>1</td>\n",
       "      <td>No</td>\n",
       "      <td>No</td>\n",
       "      <td>0</td>\n",
       "    </tr>\n",
       "    <tr>\n",
       "      <th>2</th>\n",
       "      <td>10002</td>\n",
       "      <td>29</td>\n",
       "      <td>Private Sector/Self Employed</td>\n",
       "      <td>Yes</td>\n",
       "      <td>1200000.0</td>\n",
       "      <td>7</td>\n",
       "      <td>0</td>\n",
       "      <td>No</td>\n",
       "      <td>No</td>\n",
       "      <td>1</td>\n",
       "    </tr>\n",
       "    <tr>\n",
       "      <th>3</th>\n",
       "      <td>10003</td>\n",
       "      <td>33</td>\n",
       "      <td>Government Sector</td>\n",
       "      <td>Yes</td>\n",
       "      <td>650000.0</td>\n",
       "      <td>6</td>\n",
       "      <td>1</td>\n",
       "      <td>No</td>\n",
       "      <td>No</td>\n",
       "      <td>1</td>\n",
       "    </tr>\n",
       "    <tr>\n",
       "      <th>4</th>\n",
       "      <td>10004</td>\n",
       "      <td>28</td>\n",
       "      <td>Private Sector/Self Employed</td>\n",
       "      <td>Yes</td>\n",
       "      <td>800000.0</td>\n",
       "      <td>6</td>\n",
       "      <td>0</td>\n",
       "      <td>No</td>\n",
       "      <td>Yes</td>\n",
       "      <td>1</td>\n",
       "    </tr>\n",
       "  </tbody>\n",
       "</table>\n",
       "</div>"
      ],
      "text/plain": [
       "      id  Age               Employment Type GraduateOrNot  AnnualIncome  \\\n",
       "0  10000   28  Private Sector/Self Employed           Yes     1250000.0   \n",
       "1  10001   31  Private Sector/Self Employed           Yes     1250000.0   \n",
       "2  10002   29  Private Sector/Self Employed           Yes     1200000.0   \n",
       "3  10003   33             Government Sector           Yes      650000.0   \n",
       "4  10004   28  Private Sector/Self Employed           Yes      800000.0   \n",
       "\n",
       "   FamilyMembers  ChronicDiseases FrequentFlyer EverTravelledAbroad  \\\n",
       "0              6                1            No                  No   \n",
       "1              7                1            No                  No   \n",
       "2              7                0            No                  No   \n",
       "3              6                1            No                  No   \n",
       "4              6                0            No                 Yes   \n",
       "\n",
       "   TravelInsurance  \n",
       "0                0  \n",
       "1                0  \n",
       "2                1  \n",
       "3                1  \n",
       "4                1  "
      ]
     },
     "execution_count": 4,
     "metadata": {},
     "output_type": "execute_result"
    }
   ],
   "source": [
    "# 샘플 확인\n",
    "train.head()"
   ]
  },
  {
   "cell_type": "code",
   "execution_count": 5,
   "id": "26684804",
   "metadata": {
    "execution": {
     "iopub.execute_input": "2023-06-07T19:08:16.643902Z",
     "iopub.status.busy": "2023-06-07T19:08:16.643521Z",
     "iopub.status.idle": "2023-06-07T19:08:16.669621Z",
     "shell.execute_reply": "2023-06-07T19:08:16.668795Z"
    },
    "papermill": {
     "duration": 0.038849,
     "end_time": "2023-06-07T19:08:16.672043",
     "exception": false,
     "start_time": "2023-06-07T19:08:16.633194",
     "status": "completed"
    },
    "tags": []
   },
   "outputs": [
    {
     "name": "stdout",
     "output_type": "stream",
     "text": [
      "<class 'pandas.core.frame.DataFrame'>\n",
      "RangeIndex: 1490 entries, 0 to 1489\n",
      "Data columns (total 10 columns):\n",
      " #   Column               Non-Null Count  Dtype  \n",
      "---  ------               --------------  -----  \n",
      " 0   id                   1490 non-null   int64  \n",
      " 1   Age                  1490 non-null   int64  \n",
      " 2   Employment Type      1490 non-null   object \n",
      " 3   GraduateOrNot        1490 non-null   object \n",
      " 4   AnnualIncome         1486 non-null   float64\n",
      " 5   FamilyMembers        1490 non-null   int64  \n",
      " 6   ChronicDiseases      1490 non-null   int64  \n",
      " 7   FrequentFlyer        1490 non-null   object \n",
      " 8   EverTravelledAbroad  1490 non-null   object \n",
      " 9   TravelInsurance      1490 non-null   int64  \n",
      "dtypes: float64(1), int64(5), object(4)\n",
      "memory usage: 116.5+ KB\n"
     ]
    }
   ],
   "source": [
    "# type 확인\n",
    "train.info()"
   ]
  },
  {
   "cell_type": "code",
   "execution_count": 6,
   "id": "046a6dd4",
   "metadata": {
    "execution": {
     "iopub.execute_input": "2023-06-07T19:08:16.691532Z",
     "iopub.status.busy": "2023-06-07T19:08:16.691058Z",
     "iopub.status.idle": "2023-06-07T19:08:16.701150Z",
     "shell.execute_reply": "2023-06-07T19:08:16.700441Z"
    },
    "papermill": {
     "duration": 0.021776,
     "end_time": "2023-06-07T19:08:16.702820",
     "exception": false,
     "start_time": "2023-06-07T19:08:16.681044",
     "status": "completed"
    },
    "tags": []
   },
   "outputs": [
    {
     "name": "stdout",
     "output_type": "stream",
     "text": [
      "<class 'pandas.core.frame.DataFrame'>\n",
      "RangeIndex: 497 entries, 0 to 496\n",
      "Data columns (total 9 columns):\n",
      " #   Column               Non-Null Count  Dtype  \n",
      "---  ------               --------------  -----  \n",
      " 0   id                   497 non-null    int64  \n",
      " 1   Age                  497 non-null    int64  \n",
      " 2   Employment Type      497 non-null    object \n",
      " 3   GraduateOrNot        497 non-null    object \n",
      " 4   AnnualIncome         494 non-null    float64\n",
      " 5   FamilyMembers        497 non-null    int64  \n",
      " 6   ChronicDiseases      497 non-null    int64  \n",
      " 7   FrequentFlyer        497 non-null    object \n",
      " 8   EverTravelledAbroad  497 non-null    object \n",
      "dtypes: float64(1), int64(4), object(4)\n",
      "memory usage: 35.1+ KB\n"
     ]
    }
   ],
   "source": [
    "test.info()"
   ]
  },
  {
   "cell_type": "markdown",
   "id": "e2478a13",
   "metadata": {
    "papermill": {
     "duration": 0.008388,
     "end_time": "2023-06-07T19:08:16.720109",
     "exception": false,
     "start_time": "2023-06-07T19:08:16.711721",
     "status": "completed"
    },
    "tags": []
   },
   "source": [
    "실제 시험에서는 train과 test 카테고리가 같았어요. 만약 test데이터에 새로운 카테고리가 있다면 어떻게 풀어야 할까요?"
   ]
  },
  {
   "cell_type": "code",
   "execution_count": 7,
   "id": "1470182b",
   "metadata": {
    "execution": {
     "iopub.execute_input": "2023-06-07T19:08:16.739567Z",
     "iopub.status.busy": "2023-06-07T19:08:16.739110Z",
     "iopub.status.idle": "2023-06-07T19:08:16.754380Z",
     "shell.execute_reply": "2023-06-07T19:08:16.753610Z"
    },
    "papermill": {
     "duration": 0.027448,
     "end_time": "2023-06-07T19:08:16.756384",
     "exception": false,
     "start_time": "2023-06-07T19:08:16.728936",
     "status": "completed"
    },
    "tags": []
   },
   "outputs": [
    {
     "data": {
      "text/html": [
       "<div>\n",
       "<style scoped>\n",
       "    .dataframe tbody tr th:only-of-type {\n",
       "        vertical-align: middle;\n",
       "    }\n",
       "\n",
       "    .dataframe tbody tr th {\n",
       "        vertical-align: top;\n",
       "    }\n",
       "\n",
       "    .dataframe thead th {\n",
       "        text-align: right;\n",
       "    }\n",
       "</style>\n",
       "<table border=\"1\" class=\"dataframe\">\n",
       "  <thead>\n",
       "    <tr style=\"text-align: right;\">\n",
       "      <th></th>\n",
       "      <th>Employment Type</th>\n",
       "      <th>GraduateOrNot</th>\n",
       "      <th>FrequentFlyer</th>\n",
       "      <th>EverTravelledAbroad</th>\n",
       "    </tr>\n",
       "  </thead>\n",
       "  <tbody>\n",
       "    <tr>\n",
       "      <th>count</th>\n",
       "      <td>1490</td>\n",
       "      <td>1490</td>\n",
       "      <td>1490</td>\n",
       "      <td>1490</td>\n",
       "    </tr>\n",
       "    <tr>\n",
       "      <th>unique</th>\n",
       "      <td>2</td>\n",
       "      <td>2</td>\n",
       "      <td>2</td>\n",
       "      <td>2</td>\n",
       "    </tr>\n",
       "    <tr>\n",
       "      <th>top</th>\n",
       "      <td>Private Sector/Self Employed</td>\n",
       "      <td>Yes</td>\n",
       "      <td>No</td>\n",
       "      <td>No</td>\n",
       "    </tr>\n",
       "    <tr>\n",
       "      <th>freq</th>\n",
       "      <td>1056</td>\n",
       "      <td>1270</td>\n",
       "      <td>1175</td>\n",
       "      <td>1209</td>\n",
       "    </tr>\n",
       "  </tbody>\n",
       "</table>\n",
       "</div>"
      ],
      "text/plain": [
       "                     Employment Type GraduateOrNot FrequentFlyer  \\\n",
       "count                           1490          1490          1490   \n",
       "unique                             2             2             2   \n",
       "top     Private Sector/Self Employed           Yes            No   \n",
       "freq                            1056          1270          1175   \n",
       "\n",
       "       EverTravelledAbroad  \n",
       "count                 1490  \n",
       "unique                   2  \n",
       "top                     No  \n",
       "freq                  1209  "
      ]
     },
     "execution_count": 7,
     "metadata": {},
     "output_type": "execute_result"
    }
   ],
   "source": [
    "# 카테고리 수 확인\n",
    "train.describe(include=\"object\")"
   ]
  },
  {
   "cell_type": "code",
   "execution_count": 8,
   "id": "7826a38a",
   "metadata": {
    "execution": {
     "iopub.execute_input": "2023-06-07T19:08:16.776535Z",
     "iopub.status.busy": "2023-06-07T19:08:16.776190Z",
     "iopub.status.idle": "2023-06-07T19:08:16.791225Z",
     "shell.execute_reply": "2023-06-07T19:08:16.790621Z"
    },
    "papermill": {
     "duration": 0.026812,
     "end_time": "2023-06-07T19:08:16.792928",
     "exception": false,
     "start_time": "2023-06-07T19:08:16.766116",
     "status": "completed"
    },
    "tags": []
   },
   "outputs": [
    {
     "data": {
      "text/html": [
       "<div>\n",
       "<style scoped>\n",
       "    .dataframe tbody tr th:only-of-type {\n",
       "        vertical-align: middle;\n",
       "    }\n",
       "\n",
       "    .dataframe tbody tr th {\n",
       "        vertical-align: top;\n",
       "    }\n",
       "\n",
       "    .dataframe thead th {\n",
       "        text-align: right;\n",
       "    }\n",
       "</style>\n",
       "<table border=\"1\" class=\"dataframe\">\n",
       "  <thead>\n",
       "    <tr style=\"text-align: right;\">\n",
       "      <th></th>\n",
       "      <th>Employment Type</th>\n",
       "      <th>GraduateOrNot</th>\n",
       "      <th>FrequentFlyer</th>\n",
       "      <th>EverTravelledAbroad</th>\n",
       "    </tr>\n",
       "  </thead>\n",
       "  <tbody>\n",
       "    <tr>\n",
       "      <th>count</th>\n",
       "      <td>497</td>\n",
       "      <td>497</td>\n",
       "      <td>497</td>\n",
       "      <td>497</td>\n",
       "    </tr>\n",
       "    <tr>\n",
       "      <th>unique</th>\n",
       "      <td>3</td>\n",
       "      <td>2</td>\n",
       "      <td>2</td>\n",
       "      <td>2</td>\n",
       "    </tr>\n",
       "    <tr>\n",
       "      <th>top</th>\n",
       "      <td>Private Sector/Self Employed</td>\n",
       "      <td>Yes</td>\n",
       "      <td>No</td>\n",
       "      <td>No</td>\n",
       "    </tr>\n",
       "    <tr>\n",
       "      <th>freq</th>\n",
       "      <td>360</td>\n",
       "      <td>422</td>\n",
       "      <td>395</td>\n",
       "      <td>398</td>\n",
       "    </tr>\n",
       "  </tbody>\n",
       "</table>\n",
       "</div>"
      ],
      "text/plain": [
       "                     Employment Type GraduateOrNot FrequentFlyer  \\\n",
       "count                            497           497           497   \n",
       "unique                             3             2             2   \n",
       "top     Private Sector/Self Employed           Yes            No   \n",
       "freq                             360           422           395   \n",
       "\n",
       "       EverTravelledAbroad  \n",
       "count                  497  \n",
       "unique                   2  \n",
       "top                     No  \n",
       "freq                   398  "
      ]
     },
     "execution_count": 8,
     "metadata": {},
     "output_type": "execute_result"
    }
   ],
   "source": [
    "# 카테고리 수 확인\n",
    "test.describe(include=\"object\")"
   ]
  },
  {
   "cell_type": "code",
   "execution_count": 9,
   "id": "6c004299",
   "metadata": {
    "execution": {
     "iopub.execute_input": "2023-06-07T19:08:16.812829Z",
     "iopub.status.busy": "2023-06-07T19:08:16.812315Z",
     "iopub.status.idle": "2023-06-07T19:08:16.817927Z",
     "shell.execute_reply": "2023-06-07T19:08:16.817422Z"
    },
    "papermill": {
     "duration": 0.017251,
     "end_time": "2023-06-07T19:08:16.819388",
     "exception": false,
     "start_time": "2023-06-07T19:08:16.802137",
     "status": "completed"
    },
    "tags": []
   },
   "outputs": [
    {
     "data": {
      "text/plain": [
       "Private Sector/Self Employed    1056\n",
       "Government Sector                434\n",
       "Name: Employment Type, dtype: int64"
      ]
     },
     "execution_count": 9,
     "metadata": {},
     "output_type": "execute_result"
    }
   ],
   "source": [
    "# Employment Type 컬럼 카테고리\n",
    "train['Employment Type'].value_counts()"
   ]
  },
  {
   "cell_type": "code",
   "execution_count": 10,
   "id": "e4bff0ba",
   "metadata": {
    "execution": {
     "iopub.execute_input": "2023-06-07T19:08:16.839303Z",
     "iopub.status.busy": "2023-06-07T19:08:16.838810Z",
     "iopub.status.idle": "2023-06-07T19:08:16.844936Z",
     "shell.execute_reply": "2023-06-07T19:08:16.844232Z"
    },
    "papermill": {
     "duration": 0.017872,
     "end_time": "2023-06-07T19:08:16.846511",
     "exception": false,
     "start_time": "2023-06-07T19:08:16.828639",
     "status": "completed"
    },
    "tags": []
   },
   "outputs": [
    {
     "data": {
      "text/plain": [
       "Private Sector/Self Employed    360\n",
       "Government Sector               134\n",
       "Casual employment                 3\n",
       "Name: Employment Type, dtype: int64"
      ]
     },
     "execution_count": 10,
     "metadata": {},
     "output_type": "execute_result"
    }
   ],
   "source": [
    "# Employment Type 컬럼 카테고리\n",
    "test['Employment Type'].value_counts()"
   ]
  },
  {
   "cell_type": "code",
   "execution_count": 11,
   "id": "11e31d85",
   "metadata": {
    "execution": {
     "iopub.execute_input": "2023-06-07T19:08:16.867112Z",
     "iopub.status.busy": "2023-06-07T19:08:16.866654Z",
     "iopub.status.idle": "2023-06-07T19:08:16.893524Z",
     "shell.execute_reply": "2023-06-07T19:08:16.892802Z"
    },
    "papermill": {
     "duration": 0.039049,
     "end_time": "2023-06-07T19:08:16.895085",
     "exception": false,
     "start_time": "2023-06-07T19:08:16.856036",
     "status": "completed"
    },
    "tags": []
   },
   "outputs": [
    {
     "data": {
      "text/html": [
       "<div>\n",
       "<style scoped>\n",
       "    .dataframe tbody tr th:only-of-type {\n",
       "        vertical-align: middle;\n",
       "    }\n",
       "\n",
       "    .dataframe tbody tr th {\n",
       "        vertical-align: top;\n",
       "    }\n",
       "\n",
       "    .dataframe thead th {\n",
       "        text-align: right;\n",
       "    }\n",
       "</style>\n",
       "<table border=\"1\" class=\"dataframe\">\n",
       "  <thead>\n",
       "    <tr style=\"text-align: right;\">\n",
       "      <th></th>\n",
       "      <th>id</th>\n",
       "      <th>Age</th>\n",
       "      <th>AnnualIncome</th>\n",
       "      <th>FamilyMembers</th>\n",
       "      <th>ChronicDiseases</th>\n",
       "      <th>TravelInsurance</th>\n",
       "    </tr>\n",
       "  </thead>\n",
       "  <tbody>\n",
       "    <tr>\n",
       "      <th>count</th>\n",
       "      <td>1490.000000</td>\n",
       "      <td>1490.000000</td>\n",
       "      <td>1.486000e+03</td>\n",
       "      <td>1490.000000</td>\n",
       "      <td>1490.000000</td>\n",
       "      <td>1490.000000</td>\n",
       "    </tr>\n",
       "    <tr>\n",
       "      <th>mean</th>\n",
       "      <td>10744.500000</td>\n",
       "      <td>29.600000</td>\n",
       "      <td>9.311238e+05</td>\n",
       "      <td>4.755705</td>\n",
       "      <td>0.280537</td>\n",
       "      <td>0.352349</td>\n",
       "    </tr>\n",
       "    <tr>\n",
       "      <th>std</th>\n",
       "      <td>430.270264</td>\n",
       "      <td>2.887829</td>\n",
       "      <td>3.764874e+05</td>\n",
       "      <td>1.603613</td>\n",
       "      <td>0.449412</td>\n",
       "      <td>0.477862</td>\n",
       "    </tr>\n",
       "    <tr>\n",
       "      <th>min</th>\n",
       "      <td>10000.000000</td>\n",
       "      <td>25.000000</td>\n",
       "      <td>3.000000e+05</td>\n",
       "      <td>2.000000</td>\n",
       "      <td>0.000000</td>\n",
       "      <td>0.000000</td>\n",
       "    </tr>\n",
       "    <tr>\n",
       "      <th>25%</th>\n",
       "      <td>10372.250000</td>\n",
       "      <td>28.000000</td>\n",
       "      <td>6.000000e+05</td>\n",
       "      <td>4.000000</td>\n",
       "      <td>0.000000</td>\n",
       "      <td>0.000000</td>\n",
       "    </tr>\n",
       "    <tr>\n",
       "      <th>50%</th>\n",
       "      <td>10744.500000</td>\n",
       "      <td>29.000000</td>\n",
       "      <td>9.000000e+05</td>\n",
       "      <td>5.000000</td>\n",
       "      <td>0.000000</td>\n",
       "      <td>0.000000</td>\n",
       "    </tr>\n",
       "    <tr>\n",
       "      <th>75%</th>\n",
       "      <td>11116.750000</td>\n",
       "      <td>32.000000</td>\n",
       "      <td>1.250000e+06</td>\n",
       "      <td>6.000000</td>\n",
       "      <td>1.000000</td>\n",
       "      <td>1.000000</td>\n",
       "    </tr>\n",
       "    <tr>\n",
       "      <th>max</th>\n",
       "      <td>11489.000000</td>\n",
       "      <td>35.000000</td>\n",
       "      <td>1.800000e+06</td>\n",
       "      <td>9.000000</td>\n",
       "      <td>1.000000</td>\n",
       "      <td>1.000000</td>\n",
       "    </tr>\n",
       "  </tbody>\n",
       "</table>\n",
       "</div>"
      ],
      "text/plain": [
       "                 id          Age  AnnualIncome  FamilyMembers  \\\n",
       "count   1490.000000  1490.000000  1.486000e+03    1490.000000   \n",
       "mean   10744.500000    29.600000  9.311238e+05       4.755705   \n",
       "std      430.270264     2.887829  3.764874e+05       1.603613   \n",
       "min    10000.000000    25.000000  3.000000e+05       2.000000   \n",
       "25%    10372.250000    28.000000  6.000000e+05       4.000000   \n",
       "50%    10744.500000    29.000000  9.000000e+05       5.000000   \n",
       "75%    11116.750000    32.000000  1.250000e+06       6.000000   \n",
       "max    11489.000000    35.000000  1.800000e+06       9.000000   \n",
       "\n",
       "       ChronicDiseases  TravelInsurance  \n",
       "count      1490.000000      1490.000000  \n",
       "mean          0.280537         0.352349  \n",
       "std           0.449412         0.477862  \n",
       "min           0.000000         0.000000  \n",
       "25%           0.000000         0.000000  \n",
       "50%           0.000000         0.000000  \n",
       "75%           1.000000         1.000000  \n",
       "max           1.000000         1.000000  "
      ]
     },
     "execution_count": 11,
     "metadata": {},
     "output_type": "execute_result"
    }
   ],
   "source": [
    "# 수치형 통계 값\n",
    "train.describe(exclude=\"object\")"
   ]
  },
  {
   "cell_type": "code",
   "execution_count": 12,
   "id": "c3f9980b",
   "metadata": {
    "execution": {
     "iopub.execute_input": "2023-06-07T19:08:16.915468Z",
     "iopub.status.busy": "2023-06-07T19:08:16.914987Z",
     "iopub.status.idle": "2023-06-07T19:08:16.934913Z",
     "shell.execute_reply": "2023-06-07T19:08:16.934216Z"
    },
    "papermill": {
     "duration": 0.031778,
     "end_time": "2023-06-07T19:08:16.936486",
     "exception": false,
     "start_time": "2023-06-07T19:08:16.904708",
     "status": "completed"
    },
    "tags": []
   },
   "outputs": [
    {
     "data": {
      "text/html": [
       "<div>\n",
       "<style scoped>\n",
       "    .dataframe tbody tr th:only-of-type {\n",
       "        vertical-align: middle;\n",
       "    }\n",
       "\n",
       "    .dataframe tbody tr th {\n",
       "        vertical-align: top;\n",
       "    }\n",
       "\n",
       "    .dataframe thead th {\n",
       "        text-align: right;\n",
       "    }\n",
       "</style>\n",
       "<table border=\"1\" class=\"dataframe\">\n",
       "  <thead>\n",
       "    <tr style=\"text-align: right;\">\n",
       "      <th></th>\n",
       "      <th>id</th>\n",
       "      <th>Age</th>\n",
       "      <th>AnnualIncome</th>\n",
       "      <th>FamilyMembers</th>\n",
       "      <th>ChronicDiseases</th>\n",
       "    </tr>\n",
       "  </thead>\n",
       "  <tbody>\n",
       "    <tr>\n",
       "      <th>count</th>\n",
       "      <td>497.000000</td>\n",
       "      <td>497.000000</td>\n",
       "      <td>4.940000e+02</td>\n",
       "      <td>497.000000</td>\n",
       "      <td>497.000000</td>\n",
       "    </tr>\n",
       "    <tr>\n",
       "      <th>mean</th>\n",
       "      <td>248.000000</td>\n",
       "      <td>29.800805</td>\n",
       "      <td>9.393725e+05</td>\n",
       "      <td>4.744467</td>\n",
       "      <td>0.269618</td>\n",
       "    </tr>\n",
       "    <tr>\n",
       "      <th>std</th>\n",
       "      <td>143.615807</td>\n",
       "      <td>2.986286</td>\n",
       "      <td>3.792988e+05</td>\n",
       "      <td>1.629211</td>\n",
       "      <td>0.444208</td>\n",
       "    </tr>\n",
       "    <tr>\n",
       "      <th>min</th>\n",
       "      <td>0.000000</td>\n",
       "      <td>25.000000</td>\n",
       "      <td>3.000000e+05</td>\n",
       "      <td>2.000000</td>\n",
       "      <td>0.000000</td>\n",
       "    </tr>\n",
       "    <tr>\n",
       "      <th>25%</th>\n",
       "      <td>124.000000</td>\n",
       "      <td>28.000000</td>\n",
       "      <td>6.000000e+05</td>\n",
       "      <td>4.000000</td>\n",
       "      <td>0.000000</td>\n",
       "    </tr>\n",
       "    <tr>\n",
       "      <th>50%</th>\n",
       "      <td>248.000000</td>\n",
       "      <td>29.000000</td>\n",
       "      <td>9.000000e+05</td>\n",
       "      <td>5.000000</td>\n",
       "      <td>0.000000</td>\n",
       "    </tr>\n",
       "    <tr>\n",
       "      <th>75%</th>\n",
       "      <td>372.000000</td>\n",
       "      <td>33.000000</td>\n",
       "      <td>1.250000e+06</td>\n",
       "      <td>6.000000</td>\n",
       "      <td>1.000000</td>\n",
       "    </tr>\n",
       "    <tr>\n",
       "      <th>max</th>\n",
       "      <td>496.000000</td>\n",
       "      <td>35.000000</td>\n",
       "      <td>1.750000e+06</td>\n",
       "      <td>9.000000</td>\n",
       "      <td>1.000000</td>\n",
       "    </tr>\n",
       "  </tbody>\n",
       "</table>\n",
       "</div>"
      ],
      "text/plain": [
       "               id         Age  AnnualIncome  FamilyMembers  ChronicDiseases\n",
       "count  497.000000  497.000000  4.940000e+02     497.000000       497.000000\n",
       "mean   248.000000   29.800805  9.393725e+05       4.744467         0.269618\n",
       "std    143.615807    2.986286  3.792988e+05       1.629211         0.444208\n",
       "min      0.000000   25.000000  3.000000e+05       2.000000         0.000000\n",
       "25%    124.000000   28.000000  6.000000e+05       4.000000         0.000000\n",
       "50%    248.000000   29.000000  9.000000e+05       5.000000         0.000000\n",
       "75%    372.000000   33.000000  1.250000e+06       6.000000         1.000000\n",
       "max    496.000000   35.000000  1.750000e+06       9.000000         1.000000"
      ]
     },
     "execution_count": 12,
     "metadata": {},
     "output_type": "execute_result"
    }
   ],
   "source": [
    "# 수치형 통계 값\n",
    "test.describe(exclude=\"object\")"
   ]
  },
  {
   "cell_type": "markdown",
   "id": "8e69e676",
   "metadata": {
    "papermill": {
     "duration": 0.009309,
     "end_time": "2023-06-07T19:08:16.955702",
     "exception": false,
     "start_time": "2023-06-07T19:08:16.946393",
     "status": "completed"
    },
    "tags": []
   },
   "source": [
    "실제 시험에서는 결측치가 없었어요. 만약 결측치가 있다면 어떻게 풀어야 할까요?"
   ]
  },
  {
   "cell_type": "code",
   "execution_count": 13,
   "id": "f4343113",
   "metadata": {
    "execution": {
     "iopub.execute_input": "2023-06-07T19:08:16.976415Z",
     "iopub.status.busy": "2023-06-07T19:08:16.975932Z",
     "iopub.status.idle": "2023-06-07T19:08:16.983859Z",
     "shell.execute_reply": "2023-06-07T19:08:16.983006Z"
    },
    "papermill": {
     "duration": 0.021036,
     "end_time": "2023-06-07T19:08:16.986437",
     "exception": false,
     "start_time": "2023-06-07T19:08:16.965401",
     "status": "completed"
    },
    "tags": []
   },
   "outputs": [
    {
     "data": {
      "text/plain": [
       "id                     0\n",
       "Age                    0\n",
       "Employment Type        0\n",
       "GraduateOrNot          0\n",
       "AnnualIncome           4\n",
       "FamilyMembers          0\n",
       "ChronicDiseases        0\n",
       "FrequentFlyer          0\n",
       "EverTravelledAbroad    0\n",
       "TravelInsurance        0\n",
       "dtype: int64"
      ]
     },
     "execution_count": 13,
     "metadata": {},
     "output_type": "execute_result"
    }
   ],
   "source": [
    "# 결측치 확인\n",
    "train.isnull().sum()"
   ]
  },
  {
   "cell_type": "code",
   "execution_count": 14,
   "id": "dd5dac06",
   "metadata": {
    "execution": {
     "iopub.execute_input": "2023-06-07T19:08:17.007646Z",
     "iopub.status.busy": "2023-06-07T19:08:17.007269Z",
     "iopub.status.idle": "2023-06-07T19:08:17.015645Z",
     "shell.execute_reply": "2023-06-07T19:08:17.014300Z"
    },
    "papermill": {
     "duration": 0.020808,
     "end_time": "2023-06-07T19:08:17.017306",
     "exception": false,
     "start_time": "2023-06-07T19:08:16.996498",
     "status": "completed"
    },
    "tags": []
   },
   "outputs": [
    {
     "data": {
      "text/plain": [
       "id                     0\n",
       "Age                    0\n",
       "Employment Type        0\n",
       "GraduateOrNot          0\n",
       "AnnualIncome           3\n",
       "FamilyMembers          0\n",
       "ChronicDiseases        0\n",
       "FrequentFlyer          0\n",
       "EverTravelledAbroad    0\n",
       "dtype: int64"
      ]
     },
     "execution_count": 14,
     "metadata": {},
     "output_type": "execute_result"
    }
   ],
   "source": [
    "# 결측치 확인\n",
    "test.isnull().sum()"
   ]
  },
  {
   "cell_type": "code",
   "execution_count": 15,
   "id": "21c4d678",
   "metadata": {
    "execution": {
     "iopub.execute_input": "2023-06-07T19:08:17.039451Z",
     "iopub.status.busy": "2023-06-07T19:08:17.038844Z",
     "iopub.status.idle": "2023-06-07T19:08:17.046448Z",
     "shell.execute_reply": "2023-06-07T19:08:17.045139Z"
    },
    "papermill": {
     "duration": 0.021477,
     "end_time": "2023-06-07T19:08:17.048689",
     "exception": false,
     "start_time": "2023-06-07T19:08:17.027212",
     "status": "completed"
    },
    "tags": []
   },
   "outputs": [
    {
     "data": {
      "text/plain": [
       "0    965\n",
       "1    525\n",
       "Name: TravelInsurance, dtype: int64"
      ]
     },
     "execution_count": 15,
     "metadata": {},
     "output_type": "execute_result"
    }
   ],
   "source": [
    "# target\n",
    "train['TravelInsurance'].value_counts()"
   ]
  },
  {
   "cell_type": "markdown",
   "id": "08c6a926",
   "metadata": {
    "papermill": {
     "duration": 0.009628,
     "end_time": "2023-06-07T19:08:17.068429",
     "exception": false,
     "start_time": "2023-06-07T19:08:17.058801",
     "status": "completed"
    },
    "tags": []
   },
   "source": [
    "# Data pre-processing"
   ]
  },
  {
   "cell_type": "code",
   "execution_count": 16,
   "id": "c5bb96ce",
   "metadata": {
    "execution": {
     "iopub.execute_input": "2023-06-07T19:08:17.089562Z",
     "iopub.status.busy": "2023-06-07T19:08:17.089187Z",
     "iopub.status.idle": "2023-06-07T19:08:17.094985Z",
     "shell.execute_reply": "2023-06-07T19:08:17.094112Z"
    },
    "papermill": {
     "duration": 0.018559,
     "end_time": "2023-06-07T19:08:17.096766",
     "exception": false,
     "start_time": "2023-06-07T19:08:17.078207",
     "status": "completed"
    },
    "tags": []
   },
   "outputs": [],
   "source": [
    "# 결측치 처리\n",
    "train['AnnualIncome'] = train['AnnualIncome'].fillna(train['AnnualIncome'].mean())\n",
    "test['AnnualIncome'] = test['AnnualIncome'].fillna(test['AnnualIncome'].mean())"
   ]
  },
  {
   "cell_type": "code",
   "execution_count": 17,
   "id": "b48ed672",
   "metadata": {
    "execution": {
     "iopub.execute_input": "2023-06-07T19:08:17.118897Z",
     "iopub.status.busy": "2023-06-07T19:08:17.118542Z",
     "iopub.status.idle": "2023-06-07T19:08:17.123012Z",
     "shell.execute_reply": "2023-06-07T19:08:17.122225Z"
    },
    "papermill": {
     "duration": 0.017351,
     "end_time": "2023-06-07T19:08:17.124665",
     "exception": false,
     "start_time": "2023-06-07T19:08:17.107314",
     "status": "completed"
    },
    "tags": []
   },
   "outputs": [],
   "source": [
    "# target값 변수에 옮기기\n",
    "target = train.pop('TravelInsurance')"
   ]
  },
  {
   "cell_type": "code",
   "execution_count": 18,
   "id": "c8fb1020",
   "metadata": {
    "execution": {
     "iopub.execute_input": "2023-06-07T19:08:17.147396Z",
     "iopub.status.busy": "2023-06-07T19:08:17.147003Z",
     "iopub.status.idle": "2023-06-07T19:08:17.154419Z",
     "shell.execute_reply": "2023-06-07T19:08:17.153600Z"
    },
    "papermill": {
     "duration": 0.021274,
     "end_time": "2023-06-07T19:08:17.156287",
     "exception": false,
     "start_time": "2023-06-07T19:08:17.135013",
     "status": "completed"
    },
    "tags": []
   },
   "outputs": [
    {
     "data": {
      "text/plain": [
       "(1987, 9)"
      ]
     },
     "execution_count": 18,
     "metadata": {},
     "output_type": "execute_result"
    }
   ],
   "source": [
    "# 데이터 합치기\n",
    "df = pd.concat([train, test])\n",
    "df.shape"
   ]
  },
  {
   "cell_type": "code",
   "execution_count": 19,
   "id": "7671d8d7",
   "metadata": {
    "execution": {
     "iopub.execute_input": "2023-06-07T19:08:17.178648Z",
     "iopub.status.busy": "2023-06-07T19:08:17.178305Z",
     "iopub.status.idle": "2023-06-07T19:08:18.281100Z",
     "shell.execute_reply": "2023-06-07T19:08:18.279796Z"
    },
    "papermill": {
     "duration": 1.117014,
     "end_time": "2023-06-07T19:08:18.283678",
     "exception": false,
     "start_time": "2023-06-07T19:08:17.166664",
     "status": "completed"
    },
    "tags": []
   },
   "outputs": [],
   "source": [
    "# 레이블 인코딩\n",
    "from sklearn.preprocessing import LabelEncoder\n",
    "\n",
    "cols = df.select_dtypes(include = \"object\").columns\n",
    "le = LabelEncoder()\n",
    "\n",
    "for col in cols:\n",
    "    df[col] = le.fit_transform(df[col])"
   ]
  },
  {
   "cell_type": "code",
   "execution_count": 20,
   "id": "4f355afb",
   "metadata": {
    "execution": {
     "iopub.execute_input": "2023-06-07T19:08:18.307027Z",
     "iopub.status.busy": "2023-06-07T19:08:18.306654Z",
     "iopub.status.idle": "2023-06-07T19:08:18.313627Z",
     "shell.execute_reply": "2023-06-07T19:08:18.312327Z"
    },
    "papermill": {
     "duration": 0.02124,
     "end_time": "2023-06-07T19:08:18.315827",
     "exception": false,
     "start_time": "2023-06-07T19:08:18.294587",
     "status": "completed"
    },
    "tags": []
   },
   "outputs": [],
   "source": [
    "# train test 다시 분리\n",
    "train = df[:train.shape[0]].copy()\n",
    "test = df[train.shape[0]:].copy()"
   ]
  },
  {
   "cell_type": "code",
   "execution_count": 21,
   "id": "64ddb2b4",
   "metadata": {
    "execution": {
     "iopub.execute_input": "2023-06-07T19:08:18.338088Z",
     "iopub.status.busy": "2023-06-07T19:08:18.337728Z",
     "iopub.status.idle": "2023-06-07T19:08:18.349337Z",
     "shell.execute_reply": "2023-06-07T19:08:18.348320Z"
    },
    "papermill": {
     "duration": 0.025195,
     "end_time": "2023-06-07T19:08:18.351699",
     "exception": false,
     "start_time": "2023-06-07T19:08:18.326504",
     "status": "completed"
    },
    "tags": []
   },
   "outputs": [],
   "source": [
    "# minmax 스케일링\n",
    "from sklearn.preprocessing import MinMaxScaler\n",
    "scaler = MinMaxScaler()\n",
    "\n",
    "train['AnnualIncome'] = scaler.fit_transform(train[['AnnualIncome']])\n",
    "test['AnnualIncome'] = scaler.transform(test[['AnnualIncome']])"
   ]
  },
  {
   "cell_type": "markdown",
   "id": "51c074e8",
   "metadata": {
    "papermill": {
     "duration": 0.009723,
     "end_time": "2023-06-07T19:08:18.371902",
     "exception": false,
     "start_time": "2023-06-07T19:08:18.362179",
     "status": "completed"
    },
    "tags": []
   },
   "source": [
    "# 검증 데이터 분리"
   ]
  },
  {
   "cell_type": "code",
   "execution_count": 22,
   "id": "d3594e55",
   "metadata": {
    "execution": {
     "iopub.execute_input": "2023-06-07T19:08:18.393640Z",
     "iopub.status.busy": "2023-06-07T19:08:18.393272Z",
     "iopub.status.idle": "2023-06-07T19:08:18.462750Z",
     "shell.execute_reply": "2023-06-07T19:08:18.461614Z"
    },
    "papermill": {
     "duration": 0.082864,
     "end_time": "2023-06-07T19:08:18.464883",
     "exception": false,
     "start_time": "2023-06-07T19:08:18.382019",
     "status": "completed"
    },
    "tags": []
   },
   "outputs": [
    {
     "data": {
      "text/plain": [
       "((1192, 9), (298, 9), (1192,), (298,))"
      ]
     },
     "execution_count": 22,
     "metadata": {},
     "output_type": "execute_result"
    }
   ],
   "source": [
    "from sklearn.model_selection import train_test_split\n",
    "X_train, X_val, y_train, y_val = train_test_split(train, target, test_size=0.2, random_state=2023)\n",
    "X_train.shape, X_val.shape, y_train.shape, y_val.shape"
   ]
  },
  {
   "cell_type": "markdown",
   "id": "e715a717",
   "metadata": {
    "papermill": {
     "duration": 0.009782,
     "end_time": "2023-06-07T19:08:18.485230",
     "exception": false,
     "start_time": "2023-06-07T19:08:18.475448",
     "status": "completed"
    },
    "tags": []
   },
   "source": [
    "# 모델 학습 및 평가"
   ]
  },
  {
   "cell_type": "code",
   "execution_count": 23,
   "id": "27ac6810",
   "metadata": {
    "execution": {
     "iopub.execute_input": "2023-06-07T19:08:18.507200Z",
     "iopub.status.busy": "2023-06-07T19:08:18.506813Z",
     "iopub.status.idle": "2023-06-07T19:08:18.670211Z",
     "shell.execute_reply": "2023-06-07T19:08:18.669174Z"
    },
    "papermill": {
     "duration": 0.176926,
     "end_time": "2023-06-07T19:08:18.672358",
     "exception": false,
     "start_time": "2023-06-07T19:08:18.495432",
     "status": "completed"
    },
    "tags": []
   },
   "outputs": [],
   "source": [
    "# 의사결정나무\n",
    "from sklearn.tree import DecisionTreeClassifier\n",
    "model = DecisionTreeClassifier(random_state=2023)\n",
    "model.fit(X_train, y_train)\n",
    "pred = model.predict_proba(X_val)"
   ]
  },
  {
   "cell_type": "code",
   "execution_count": 24,
   "id": "4b306d8a",
   "metadata": {
    "execution": {
     "iopub.execute_input": "2023-06-07T19:08:18.694384Z",
     "iopub.status.busy": "2023-06-07T19:08:18.694016Z",
     "iopub.status.idle": "2023-06-07T19:08:18.704549Z",
     "shell.execute_reply": "2023-06-07T19:08:18.703517Z"
    },
    "papermill": {
     "duration": 0.023723,
     "end_time": "2023-06-07T19:08:18.706409",
     "exception": false,
     "start_time": "2023-06-07T19:08:18.682686",
     "status": "completed"
    },
    "tags": []
   },
   "outputs": [
    {
     "data": {
      "text/plain": [
       "0.694977310231023"
      ]
     },
     "execution_count": 24,
     "metadata": {},
     "output_type": "execute_result"
    }
   ],
   "source": [
    "# 평가\n",
    "from sklearn.metrics import roc_auc_score\n",
    "roc_auc_score(y_val, pred[:,1])"
   ]
  },
  {
   "cell_type": "code",
   "execution_count": 25,
   "id": "bc66204e",
   "metadata": {
    "execution": {
     "iopub.execute_input": "2023-06-07T19:08:18.729632Z",
     "iopub.status.busy": "2023-06-07T19:08:18.728414Z",
     "iopub.status.idle": "2023-06-07T19:08:19.019385Z",
     "shell.execute_reply": "2023-06-07T19:08:19.018141Z"
    },
    "papermill": {
     "duration": 0.305102,
     "end_time": "2023-06-07T19:08:19.021784",
     "exception": false,
     "start_time": "2023-06-07T19:08:18.716682",
     "status": "completed"
    },
    "tags": []
   },
   "outputs": [
    {
     "data": {
      "text/plain": [
       "0.802444306930693"
      ]
     },
     "execution_count": 25,
     "metadata": {},
     "output_type": "execute_result"
    }
   ],
   "source": [
    "# 랜덤포레스트\n",
    "from sklearn.ensemble import RandomForestClassifier\n",
    "model = RandomForestClassifier(random_state=2022)\n",
    "model.fit(X_train, y_train)\n",
    "pred = model.predict_proba(X_val)\n",
    "roc_auc_score(y_val, pred[:,1])"
   ]
  },
  {
   "cell_type": "code",
   "execution_count": 26,
   "id": "c2add1b0",
   "metadata": {
    "execution": {
     "iopub.execute_input": "2023-06-07T19:08:19.044730Z",
     "iopub.status.busy": "2023-06-07T19:08:19.044362Z",
     "iopub.status.idle": "2023-06-07T19:08:19.293875Z",
     "shell.execute_reply": "2023-06-07T19:08:19.293021Z"
    },
    "papermill": {
     "duration": 0.263723,
     "end_time": "2023-06-07T19:08:19.296252",
     "exception": false,
     "start_time": "2023-06-07T19:08:19.032529",
     "status": "completed"
    },
    "tags": []
   },
   "outputs": [
    {
     "data": {
      "text/plain": [
       "0.7893461221122112"
      ]
     },
     "execution_count": 26,
     "metadata": {},
     "output_type": "execute_result"
    }
   ],
   "source": [
    "# xgboost\n",
    "import xgboost as xgb\n",
    "model = xgb.XGBRFClassifier(random_state=2023)\n",
    "model.fit(X_train, y_train)\n",
    "pred = model.predict_proba(X_val)\n",
    "roc_auc_score(y_val, pred[:,1])"
   ]
  },
  {
   "cell_type": "markdown",
   "id": "759d11d7",
   "metadata": {
    "papermill": {
     "duration": 0.010497,
     "end_time": "2023-06-07T19:08:19.317619",
     "exception": false,
     "start_time": "2023-06-07T19:08:19.307122",
     "status": "completed"
    },
    "tags": []
   },
   "source": [
    "# 예측"
   ]
  },
  {
   "cell_type": "code",
   "execution_count": 27,
   "id": "00a9c3d1",
   "metadata": {
    "execution": {
     "iopub.execute_input": "2023-06-07T19:08:19.340718Z",
     "iopub.status.busy": "2023-06-07T19:08:19.340375Z",
     "iopub.status.idle": "2023-06-07T19:08:19.562597Z",
     "shell.execute_reply": "2023-06-07T19:08:19.561813Z"
    },
    "papermill": {
     "duration": 0.236271,
     "end_time": "2023-06-07T19:08:19.564774",
     "exception": false,
     "start_time": "2023-06-07T19:08:19.328503",
     "status": "completed"
    },
    "tags": []
   },
   "outputs": [],
   "source": [
    "# test 데이터 예측\n",
    "model = RandomForestClassifier(random_state=2023)\n",
    "model.fit(X_train, y_train)\n",
    "pred = model.predict_proba(test)"
   ]
  },
  {
   "cell_type": "code",
   "execution_count": 28,
   "id": "bb365b22",
   "metadata": {
    "execution": {
     "iopub.execute_input": "2023-06-07T19:08:19.588487Z",
     "iopub.status.busy": "2023-06-07T19:08:19.588095Z",
     "iopub.status.idle": "2023-06-07T19:08:19.595101Z",
     "shell.execute_reply": "2023-06-07T19:08:19.594405Z"
    },
    "papermill": {
     "duration": 0.021076,
     "end_time": "2023-06-07T19:08:19.597204",
     "exception": false,
     "start_time": "2023-06-07T19:08:19.576128",
     "status": "completed"
    },
    "tags": []
   },
   "outputs": [],
   "source": [
    "# 예측한 데이터 -> 데이터프레임으로\n",
    "submit = pd.DataFrame()\n",
    "submit['id'] = test['id']\n",
    "submit['TravelInsurance'] = pred[:,1]"
   ]
  },
  {
   "cell_type": "code",
   "execution_count": 29,
   "id": "8f6eb079",
   "metadata": {
    "execution": {
     "iopub.execute_input": "2023-06-07T19:08:19.621144Z",
     "iopub.status.busy": "2023-06-07T19:08:19.619973Z",
     "iopub.status.idle": "2023-06-07T19:08:19.629931Z",
     "shell.execute_reply": "2023-06-07T19:08:19.629341Z"
    },
    "papermill": {
     "duration": 0.023414,
     "end_time": "2023-06-07T19:08:19.631398",
     "exception": false,
     "start_time": "2023-06-07T19:08:19.607984",
     "status": "completed"
    },
    "tags": []
   },
   "outputs": [
    {
     "data": {
      "text/html": [
       "<div>\n",
       "<style scoped>\n",
       "    .dataframe tbody tr th:only-of-type {\n",
       "        vertical-align: middle;\n",
       "    }\n",
       "\n",
       "    .dataframe tbody tr th {\n",
       "        vertical-align: top;\n",
       "    }\n",
       "\n",
       "    .dataframe thead th {\n",
       "        text-align: right;\n",
       "    }\n",
       "</style>\n",
       "<table border=\"1\" class=\"dataframe\">\n",
       "  <thead>\n",
       "    <tr style=\"text-align: right;\">\n",
       "      <th></th>\n",
       "      <th>id</th>\n",
       "      <th>TravelInsurance</th>\n",
       "    </tr>\n",
       "  </thead>\n",
       "  <tbody>\n",
       "    <tr>\n",
       "      <th>0</th>\n",
       "      <td>0</td>\n",
       "      <td>0.28</td>\n",
       "    </tr>\n",
       "    <tr>\n",
       "      <th>1</th>\n",
       "      <td>1</td>\n",
       "      <td>0.43</td>\n",
       "    </tr>\n",
       "    <tr>\n",
       "      <th>2</th>\n",
       "      <td>2</td>\n",
       "      <td>0.29</td>\n",
       "    </tr>\n",
       "    <tr>\n",
       "      <th>3</th>\n",
       "      <td>3</td>\n",
       "      <td>0.98</td>\n",
       "    </tr>\n",
       "    <tr>\n",
       "      <th>4</th>\n",
       "      <td>4</td>\n",
       "      <td>0.32</td>\n",
       "    </tr>\n",
       "  </tbody>\n",
       "</table>\n",
       "</div>"
      ],
      "text/plain": [
       "   id  TravelInsurance\n",
       "0   0             0.28\n",
       "1   1             0.43\n",
       "2   2             0.29\n",
       "3   3             0.98\n",
       "4   4             0.32"
      ]
     },
     "execution_count": 29,
     "metadata": {},
     "output_type": "execute_result"
    }
   ],
   "source": [
    "# 예측한 데이터 확인\n",
    "submit.head()"
   ]
  },
  {
   "cell_type": "code",
   "execution_count": 30,
   "id": "54d98f87",
   "metadata": {
    "execution": {
     "iopub.execute_input": "2023-06-07T19:08:19.654528Z",
     "iopub.status.busy": "2023-06-07T19:08:19.653696Z",
     "iopub.status.idle": "2023-06-07T19:08:19.661443Z",
     "shell.execute_reply": "2023-06-07T19:08:19.660668Z"
    },
    "papermill": {
     "duration": 0.021584,
     "end_time": "2023-06-07T19:08:19.663417",
     "exception": false,
     "start_time": "2023-06-07T19:08:19.641833",
     "status": "completed"
    },
    "tags": []
   },
   "outputs": [],
   "source": [
    "# csv 저장\n",
    "submit.to_csv(\"2023.csv\", index=False)"
   ]
  },
  {
   "cell_type": "code",
   "execution_count": 31,
   "id": "6ad166c5",
   "metadata": {
    "execution": {
     "iopub.execute_input": "2023-06-07T19:08:19.686348Z",
     "iopub.status.busy": "2023-06-07T19:08:19.685958Z",
     "iopub.status.idle": "2023-06-07T19:08:19.698894Z",
     "shell.execute_reply": "2023-06-07T19:08:19.698311Z"
    },
    "papermill": {
     "duration": 0.026817,
     "end_time": "2023-06-07T19:08:19.700990",
     "exception": false,
     "start_time": "2023-06-07T19:08:19.674173",
     "status": "completed"
    },
    "tags": []
   },
   "outputs": [
    {
     "data": {
      "text/html": [
       "<div>\n",
       "<style scoped>\n",
       "    .dataframe tbody tr th:only-of-type {\n",
       "        vertical-align: middle;\n",
       "    }\n",
       "\n",
       "    .dataframe tbody tr th {\n",
       "        vertical-align: top;\n",
       "    }\n",
       "\n",
       "    .dataframe thead th {\n",
       "        text-align: right;\n",
       "    }\n",
       "</style>\n",
       "<table border=\"1\" class=\"dataframe\">\n",
       "  <thead>\n",
       "    <tr style=\"text-align: right;\">\n",
       "      <th></th>\n",
       "      <th>id</th>\n",
       "      <th>TravelInsurance</th>\n",
       "    </tr>\n",
       "  </thead>\n",
       "  <tbody>\n",
       "    <tr>\n",
       "      <th>0</th>\n",
       "      <td>0</td>\n",
       "      <td>0.28</td>\n",
       "    </tr>\n",
       "    <tr>\n",
       "      <th>1</th>\n",
       "      <td>1</td>\n",
       "      <td>0.43</td>\n",
       "    </tr>\n",
       "    <tr>\n",
       "      <th>2</th>\n",
       "      <td>2</td>\n",
       "      <td>0.29</td>\n",
       "    </tr>\n",
       "    <tr>\n",
       "      <th>3</th>\n",
       "      <td>3</td>\n",
       "      <td>0.98</td>\n",
       "    </tr>\n",
       "    <tr>\n",
       "      <th>4</th>\n",
       "      <td>4</td>\n",
       "      <td>0.32</td>\n",
       "    </tr>\n",
       "    <tr>\n",
       "      <th>...</th>\n",
       "      <td>...</td>\n",
       "      <td>...</td>\n",
       "    </tr>\n",
       "    <tr>\n",
       "      <th>492</th>\n",
       "      <td>492</td>\n",
       "      <td>0.20</td>\n",
       "    </tr>\n",
       "    <tr>\n",
       "      <th>493</th>\n",
       "      <td>493</td>\n",
       "      <td>0.91</td>\n",
       "    </tr>\n",
       "    <tr>\n",
       "      <th>494</th>\n",
       "      <td>494</td>\n",
       "      <td>0.25</td>\n",
       "    </tr>\n",
       "    <tr>\n",
       "      <th>495</th>\n",
       "      <td>495</td>\n",
       "      <td>0.99</td>\n",
       "    </tr>\n",
       "    <tr>\n",
       "      <th>496</th>\n",
       "      <td>496</td>\n",
       "      <td>0.99</td>\n",
       "    </tr>\n",
       "  </tbody>\n",
       "</table>\n",
       "<p>497 rows × 2 columns</p>\n",
       "</div>"
      ],
      "text/plain": [
       "      id  TravelInsurance\n",
       "0      0             0.28\n",
       "1      1             0.43\n",
       "2      2             0.29\n",
       "3      3             0.98\n",
       "4      4             0.32\n",
       "..   ...              ...\n",
       "492  492             0.20\n",
       "493  493             0.91\n",
       "494  494             0.25\n",
       "495  495             0.99\n",
       "496  496             0.99\n",
       "\n",
       "[497 rows x 2 columns]"
      ]
     },
     "execution_count": 31,
     "metadata": {},
     "output_type": "execute_result"
    }
   ],
   "source": [
    "# csv 확인\n",
    "pd.read_csv(\"2023.csv\")"
   ]
  },
  {
   "cell_type": "markdown",
   "id": "df826c7f",
   "metadata": {
    "papermill": {
     "duration": 0.01069,
     "end_time": "2023-06-07T19:08:19.722792",
     "exception": false,
     "start_time": "2023-06-07T19:08:19.712102",
     "status": "completed"
    },
    "tags": []
   },
   "source": [
    "# 추가"
   ]
  },
  {
   "cell_type": "code",
   "execution_count": 32,
   "id": "3f4dd7f6",
   "metadata": {
    "execution": {
     "iopub.execute_input": "2023-06-07T19:08:19.746972Z",
     "iopub.status.busy": "2023-06-07T19:08:19.746160Z",
     "iopub.status.idle": "2023-06-07T19:08:19.759508Z",
     "shell.execute_reply": "2023-06-07T19:08:19.758314Z"
    },
    "papermill": {
     "duration": 0.027925,
     "end_time": "2023-06-07T19:08:19.761924",
     "exception": false,
     "start_time": "2023-06-07T19:08:19.733999",
     "status": "completed"
    },
    "tags": []
   },
   "outputs": [],
   "source": [
    "# 만약 sample_submission이 주어진다면 (샘플 형태가 아예 주어짐)\n",
    "sample_submission = pd.read_csv(\"../input/big-data-analytics-certification/t2-1-sample_submission.csv\")\n",
    "sample_submission\n",
    "sample_submission['TravelInsurance'] = pred[:,1]\n",
    "sample_submission.to_csv(\"2022.csv\",index=False)"
   ]
  },
  {
   "cell_type": "code",
   "execution_count": 33,
   "id": "9c70aefb",
   "metadata": {
    "execution": {
     "iopub.execute_input": "2023-06-07T19:08:19.786041Z",
     "iopub.status.busy": "2023-06-07T19:08:19.785705Z",
     "iopub.status.idle": "2023-06-07T19:08:19.797856Z",
     "shell.execute_reply": "2023-06-07T19:08:19.797143Z"
    },
    "papermill": {
     "duration": 0.026304,
     "end_time": "2023-06-07T19:08:19.799493",
     "exception": false,
     "start_time": "2023-06-07T19:08:19.773189",
     "status": "completed"
    },
    "tags": []
   },
   "outputs": [
    {
     "data": {
      "text/html": [
       "<div>\n",
       "<style scoped>\n",
       "    .dataframe tbody tr th:only-of-type {\n",
       "        vertical-align: middle;\n",
       "    }\n",
       "\n",
       "    .dataframe tbody tr th {\n",
       "        vertical-align: top;\n",
       "    }\n",
       "\n",
       "    .dataframe thead th {\n",
       "        text-align: right;\n",
       "    }\n",
       "</style>\n",
       "<table border=\"1\" class=\"dataframe\">\n",
       "  <thead>\n",
       "    <tr style=\"text-align: right;\">\n",
       "      <th></th>\n",
       "      <th>id</th>\n",
       "      <th>TravelInsurance</th>\n",
       "    </tr>\n",
       "  </thead>\n",
       "  <tbody>\n",
       "    <tr>\n",
       "      <th>0</th>\n",
       "      <td>0</td>\n",
       "      <td>0.28</td>\n",
       "    </tr>\n",
       "    <tr>\n",
       "      <th>1</th>\n",
       "      <td>1</td>\n",
       "      <td>0.43</td>\n",
       "    </tr>\n",
       "    <tr>\n",
       "      <th>2</th>\n",
       "      <td>2</td>\n",
       "      <td>0.29</td>\n",
       "    </tr>\n",
       "    <tr>\n",
       "      <th>3</th>\n",
       "      <td>3</td>\n",
       "      <td>0.98</td>\n",
       "    </tr>\n",
       "    <tr>\n",
       "      <th>4</th>\n",
       "      <td>4</td>\n",
       "      <td>0.32</td>\n",
       "    </tr>\n",
       "    <tr>\n",
       "      <th>...</th>\n",
       "      <td>...</td>\n",
       "      <td>...</td>\n",
       "    </tr>\n",
       "    <tr>\n",
       "      <th>492</th>\n",
       "      <td>492</td>\n",
       "      <td>0.20</td>\n",
       "    </tr>\n",
       "    <tr>\n",
       "      <th>493</th>\n",
       "      <td>493</td>\n",
       "      <td>0.91</td>\n",
       "    </tr>\n",
       "    <tr>\n",
       "      <th>494</th>\n",
       "      <td>494</td>\n",
       "      <td>0.25</td>\n",
       "    </tr>\n",
       "    <tr>\n",
       "      <th>495</th>\n",
       "      <td>495</td>\n",
       "      <td>0.99</td>\n",
       "    </tr>\n",
       "    <tr>\n",
       "      <th>496</th>\n",
       "      <td>496</td>\n",
       "      <td>0.99</td>\n",
       "    </tr>\n",
       "  </tbody>\n",
       "</table>\n",
       "<p>497 rows × 2 columns</p>\n",
       "</div>"
      ],
      "text/plain": [
       "      id  TravelInsurance\n",
       "0      0             0.28\n",
       "1      1             0.43\n",
       "2      2             0.29\n",
       "3      3             0.98\n",
       "4      4             0.32\n",
       "..   ...              ...\n",
       "492  492             0.20\n",
       "493  493             0.91\n",
       "494  494             0.25\n",
       "495  495             0.99\n",
       "496  496             0.99\n",
       "\n",
       "[497 rows x 2 columns]"
      ]
     },
     "execution_count": 33,
     "metadata": {},
     "output_type": "execute_result"
    }
   ],
   "source": [
    "pd.read_csv(\"2022.csv\")"
   ]
  },
  {
   "cell_type": "code",
   "execution_count": null,
   "id": "8490ee8a",
   "metadata": {
    "papermill": {
     "duration": 0.010971,
     "end_time": "2023-06-07T19:08:19.821724",
     "exception": false,
     "start_time": "2023-06-07T19:08:19.810753",
     "status": "completed"
    },
    "tags": []
   },
   "outputs": [],
   "source": []
  }
 ],
 "metadata": {
  "kernelspec": {
   "display_name": "Python 3",
   "language": "python",
   "name": "python3"
  },
  "language_info": {
   "codemirror_mode": {
    "name": "ipython",
    "version": 3
   },
   "file_extension": ".py",
   "mimetype": "text/x-python",
   "name": "python",
   "nbconvert_exporter": "python",
   "pygments_lexer": "ipython3",
   "version": "3.7.12"
  },
  "papermill": {
   "default_parameters": {},
   "duration": 12.779378,
   "end_time": "2023-06-07T19:08:20.555176",
   "environment_variables": {},
   "exception": null,
   "input_path": "__notebook__.ipynb",
   "output_path": "__notebook__.ipynb",
   "parameters": {},
   "start_time": "2023-06-07T19:08:07.775798",
   "version": "2.3.4"
  }
 },
 "nbformat": 4,
 "nbformat_minor": 5
}
