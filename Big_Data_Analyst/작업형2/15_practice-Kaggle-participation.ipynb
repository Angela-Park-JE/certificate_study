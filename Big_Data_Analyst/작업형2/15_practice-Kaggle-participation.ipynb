{
 "cells": [
  {
   "cell_type": "markdown",
   "id": "ac8632cd",
   "metadata": {
    "papermill": {
     "duration": 0.014673,
     "end_time": "2023-06-22T03:54:56.632545",
     "exception": false,
     "start_time": "2023-06-22T03:54:56.617872",
     "status": "completed"
    },
    "tags": []
   },
   "source": [
    "### 23.06.21\n",
    "(mission 23.06.19 MON)\n",
    "\n",
    "\n",
    "Hi I'm novice in data analysis and I'm studying for certification about data analyzing, in Korea.\n"
   ]
  },
  {
   "cell_type": "markdown",
   "id": "2a0b440f",
   "metadata": {
    "papermill": {
     "duration": 0.011329,
     "end_time": "2023-06-22T03:54:56.655712",
     "exception": false,
     "start_time": "2023-06-22T03:54:56.644383",
     "status": "completed"
    },
    "tags": []
   },
   "source": [
    "### data and libraries"
   ]
  },
  {
   "cell_type": "code",
   "execution_count": 1,
   "id": "ec1921d3",
   "metadata": {
    "_cell_guid": "b1076dfc-b9ad-4769-8c92-a6c4dae69d19",
    "_uuid": "8f2839f25d086af736a60e9eeb907d3b93b6e0e5",
    "execution": {
     "iopub.execute_input": "2023-06-22T03:54:56.683054Z",
     "iopub.status.busy": "2023-06-22T03:54:56.681800Z",
     "iopub.status.idle": "2023-06-22T03:54:59.542993Z",
     "shell.execute_reply": "2023-06-22T03:54:59.541950Z"
    },
    "papermill": {
     "duration": 2.878311,
     "end_time": "2023-06-22T03:54:59.545828",
     "exception": false,
     "start_time": "2023-06-22T03:54:56.667517",
     "status": "completed"
    },
    "tags": []
   },
   "outputs": [],
   "source": [
    "import pandas as pd\n",
    "import numpy as np\n",
    "train = pd.read_csv('/kaggle/input/playground-series-s3e17/train.csv')\n",
    "test = pd.read_csv('/kaggle/input/playground-series-s3e17/test.csv')\n",
    "submission_sample = pd.read_csv('/kaggle/input/playground-series-s3e17/sample_submission.csv')\n",
    "\n",
    "from sklearn.preprocessing import MinMaxScaler, RobustScaler, StandardScaler\n",
    "\n",
    "from sklearn.model_selection import train_test_split\n",
    "\n",
    "from sklearn.svm import SVC\n",
    "from sklearn.linear_model import LogisticRegression\n",
    "from sklearn.ensemble import RandomForestClassifier, GradientBoostingClassifier, AdaBoostClassifier, StackingClassifier\n",
    "\n",
    "from sklearn.metrics import roc_auc_score"
   ]
  },
  {
   "cell_type": "markdown",
   "id": "843d2928",
   "metadata": {
    "papermill": {
     "duration": 0.011344,
     "end_time": "2023-06-22T03:54:59.569002",
     "exception": false,
     "start_time": "2023-06-22T03:54:59.557658",
     "status": "completed"
    },
    "tags": []
   },
   "source": [
    "## data check and simple EDA"
   ]
  },
  {
   "cell_type": "code",
   "execution_count": 2,
   "id": "166d6bf9",
   "metadata": {
    "execution": {
     "iopub.execute_input": "2023-06-22T03:54:59.597858Z",
     "iopub.status.busy": "2023-06-22T03:54:59.597309Z",
     "iopub.status.idle": "2023-06-22T03:54:59.639840Z",
     "shell.execute_reply": "2023-06-22T03:54:59.638212Z"
    },
    "papermill": {
     "duration": 0.061175,
     "end_time": "2023-06-22T03:54:59.642899",
     "exception": false,
     "start_time": "2023-06-22T03:54:59.581724",
     "status": "completed"
    },
    "tags": []
   },
   "outputs": [
    {
     "data": {
      "text/html": [
       "<div>\n",
       "<style scoped>\n",
       "    .dataframe tbody tr th:only-of-type {\n",
       "        vertical-align: middle;\n",
       "    }\n",
       "\n",
       "    .dataframe tbody tr th {\n",
       "        vertical-align: top;\n",
       "    }\n",
       "\n",
       "    .dataframe thead th {\n",
       "        text-align: right;\n",
       "    }\n",
       "</style>\n",
       "<table border=\"1\" class=\"dataframe\">\n",
       "  <thead>\n",
       "    <tr style=\"text-align: right;\">\n",
       "      <th></th>\n",
       "      <th>id</th>\n",
       "      <th>Product ID</th>\n",
       "      <th>Type</th>\n",
       "      <th>Air temperature [K]</th>\n",
       "      <th>Process temperature [K]</th>\n",
       "      <th>Rotational speed [rpm]</th>\n",
       "      <th>Torque [Nm]</th>\n",
       "      <th>Tool wear [min]</th>\n",
       "      <th>Machine failure</th>\n",
       "      <th>TWF</th>\n",
       "      <th>HDF</th>\n",
       "      <th>PWF</th>\n",
       "      <th>OSF</th>\n",
       "      <th>RNF</th>\n",
       "    </tr>\n",
       "  </thead>\n",
       "  <tbody>\n",
       "    <tr>\n",
       "      <th>0</th>\n",
       "      <td>0</td>\n",
       "      <td>L50096</td>\n",
       "      <td>L</td>\n",
       "      <td>300.6</td>\n",
       "      <td>309.6</td>\n",
       "      <td>1596</td>\n",
       "      <td>36.1</td>\n",
       "      <td>140</td>\n",
       "      <td>0</td>\n",
       "      <td>0</td>\n",
       "      <td>0</td>\n",
       "      <td>0</td>\n",
       "      <td>0</td>\n",
       "      <td>0</td>\n",
       "    </tr>\n",
       "    <tr>\n",
       "      <th>1</th>\n",
       "      <td>1</td>\n",
       "      <td>M20343</td>\n",
       "      <td>M</td>\n",
       "      <td>302.6</td>\n",
       "      <td>312.1</td>\n",
       "      <td>1759</td>\n",
       "      <td>29.1</td>\n",
       "      <td>200</td>\n",
       "      <td>0</td>\n",
       "      <td>0</td>\n",
       "      <td>0</td>\n",
       "      <td>0</td>\n",
       "      <td>0</td>\n",
       "      <td>0</td>\n",
       "    </tr>\n",
       "    <tr>\n",
       "      <th>2</th>\n",
       "      <td>2</td>\n",
       "      <td>L49454</td>\n",
       "      <td>L</td>\n",
       "      <td>299.3</td>\n",
       "      <td>308.5</td>\n",
       "      <td>1805</td>\n",
       "      <td>26.5</td>\n",
       "      <td>25</td>\n",
       "      <td>0</td>\n",
       "      <td>0</td>\n",
       "      <td>0</td>\n",
       "      <td>0</td>\n",
       "      <td>0</td>\n",
       "      <td>0</td>\n",
       "    </tr>\n",
       "  </tbody>\n",
       "</table>\n",
       "</div>"
      ],
      "text/plain": [
       "   id Product ID Type  Air temperature [K]  Process temperature [K]  \\\n",
       "0   0     L50096    L                300.6                    309.6   \n",
       "1   1     M20343    M                302.6                    312.1   \n",
       "2   2     L49454    L                299.3                    308.5   \n",
       "\n",
       "   Rotational speed [rpm]  Torque [Nm]  Tool wear [min]  Machine failure  TWF  \\\n",
       "0                    1596         36.1              140                0    0   \n",
       "1                    1759         29.1              200                0    0   \n",
       "2                    1805         26.5               25                0    0   \n",
       "\n",
       "   HDF  PWF  OSF  RNF  \n",
       "0    0    0    0    0  \n",
       "1    0    0    0    0  \n",
       "2    0    0    0    0  "
      ]
     },
     "execution_count": 2,
     "metadata": {},
     "output_type": "execute_result"
    }
   ],
   "source": [
    "train.head(3)"
   ]
  },
  {
   "cell_type": "code",
   "execution_count": 3,
   "id": "b77fe39a",
   "metadata": {
    "execution": {
     "iopub.execute_input": "2023-06-22T03:54:59.669017Z",
     "iopub.status.busy": "2023-06-22T03:54:59.668566Z",
     "iopub.status.idle": "2023-06-22T03:54:59.675663Z",
     "shell.execute_reply": "2023-06-22T03:54:59.674045Z"
    },
    "papermill": {
     "duration": 0.02388,
     "end_time": "2023-06-22T03:54:59.679013",
     "exception": false,
     "start_time": "2023-06-22T03:54:59.655133",
     "status": "completed"
    },
    "tags": []
   },
   "outputs": [
    {
     "name": "stdout",
     "output_type": "stream",
     "text": [
      "(136429, 14) (90954, 13) (90954, 2)\n"
     ]
    }
   ],
   "source": [
    "print(train.shape, test.shape, submission_sample.shape)"
   ]
  },
  {
   "cell_type": "code",
   "execution_count": 4,
   "id": "f314c3b2",
   "metadata": {
    "execution": {
     "iopub.execute_input": "2023-06-22T03:54:59.705551Z",
     "iopub.status.busy": "2023-06-22T03:54:59.704963Z",
     "iopub.status.idle": "2023-06-22T03:54:59.918274Z",
     "shell.execute_reply": "2023-06-22T03:54:59.916141Z"
    },
    "papermill": {
     "duration": 0.230976,
     "end_time": "2023-06-22T03:54:59.922163",
     "exception": false,
     "start_time": "2023-06-22T03:54:59.691187",
     "status": "completed"
    },
    "tags": []
   },
   "outputs": [
    {
     "name": "stdout",
     "output_type": "stream",
     "text": [
      "<class 'pandas.core.frame.DataFrame'>\n",
      "RangeIndex: 136429 entries, 0 to 136428\n",
      "Data columns (total 14 columns):\n",
      " #   Column                   Non-Null Count   Dtype  \n",
      "---  ------                   --------------   -----  \n",
      " 0   id                       136429 non-null  int64  \n",
      " 1   Product ID               136429 non-null  object \n",
      " 2   Type                     136429 non-null  object \n",
      " 3   Air temperature [K]      136429 non-null  float64\n",
      " 4   Process temperature [K]  136429 non-null  float64\n",
      " 5   Rotational speed [rpm]   136429 non-null  int64  \n",
      " 6   Torque [Nm]              136429 non-null  float64\n",
      " 7   Tool wear [min]          136429 non-null  int64  \n",
      " 8   Machine failure          136429 non-null  int64  \n",
      " 9   TWF                      136429 non-null  int64  \n",
      " 10  HDF                      136429 non-null  int64  \n",
      " 11  PWF                      136429 non-null  int64  \n",
      " 12  OSF                      136429 non-null  int64  \n",
      " 13  RNF                      136429 non-null  int64  \n",
      "dtypes: float64(3), int64(9), object(2)\n",
      "memory usage: 14.6+ MB\n",
      "None \n",
      "\n",
      "<class 'pandas.core.frame.DataFrame'>\n",
      "RangeIndex: 90954 entries, 0 to 90953\n",
      "Data columns (total 13 columns):\n",
      " #   Column                   Non-Null Count  Dtype  \n",
      "---  ------                   --------------  -----  \n",
      " 0   id                       90954 non-null  int64  \n",
      " 1   Product ID               90954 non-null  object \n",
      " 2   Type                     90954 non-null  object \n",
      " 3   Air temperature [K]      90954 non-null  float64\n",
      " 4   Process temperature [K]  90954 non-null  float64\n",
      " 5   Rotational speed [rpm]   90954 non-null  int64  \n",
      " 6   Torque [Nm]              90954 non-null  float64\n",
      " 7   Tool wear [min]          90954 non-null  int64  \n",
      " 8   TWF                      90954 non-null  int64  \n",
      " 9   HDF                      90954 non-null  int64  \n",
      " 10  PWF                      90954 non-null  int64  \n",
      " 11  OSF                      90954 non-null  int64  \n",
      " 12  RNF                      90954 non-null  int64  \n",
      "dtypes: float64(3), int64(8), object(2)\n",
      "memory usage: 9.0+ MB\n",
      "None\n"
     ]
    }
   ],
   "source": [
    "print(train.info(), '\\n')\n",
    "print(test.info())\n",
    "\n",
    "# don't have to missing values check"
   ]
  },
  {
   "cell_type": "code",
   "execution_count": 5,
   "id": "996e30ab",
   "metadata": {
    "execution": {
     "iopub.execute_input": "2023-06-22T03:54:59.950732Z",
     "iopub.status.busy": "2023-06-22T03:54:59.950053Z",
     "iopub.status.idle": "2023-06-22T03:55:00.014731Z",
     "shell.execute_reply": "2023-06-22T03:55:00.013019Z"
    },
    "papermill": {
     "duration": 0.081501,
     "end_time": "2023-06-22T03:55:00.017478",
     "exception": false,
     "start_time": "2023-06-22T03:54:59.935977",
     "status": "completed"
    },
    "tags": []
   },
   "outputs": [
    {
     "name": "stdout",
     "output_type": "stream",
     "text": [
      "L53257    139\n",
      "L49056    131\n",
      "L53271    131\n",
      "L54275    120\n",
      "L48892    120\n",
      "         ... \n",
      "M24614      1\n",
      "H39399      1\n",
      "M15853      1\n",
      "H32637      1\n",
      "L48036      1\n",
      "Name: Product ID, Length: 9976, dtype: int64 \n",
      "\n",
      "L56257    98\n",
      "L48892    91\n",
      "L53258    86\n",
      "L53257    85\n",
      "L53271    83\n",
      "          ..\n",
      "L47342     1\n",
      "L50295     1\n",
      "M19622     1\n",
      "L47273     1\n",
      "H36725     1\n",
      "Name: Product ID, Length: 9909, dtype: int64\n"
     ]
    }
   ],
   "source": [
    "# object types : 'Product ID' -> drop\n",
    "print(train['Product ID'].value_counts(), '\\n')\n",
    "print(test['Product ID'].value_counts())"
   ]
  },
  {
   "cell_type": "code",
   "execution_count": 6,
   "id": "eba00c2c",
   "metadata": {
    "execution": {
     "iopub.execute_input": "2023-06-22T03:55:00.045734Z",
     "iopub.status.busy": "2023-06-22T03:55:00.045350Z",
     "iopub.status.idle": "2023-06-22T03:55:00.084319Z",
     "shell.execute_reply": "2023-06-22T03:55:00.082230Z"
    },
    "papermill": {
     "duration": 0.057047,
     "end_time": "2023-06-22T03:55:00.087761",
     "exception": false,
     "start_time": "2023-06-22T03:55:00.030714",
     "status": "completed"
    },
    "tags": []
   },
   "outputs": [
    {
     "name": "stdout",
     "output_type": "stream",
     "text": [
      "L    95354\n",
      "M    32152\n",
      "H     8923\n",
      "Name: Type, dtype: int64 \n",
      "\n",
      "L    63438\n",
      "M    21535\n",
      "H     5981\n",
      "Name: Type, dtype: int64\n"
     ]
    }
   ],
   "source": [
    "# object types : 'Type' (prodict id's first string) -> encoding\n",
    "print(train['Type'].value_counts(), '\\n')\n",
    "print(test['Type'].value_counts())"
   ]
  },
  {
   "cell_type": "code",
   "execution_count": 7,
   "id": "c2400c93",
   "metadata": {
    "execution": {
     "iopub.execute_input": "2023-06-22T03:55:00.117658Z",
     "iopub.status.busy": "2023-06-22T03:55:00.117161Z",
     "iopub.status.idle": "2023-06-22T03:55:00.170637Z",
     "shell.execute_reply": "2023-06-22T03:55:00.168629Z"
    },
    "papermill": {
     "duration": 0.072185,
     "end_time": "2023-06-22T03:55:00.173668",
     "exception": false,
     "start_time": "2023-06-22T03:55:00.101483",
     "status": "completed"
    },
    "tags": []
   },
   "outputs": [
    {
     "name": "stdout",
     "output_type": "stream",
     "text": [
      "### id\n",
      "0         1\n",
      "90948     1\n",
      "90962     1\n",
      "90961     1\n",
      "90960     1\n",
      "         ..\n",
      "45471     1\n",
      "45470     1\n",
      "45469     1\n",
      "45468     1\n",
      "136428    1\n",
      "Name: id, Length: 136429, dtype: int64 \n",
      "\n",
      "### Rotational speed [rpm]\n",
      "1452    1119\n",
      "1447     937\n",
      "1435     931\n",
      "1418     894\n",
      "1469     868\n",
      "        ... \n",
      "2006       1\n",
      "2617       1\n",
      "2676       1\n",
      "2760       1\n",
      "2169       1\n",
      "Name: Rotational speed [rpm], Length: 952, dtype: int64 \n",
      "\n",
      "### Tool wear [min]\n",
      "0      3790\n",
      "2      1771\n",
      "119    1448\n",
      "59     1427\n",
      "5      1419\n",
      "       ... \n",
      "241       7\n",
      "237       6\n",
      "239       6\n",
      "253       3\n",
      "251       1\n",
      "Name: Tool wear [min], Length: 246, dtype: int64 \n",
      "\n",
      "### Machine failure\n",
      "0    134281\n",
      "1      2148\n",
      "Name: Machine failure, dtype: int64 \n",
      "\n",
      "### TWF\n",
      "0    136217\n",
      "1       212\n",
      "Name: TWF, dtype: int64 \n",
      "\n",
      "### HDF\n",
      "0    135725\n",
      "1       704\n",
      "Name: HDF, dtype: int64 \n",
      "\n",
      "### PWF\n",
      "0    136102\n",
      "1       327\n",
      "Name: PWF, dtype: int64 \n",
      "\n",
      "### OSF\n",
      "0    135889\n",
      "1       540\n",
      "Name: OSF, dtype: int64 \n",
      "\n",
      "### RNF\n",
      "0    136121\n",
      "1       308\n",
      "Name: RNF, dtype: int64 \n",
      "\n"
     ]
    }
   ],
   "source": [
    "# int types \n",
    "# print(train.select_dtypes('int64').columns)\n",
    "\n",
    "int64types_list = list(train.select_dtypes('int64').columns)\n",
    "for i in int64types_list:\n",
    "    print('### {}'.format(i))\n",
    "    print(train[i].value_counts(), '\\n')\n",
    "\n",
    "# 'Machine failure' : target\n",
    "# 'TWF', 'HDF', 'PWF', 'OSF', 'RNF' : binary features"
   ]
  },
  {
   "cell_type": "code",
   "execution_count": 8,
   "id": "b2b0cbab",
   "metadata": {
    "execution": {
     "iopub.execute_input": "2023-06-22T03:55:00.201348Z",
     "iopub.status.busy": "2023-06-22T03:55:00.200915Z",
     "iopub.status.idle": "2023-06-22T03:55:00.309998Z",
     "shell.execute_reply": "2023-06-22T03:55:00.308181Z"
    },
    "papermill": {
     "duration": 0.126237,
     "end_time": "2023-06-22T03:55:00.312843",
     "exception": false,
     "start_time": "2023-06-22T03:55:00.186606",
     "status": "completed"
    },
    "tags": []
   },
   "outputs": [
    {
     "data": {
      "text/html": [
       "<div>\n",
       "<style scoped>\n",
       "    .dataframe tbody tr th:only-of-type {\n",
       "        vertical-align: middle;\n",
       "    }\n",
       "\n",
       "    .dataframe tbody tr th {\n",
       "        vertical-align: top;\n",
       "    }\n",
       "\n",
       "    .dataframe thead th {\n",
       "        text-align: right;\n",
       "    }\n",
       "</style>\n",
       "<table border=\"1\" class=\"dataframe\">\n",
       "  <thead>\n",
       "    <tr style=\"text-align: right;\">\n",
       "      <th></th>\n",
       "      <th>id</th>\n",
       "      <th>Air temperature [K]</th>\n",
       "      <th>Process temperature [K]</th>\n",
       "      <th>Rotational speed [rpm]</th>\n",
       "      <th>Torque [Nm]</th>\n",
       "      <th>Tool wear [min]</th>\n",
       "      <th>Machine failure</th>\n",
       "      <th>TWF</th>\n",
       "      <th>HDF</th>\n",
       "      <th>PWF</th>\n",
       "      <th>OSF</th>\n",
       "      <th>RNF</th>\n",
       "    </tr>\n",
       "  </thead>\n",
       "  <tbody>\n",
       "    <tr>\n",
       "      <th>count</th>\n",
       "      <td>136429.000000</td>\n",
       "      <td>136429.000000</td>\n",
       "      <td>136429.000000</td>\n",
       "      <td>136429.000000</td>\n",
       "      <td>136429.000000</td>\n",
       "      <td>136429.000000</td>\n",
       "      <td>136429.000000</td>\n",
       "      <td>136429.000000</td>\n",
       "      <td>136429.000000</td>\n",
       "      <td>136429.000000</td>\n",
       "      <td>136429.000000</td>\n",
       "      <td>136429.000000</td>\n",
       "    </tr>\n",
       "    <tr>\n",
       "      <th>mean</th>\n",
       "      <td>68214.000000</td>\n",
       "      <td>299.862776</td>\n",
       "      <td>309.941070</td>\n",
       "      <td>1520.331110</td>\n",
       "      <td>40.348643</td>\n",
       "      <td>104.408901</td>\n",
       "      <td>0.015744</td>\n",
       "      <td>0.001554</td>\n",
       "      <td>0.005160</td>\n",
       "      <td>0.002397</td>\n",
       "      <td>0.003958</td>\n",
       "      <td>0.002258</td>\n",
       "    </tr>\n",
       "    <tr>\n",
       "      <th>std</th>\n",
       "      <td>39383.804275</td>\n",
       "      <td>1.862247</td>\n",
       "      <td>1.385173</td>\n",
       "      <td>138.736632</td>\n",
       "      <td>8.502229</td>\n",
       "      <td>63.965040</td>\n",
       "      <td>0.124486</td>\n",
       "      <td>0.039389</td>\n",
       "      <td>0.071649</td>\n",
       "      <td>0.048899</td>\n",
       "      <td>0.062789</td>\n",
       "      <td>0.047461</td>\n",
       "    </tr>\n",
       "    <tr>\n",
       "      <th>min</th>\n",
       "      <td>0.000000</td>\n",
       "      <td>295.300000</td>\n",
       "      <td>305.800000</td>\n",
       "      <td>1181.000000</td>\n",
       "      <td>3.800000</td>\n",
       "      <td>0.000000</td>\n",
       "      <td>0.000000</td>\n",
       "      <td>0.000000</td>\n",
       "      <td>0.000000</td>\n",
       "      <td>0.000000</td>\n",
       "      <td>0.000000</td>\n",
       "      <td>0.000000</td>\n",
       "    </tr>\n",
       "    <tr>\n",
       "      <th>25%</th>\n",
       "      <td>34107.000000</td>\n",
       "      <td>298.300000</td>\n",
       "      <td>308.700000</td>\n",
       "      <td>1432.000000</td>\n",
       "      <td>34.600000</td>\n",
       "      <td>48.000000</td>\n",
       "      <td>0.000000</td>\n",
       "      <td>0.000000</td>\n",
       "      <td>0.000000</td>\n",
       "      <td>0.000000</td>\n",
       "      <td>0.000000</td>\n",
       "      <td>0.000000</td>\n",
       "    </tr>\n",
       "    <tr>\n",
       "      <th>50%</th>\n",
       "      <td>68214.000000</td>\n",
       "      <td>300.000000</td>\n",
       "      <td>310.000000</td>\n",
       "      <td>1493.000000</td>\n",
       "      <td>40.400000</td>\n",
       "      <td>106.000000</td>\n",
       "      <td>0.000000</td>\n",
       "      <td>0.000000</td>\n",
       "      <td>0.000000</td>\n",
       "      <td>0.000000</td>\n",
       "      <td>0.000000</td>\n",
       "      <td>0.000000</td>\n",
       "    </tr>\n",
       "    <tr>\n",
       "      <th>75%</th>\n",
       "      <td>102321.000000</td>\n",
       "      <td>301.200000</td>\n",
       "      <td>310.900000</td>\n",
       "      <td>1580.000000</td>\n",
       "      <td>46.100000</td>\n",
       "      <td>159.000000</td>\n",
       "      <td>0.000000</td>\n",
       "      <td>0.000000</td>\n",
       "      <td>0.000000</td>\n",
       "      <td>0.000000</td>\n",
       "      <td>0.000000</td>\n",
       "      <td>0.000000</td>\n",
       "    </tr>\n",
       "    <tr>\n",
       "      <th>max</th>\n",
       "      <td>136428.000000</td>\n",
       "      <td>304.400000</td>\n",
       "      <td>313.800000</td>\n",
       "      <td>2886.000000</td>\n",
       "      <td>76.600000</td>\n",
       "      <td>253.000000</td>\n",
       "      <td>1.000000</td>\n",
       "      <td>1.000000</td>\n",
       "      <td>1.000000</td>\n",
       "      <td>1.000000</td>\n",
       "      <td>1.000000</td>\n",
       "      <td>1.000000</td>\n",
       "    </tr>\n",
       "  </tbody>\n",
       "</table>\n",
       "</div>"
      ],
      "text/plain": [
       "                  id  Air temperature [K]  Process temperature [K]  \\\n",
       "count  136429.000000        136429.000000            136429.000000   \n",
       "mean    68214.000000           299.862776               309.941070   \n",
       "std     39383.804275             1.862247                 1.385173   \n",
       "min         0.000000           295.300000               305.800000   \n",
       "25%     34107.000000           298.300000               308.700000   \n",
       "50%     68214.000000           300.000000               310.000000   \n",
       "75%    102321.000000           301.200000               310.900000   \n",
       "max    136428.000000           304.400000               313.800000   \n",
       "\n",
       "       Rotational speed [rpm]    Torque [Nm]  Tool wear [min]  \\\n",
       "count           136429.000000  136429.000000    136429.000000   \n",
       "mean              1520.331110      40.348643       104.408901   \n",
       "std                138.736632       8.502229        63.965040   \n",
       "min               1181.000000       3.800000         0.000000   \n",
       "25%               1432.000000      34.600000        48.000000   \n",
       "50%               1493.000000      40.400000       106.000000   \n",
       "75%               1580.000000      46.100000       159.000000   \n",
       "max               2886.000000      76.600000       253.000000   \n",
       "\n",
       "       Machine failure            TWF            HDF            PWF  \\\n",
       "count    136429.000000  136429.000000  136429.000000  136429.000000   \n",
       "mean          0.015744       0.001554       0.005160       0.002397   \n",
       "std           0.124486       0.039389       0.071649       0.048899   \n",
       "min           0.000000       0.000000       0.000000       0.000000   \n",
       "25%           0.000000       0.000000       0.000000       0.000000   \n",
       "50%           0.000000       0.000000       0.000000       0.000000   \n",
       "75%           0.000000       0.000000       0.000000       0.000000   \n",
       "max           1.000000       1.000000       1.000000       1.000000   \n",
       "\n",
       "                 OSF            RNF  \n",
       "count  136429.000000  136429.000000  \n",
       "mean        0.003958       0.002258  \n",
       "std         0.062789       0.047461  \n",
       "min         0.000000       0.000000  \n",
       "25%         0.000000       0.000000  \n",
       "50%         0.000000       0.000000  \n",
       "75%         0.000000       0.000000  \n",
       "max         1.000000       1.000000  "
      ]
     },
     "execution_count": 8,
     "metadata": {},
     "output_type": "execute_result"
    }
   ],
   "source": [
    "train.describe()\n",
    "# it has ideal data except 'Torque [Nm]'s min value. (3.800000)"
   ]
  },
  {
   "cell_type": "code",
   "execution_count": 9,
   "id": "0af94671",
   "metadata": {
    "execution": {
     "iopub.execute_input": "2023-06-22T03:55:00.341320Z",
     "iopub.status.busy": "2023-06-22T03:55:00.340891Z",
     "iopub.status.idle": "2023-06-22T03:55:00.421922Z",
     "shell.execute_reply": "2023-06-22T03:55:00.420114Z"
    },
    "papermill": {
     "duration": 0.098964,
     "end_time": "2023-06-22T03:55:00.425357",
     "exception": false,
     "start_time": "2023-06-22T03:55:00.326393",
     "status": "completed"
    },
    "tags": []
   },
   "outputs": [
    {
     "data": {
      "text/html": [
       "<div>\n",
       "<style scoped>\n",
       "    .dataframe tbody tr th:only-of-type {\n",
       "        vertical-align: middle;\n",
       "    }\n",
       "\n",
       "    .dataframe tbody tr th {\n",
       "        vertical-align: top;\n",
       "    }\n",
       "\n",
       "    .dataframe thead th {\n",
       "        text-align: right;\n",
       "    }\n",
       "</style>\n",
       "<table border=\"1\" class=\"dataframe\">\n",
       "  <thead>\n",
       "    <tr style=\"text-align: right;\">\n",
       "      <th></th>\n",
       "      <th>id</th>\n",
       "      <th>Air temperature [K]</th>\n",
       "      <th>Process temperature [K]</th>\n",
       "      <th>Rotational speed [rpm]</th>\n",
       "      <th>Torque [Nm]</th>\n",
       "      <th>Tool wear [min]</th>\n",
       "      <th>TWF</th>\n",
       "      <th>HDF</th>\n",
       "      <th>PWF</th>\n",
       "      <th>OSF</th>\n",
       "      <th>RNF</th>\n",
       "    </tr>\n",
       "  </thead>\n",
       "  <tbody>\n",
       "    <tr>\n",
       "      <th>count</th>\n",
       "      <td>90954.000000</td>\n",
       "      <td>90954.000000</td>\n",
       "      <td>90954.000000</td>\n",
       "      <td>90954.000000</td>\n",
       "      <td>90954.000000</td>\n",
       "      <td>90954.000000</td>\n",
       "      <td>90954.000000</td>\n",
       "      <td>90954.000000</td>\n",
       "      <td>90954.000000</td>\n",
       "      <td>90954.00000</td>\n",
       "      <td>90954.000000</td>\n",
       "    </tr>\n",
       "    <tr>\n",
       "      <th>mean</th>\n",
       "      <td>181905.500000</td>\n",
       "      <td>299.859493</td>\n",
       "      <td>309.939375</td>\n",
       "      <td>1520.528179</td>\n",
       "      <td>40.335191</td>\n",
       "      <td>104.293962</td>\n",
       "      <td>0.001473</td>\n",
       "      <td>0.005343</td>\n",
       "      <td>0.002353</td>\n",
       "      <td>0.00387</td>\n",
       "      <td>0.002309</td>\n",
       "    </tr>\n",
       "    <tr>\n",
       "      <th>std</th>\n",
       "      <td>26256.302529</td>\n",
       "      <td>1.857562</td>\n",
       "      <td>1.385296</td>\n",
       "      <td>139.970419</td>\n",
       "      <td>8.504683</td>\n",
       "      <td>63.871092</td>\n",
       "      <td>0.038355</td>\n",
       "      <td>0.072903</td>\n",
       "      <td>0.048449</td>\n",
       "      <td>0.06209</td>\n",
       "      <td>0.047995</td>\n",
       "    </tr>\n",
       "    <tr>\n",
       "      <th>min</th>\n",
       "      <td>136429.000000</td>\n",
       "      <td>295.300000</td>\n",
       "      <td>305.700000</td>\n",
       "      <td>1168.000000</td>\n",
       "      <td>3.800000</td>\n",
       "      <td>0.000000</td>\n",
       "      <td>0.000000</td>\n",
       "      <td>0.000000</td>\n",
       "      <td>0.000000</td>\n",
       "      <td>0.00000</td>\n",
       "      <td>0.000000</td>\n",
       "    </tr>\n",
       "    <tr>\n",
       "      <th>25%</th>\n",
       "      <td>159167.250000</td>\n",
       "      <td>298.300000</td>\n",
       "      <td>308.700000</td>\n",
       "      <td>1432.000000</td>\n",
       "      <td>34.600000</td>\n",
       "      <td>48.000000</td>\n",
       "      <td>0.000000</td>\n",
       "      <td>0.000000</td>\n",
       "      <td>0.000000</td>\n",
       "      <td>0.00000</td>\n",
       "      <td>0.000000</td>\n",
       "    </tr>\n",
       "    <tr>\n",
       "      <th>50%</th>\n",
       "      <td>181905.500000</td>\n",
       "      <td>300.000000</td>\n",
       "      <td>310.000000</td>\n",
       "      <td>1493.000000</td>\n",
       "      <td>40.500000</td>\n",
       "      <td>106.000000</td>\n",
       "      <td>0.000000</td>\n",
       "      <td>0.000000</td>\n",
       "      <td>0.000000</td>\n",
       "      <td>0.00000</td>\n",
       "      <td>0.000000</td>\n",
       "    </tr>\n",
       "    <tr>\n",
       "      <th>75%</th>\n",
       "      <td>204643.750000</td>\n",
       "      <td>301.200000</td>\n",
       "      <td>310.900000</td>\n",
       "      <td>1579.000000</td>\n",
       "      <td>46.200000</td>\n",
       "      <td>158.000000</td>\n",
       "      <td>0.000000</td>\n",
       "      <td>0.000000</td>\n",
       "      <td>0.000000</td>\n",
       "      <td>0.00000</td>\n",
       "      <td>0.000000</td>\n",
       "    </tr>\n",
       "    <tr>\n",
       "      <th>max</th>\n",
       "      <td>227382.000000</td>\n",
       "      <td>304.400000</td>\n",
       "      <td>313.800000</td>\n",
       "      <td>2886.000000</td>\n",
       "      <td>76.600000</td>\n",
       "      <td>253.000000</td>\n",
       "      <td>1.000000</td>\n",
       "      <td>1.000000</td>\n",
       "      <td>1.000000</td>\n",
       "      <td>1.00000</td>\n",
       "      <td>1.000000</td>\n",
       "    </tr>\n",
       "  </tbody>\n",
       "</table>\n",
       "</div>"
      ],
      "text/plain": [
       "                  id  Air temperature [K]  Process temperature [K]  \\\n",
       "count   90954.000000         90954.000000             90954.000000   \n",
       "mean   181905.500000           299.859493               309.939375   \n",
       "std     26256.302529             1.857562                 1.385296   \n",
       "min    136429.000000           295.300000               305.700000   \n",
       "25%    159167.250000           298.300000               308.700000   \n",
       "50%    181905.500000           300.000000               310.000000   \n",
       "75%    204643.750000           301.200000               310.900000   \n",
       "max    227382.000000           304.400000               313.800000   \n",
       "\n",
       "       Rotational speed [rpm]   Torque [Nm]  Tool wear [min]           TWF  \\\n",
       "count            90954.000000  90954.000000     90954.000000  90954.000000   \n",
       "mean              1520.528179     40.335191       104.293962      0.001473   \n",
       "std                139.970419      8.504683        63.871092      0.038355   \n",
       "min               1168.000000      3.800000         0.000000      0.000000   \n",
       "25%               1432.000000     34.600000        48.000000      0.000000   \n",
       "50%               1493.000000     40.500000       106.000000      0.000000   \n",
       "75%               1579.000000     46.200000       158.000000      0.000000   \n",
       "max               2886.000000     76.600000       253.000000      1.000000   \n",
       "\n",
       "                HDF           PWF          OSF           RNF  \n",
       "count  90954.000000  90954.000000  90954.00000  90954.000000  \n",
       "mean       0.005343      0.002353      0.00387      0.002309  \n",
       "std        0.072903      0.048449      0.06209      0.047995  \n",
       "min        0.000000      0.000000      0.00000      0.000000  \n",
       "25%        0.000000      0.000000      0.00000      0.000000  \n",
       "50%        0.000000      0.000000      0.00000      0.000000  \n",
       "75%        0.000000      0.000000      0.00000      0.000000  \n",
       "max        1.000000      1.000000      1.00000      1.000000  "
      ]
     },
     "execution_count": 9,
     "metadata": {},
     "output_type": "execute_result"
    }
   ],
   "source": [
    "test.describe()\n",
    "# but the '3.800000' is exist in test data, too. I'll treat it as normal data."
   ]
  },
  {
   "cell_type": "code",
   "execution_count": 10,
   "id": "3ee21fd5",
   "metadata": {
    "execution": {
     "iopub.execute_input": "2023-06-22T03:55:00.457203Z",
     "iopub.status.busy": "2023-06-22T03:55:00.456811Z",
     "iopub.status.idle": "2023-06-22T03:55:00.543561Z",
     "shell.execute_reply": "2023-06-22T03:55:00.542182Z"
    },
    "papermill": {
     "duration": 0.105747,
     "end_time": "2023-06-22T03:55:00.546194",
     "exception": false,
     "start_time": "2023-06-22T03:55:00.440447",
     "status": "completed"
    },
    "tags": []
   },
   "outputs": [
    {
     "data": {
      "text/html": [
       "<div>\n",
       "<style scoped>\n",
       "    .dataframe tbody tr th:only-of-type {\n",
       "        vertical-align: middle;\n",
       "    }\n",
       "\n",
       "    .dataframe tbody tr th {\n",
       "        vertical-align: top;\n",
       "    }\n",
       "\n",
       "    .dataframe thead th {\n",
       "        text-align: right;\n",
       "    }\n",
       "</style>\n",
       "<table border=\"1\" class=\"dataframe\">\n",
       "  <thead>\n",
       "    <tr style=\"text-align: right;\">\n",
       "      <th></th>\n",
       "      <th>Machine failure</th>\n",
       "    </tr>\n",
       "  </thead>\n",
       "  <tbody>\n",
       "    <tr>\n",
       "      <th>id</th>\n",
       "      <td>0.001500</td>\n",
       "    </tr>\n",
       "    <tr>\n",
       "      <th>Air temperature [K]</th>\n",
       "      <td>0.067744</td>\n",
       "    </tr>\n",
       "    <tr>\n",
       "      <th>Process temperature [K]</th>\n",
       "      <td>0.030966</td>\n",
       "    </tr>\n",
       "    <tr>\n",
       "      <th>Rotational speed [rpm]</th>\n",
       "      <td>-0.060868</td>\n",
       "    </tr>\n",
       "    <tr>\n",
       "      <th>Torque [Nm]</th>\n",
       "      <td>0.145793</td>\n",
       "    </tr>\n",
       "    <tr>\n",
       "      <th>Tool wear [min]</th>\n",
       "      <td>0.056448</td>\n",
       "    </tr>\n",
       "    <tr>\n",
       "      <th>Machine failure</th>\n",
       "      <td>1.000000</td>\n",
       "    </tr>\n",
       "    <tr>\n",
       "      <th>TWF</th>\n",
       "      <td>0.311919</td>\n",
       "    </tr>\n",
       "    <tr>\n",
       "      <th>HDF</th>\n",
       "      <td>0.564507</td>\n",
       "    </tr>\n",
       "    <tr>\n",
       "      <th>PWF</th>\n",
       "      <td>0.383941</td>\n",
       "    </tr>\n",
       "    <tr>\n",
       "      <th>OSF</th>\n",
       "      <td>0.494668</td>\n",
       "    </tr>\n",
       "    <tr>\n",
       "      <th>RNF</th>\n",
       "      <td>0.001428</td>\n",
       "    </tr>\n",
       "  </tbody>\n",
       "</table>\n",
       "</div>"
      ],
      "text/plain": [
       "                         Machine failure\n",
       "id                              0.001500\n",
       "Air temperature [K]             0.067744\n",
       "Process temperature [K]         0.030966\n",
       "Rotational speed [rpm]         -0.060868\n",
       "Torque [Nm]                     0.145793\n",
       "Tool wear [min]                 0.056448\n",
       "Machine failure                 1.000000\n",
       "TWF                             0.311919\n",
       "HDF                             0.564507\n",
       "PWF                             0.383941\n",
       "OSF                             0.494668\n",
       "RNF                             0.001428"
      ]
     },
     "execution_count": 10,
     "metadata": {},
     "output_type": "execute_result"
    }
   ],
   "source": [
    "train.select_dtypes(exclude = 'O').corr()[['Machine failure']]"
   ]
  },
  {
   "cell_type": "markdown",
   "id": "f36adb07",
   "metadata": {
    "papermill": {
     "duration": 0.013369,
     "end_time": "2023-06-22T03:55:00.573377",
     "exception": false,
     "start_time": "2023-06-22T03:55:00.560008",
     "status": "completed"
    },
    "tags": []
   },
   "source": [
    "## Preprocessing"
   ]
  },
  {
   "cell_type": "code",
   "execution_count": 11,
   "id": "e129d399",
   "metadata": {
    "execution": {
     "iopub.execute_input": "2023-06-22T03:55:00.606208Z",
     "iopub.status.busy": "2023-06-22T03:55:00.605796Z",
     "iopub.status.idle": "2023-06-22T03:55:00.629682Z",
     "shell.execute_reply": "2023-06-22T03:55:00.628324Z"
    },
    "papermill": {
     "duration": 0.043715,
     "end_time": "2023-06-22T03:55:00.632397",
     "exception": false,
     "start_time": "2023-06-22T03:55:00.588682",
     "status": "completed"
    },
    "tags": []
   },
   "outputs": [
    {
     "name": "stdout",
     "output_type": "stream",
     "text": [
      "(227383, 13) (136429, 13) (90954, 13)\n"
     ]
    }
   ],
   "source": [
    "y_train = train.pop('Machine failure')\n",
    "\n",
    "df = pd.concat([train, test], axis = 0)\n",
    "print(df.shape, train.shape, test.shape)"
   ]
  },
  {
   "cell_type": "code",
   "execution_count": 12,
   "id": "23e4ec6e",
   "metadata": {
    "execution": {
     "iopub.execute_input": "2023-06-22T03:55:00.662098Z",
     "iopub.status.busy": "2023-06-22T03:55:00.661688Z",
     "iopub.status.idle": "2023-06-22T03:55:00.698606Z",
     "shell.execute_reply": "2023-06-22T03:55:00.697266Z"
    },
    "papermill": {
     "duration": 0.054817,
     "end_time": "2023-06-22T03:55:00.701344",
     "exception": false,
     "start_time": "2023-06-22T03:55:00.646527",
     "status": "completed"
    },
    "tags": []
   },
   "outputs": [
    {
     "name": "stdout",
     "output_type": "stream",
     "text": [
      "(227383, 12) (136429, 13) (90954, 13)\n"
     ]
    }
   ],
   "source": [
    "# 1. Object type - drop the column 'Product ID'\n",
    "df = df.drop(columns = 'Product ID')\n",
    "print(df.shape, train.shape, test.shape)"
   ]
  },
  {
   "cell_type": "code",
   "execution_count": 13,
   "id": "03f9a32e",
   "metadata": {
    "execution": {
     "iopub.execute_input": "2023-06-22T03:55:00.732745Z",
     "iopub.status.busy": "2023-06-22T03:55:00.732341Z",
     "iopub.status.idle": "2023-06-22T03:55:00.803883Z",
     "shell.execute_reply": "2023-06-22T03:55:00.802662Z"
    },
    "papermill": {
     "duration": 0.090391,
     "end_time": "2023-06-22T03:55:00.806848",
     "exception": false,
     "start_time": "2023-06-22T03:55:00.716457",
     "status": "completed"
    },
    "tags": []
   },
   "outputs": [],
   "source": [
    "# 2. Object type - encoding the column 'Type'\n",
    "# one-hot encoding with pandas : because it has little unbalanced categories\n",
    "df = pd.get_dummies(data = df, columns = ['Type'], drop_first = True)"
   ]
  },
  {
   "cell_type": "code",
   "execution_count": 14,
   "id": "b68e6601",
   "metadata": {
    "execution": {
     "iopub.execute_input": "2023-06-22T03:55:00.837209Z",
     "iopub.status.busy": "2023-06-22T03:55:00.836772Z",
     "iopub.status.idle": "2023-06-22T03:55:00.871022Z",
     "shell.execute_reply": "2023-06-22T03:55:00.869302Z"
    },
    "papermill": {
     "duration": 0.053339,
     "end_time": "2023-06-22T03:55:00.874144",
     "exception": false,
     "start_time": "2023-06-22T03:55:00.820805",
     "status": "completed"
    },
    "tags": []
   },
   "outputs": [
    {
     "name": "stdout",
     "output_type": "stream",
     "text": [
      "Index(['id', 'Air temperature [K]', 'Process temperature [K]',\n",
      "       'Rotational speed [rpm]', 'Torque [Nm]', 'Tool wear [min]', 'TWF',\n",
      "       'HDF', 'PWF', 'OSF', 'RNF', 'Type_L', 'Type_M'],\n",
      "      dtype='object')\n"
     ]
    }
   ],
   "source": [
    "print(df.select_dtypes(exclude = 'O').columns)"
   ]
  },
  {
   "cell_type": "code",
   "execution_count": 15,
   "id": "db3a2e49",
   "metadata": {
    "execution": {
     "iopub.execute_input": "2023-06-22T03:55:00.905580Z",
     "iopub.status.busy": "2023-06-22T03:55:00.905091Z",
     "iopub.status.idle": "2023-06-22T03:55:01.134628Z",
     "shell.execute_reply": "2023-06-22T03:55:01.133354Z"
    },
    "papermill": {
     "duration": 0.249501,
     "end_time": "2023-06-22T03:55:01.137928",
     "exception": false,
     "start_time": "2023-06-22T03:55:00.888427",
     "status": "completed"
    },
    "tags": []
   },
   "outputs": [
    {
     "name": "stderr",
     "output_type": "stream",
     "text": [
      "/tmp/ipykernel_20/2714640218.py:8: SettingWithCopyWarning: \n",
      "A value is trying to be set on a copy of a slice from a DataFrame.\n",
      "Try using .loc[row_indexer,col_indexer] = value instead\n",
      "\n",
      "See the caveats in the documentation: https://pandas.pydata.org/pandas-docs/stable/user_guide/indexing.html#returning-a-view-versus-a-copy\n",
      "  X_train.loc[: ,'Air temperature [K]':'Rotational speed [rpm]'] = scaler.fit_transform(X_train.loc[: ,'Air temperature [K]':'Rotational speed [rpm]'])\n",
      "/tmp/ipykernel_20/2714640218.py:9: SettingWithCopyWarning: \n",
      "A value is trying to be set on a copy of a slice from a DataFrame.\n",
      "Try using .loc[row_indexer,col_indexer] = value instead\n",
      "\n",
      "See the caveats in the documentation: https://pandas.pydata.org/pandas-docs/stable/user_guide/indexing.html#returning-a-view-versus-a-copy\n",
      "  X_test.loc[:, 'Air temperature [K]':'Rotational speed [rpm]'] =  scaler.transform(X_test.loc[: ,'Air temperature [K]':'Rotational speed [rpm]'])\n"
     ]
    },
    {
     "data": {
      "text/html": [
       "<div>\n",
       "<style scoped>\n",
       "    .dataframe tbody tr th:only-of-type {\n",
       "        vertical-align: middle;\n",
       "    }\n",
       "\n",
       "    .dataframe tbody tr th {\n",
       "        vertical-align: top;\n",
       "    }\n",
       "\n",
       "    .dataframe thead th {\n",
       "        text-align: right;\n",
       "    }\n",
       "</style>\n",
       "<table border=\"1\" class=\"dataframe\">\n",
       "  <thead>\n",
       "    <tr style=\"text-align: right;\">\n",
       "      <th></th>\n",
       "      <th>id</th>\n",
       "      <th>Air temperature [K]</th>\n",
       "      <th>Process temperature [K]</th>\n",
       "      <th>Rotational speed [rpm]</th>\n",
       "      <th>Torque [Nm]</th>\n",
       "      <th>Tool wear [min]</th>\n",
       "      <th>TWF</th>\n",
       "      <th>HDF</th>\n",
       "      <th>PWF</th>\n",
       "      <th>OSF</th>\n",
       "      <th>RNF</th>\n",
       "      <th>Type_L</th>\n",
       "      <th>Type_M</th>\n",
       "    </tr>\n",
       "  </thead>\n",
       "  <tbody>\n",
       "    <tr>\n",
       "      <th>0</th>\n",
       "      <td>0</td>\n",
       "      <td>0.395880</td>\n",
       "      <td>-0.246230</td>\n",
       "      <td>0.545416</td>\n",
       "      <td>36.1</td>\n",
       "      <td>140</td>\n",
       "      <td>0</td>\n",
       "      <td>0</td>\n",
       "      <td>0</td>\n",
       "      <td>0</td>\n",
       "      <td>0</td>\n",
       "      <td>1</td>\n",
       "      <td>0</td>\n",
       "    </tr>\n",
       "    <tr>\n",
       "      <th>1</th>\n",
       "      <td>1</td>\n",
       "      <td>1.469856</td>\n",
       "      <td>1.558605</td>\n",
       "      <td>1.720308</td>\n",
       "      <td>29.1</td>\n",
       "      <td>200</td>\n",
       "      <td>0</td>\n",
       "      <td>0</td>\n",
       "      <td>0</td>\n",
       "      <td>0</td>\n",
       "      <td>0</td>\n",
       "      <td>0</td>\n",
       "      <td>1</td>\n",
       "    </tr>\n",
       "    <tr>\n",
       "      <th>2</th>\n",
       "      <td>2</td>\n",
       "      <td>-0.302204</td>\n",
       "      <td>-1.040358</td>\n",
       "      <td>2.051873</td>\n",
       "      <td>26.5</td>\n",
       "      <td>25</td>\n",
       "      <td>0</td>\n",
       "      <td>0</td>\n",
       "      <td>0</td>\n",
       "      <td>0</td>\n",
       "      <td>0</td>\n",
       "      <td>1</td>\n",
       "      <td>0</td>\n",
       "    </tr>\n",
       "    <tr>\n",
       "      <th>3</th>\n",
       "      <td>3</td>\n",
       "      <td>0.610675</td>\n",
       "      <td>0.692284</td>\n",
       "      <td>0.026445</td>\n",
       "      <td>44.3</td>\n",
       "      <td>197</td>\n",
       "      <td>0</td>\n",
       "      <td>0</td>\n",
       "      <td>0</td>\n",
       "      <td>0</td>\n",
       "      <td>0</td>\n",
       "      <td>1</td>\n",
       "      <td>0</td>\n",
       "    </tr>\n",
       "    <tr>\n",
       "      <th>4</th>\n",
       "      <td>4</td>\n",
       "      <td>-1.000288</td>\n",
       "      <td>-0.679391</td>\n",
       "      <td>0.869773</td>\n",
       "      <td>35.4</td>\n",
       "      <td>34</td>\n",
       "      <td>0</td>\n",
       "      <td>0</td>\n",
       "      <td>0</td>\n",
       "      <td>0</td>\n",
       "      <td>0</td>\n",
       "      <td>0</td>\n",
       "      <td>1</td>\n",
       "    </tr>\n",
       "    <tr>\n",
       "      <th>...</th>\n",
       "      <td>...</td>\n",
       "      <td>...</td>\n",
       "      <td>...</td>\n",
       "      <td>...</td>\n",
       "      <td>...</td>\n",
       "      <td>...</td>\n",
       "      <td>...</td>\n",
       "      <td>...</td>\n",
       "      <td>...</td>\n",
       "      <td>...</td>\n",
       "      <td>...</td>\n",
       "      <td>...</td>\n",
       "      <td>...</td>\n",
       "    </tr>\n",
       "    <tr>\n",
       "      <th>136424</th>\n",
       "      <td>136424</td>\n",
       "      <td>0.127386</td>\n",
       "      <td>1.053251</td>\n",
       "      <td>0.069693</td>\n",
       "      <td>37.5</td>\n",
       "      <td>210</td>\n",
       "      <td>0</td>\n",
       "      <td>0</td>\n",
       "      <td>0</td>\n",
       "      <td>0</td>\n",
       "      <td>0</td>\n",
       "      <td>0</td>\n",
       "      <td>1</td>\n",
       "    </tr>\n",
       "    <tr>\n",
       "      <th>136425</th>\n",
       "      <td>136425</td>\n",
       "      <td>-1.268781</td>\n",
       "      <td>-1.040358</td>\n",
       "      <td>-0.528565</td>\n",
       "      <td>49.1</td>\n",
       "      <td>2</td>\n",
       "      <td>0</td>\n",
       "      <td>0</td>\n",
       "      <td>0</td>\n",
       "      <td>0</td>\n",
       "      <td>0</td>\n",
       "      <td>0</td>\n",
       "      <td>0</td>\n",
       "    </tr>\n",
       "    <tr>\n",
       "      <th>136426</th>\n",
       "      <td>136426</td>\n",
       "      <td>0.342182</td>\n",
       "      <td>1.342025</td>\n",
       "      <td>0.026445</td>\n",
       "      <td>38.5</td>\n",
       "      <td>214</td>\n",
       "      <td>0</td>\n",
       "      <td>0</td>\n",
       "      <td>0</td>\n",
       "      <td>0</td>\n",
       "      <td>0</td>\n",
       "      <td>1</td>\n",
       "      <td>0</td>\n",
       "    </tr>\n",
       "    <tr>\n",
       "      <th>136427</th>\n",
       "      <td>136427</td>\n",
       "      <td>0.986567</td>\n",
       "      <td>0.692284</td>\n",
       "      <td>-0.528565</td>\n",
       "      <td>46.3</td>\n",
       "      <td>42</td>\n",
       "      <td>0</td>\n",
       "      <td>0</td>\n",
       "      <td>0</td>\n",
       "      <td>0</td>\n",
       "      <td>0</td>\n",
       "      <td>1</td>\n",
       "      <td>0</td>\n",
       "    </tr>\n",
       "    <tr>\n",
       "      <th>136428</th>\n",
       "      <td>136428</td>\n",
       "      <td>-1.590974</td>\n",
       "      <td>-1.329132</td>\n",
       "      <td>0.264307</td>\n",
       "      <td>39.3</td>\n",
       "      <td>229</td>\n",
       "      <td>0</td>\n",
       "      <td>0</td>\n",
       "      <td>0</td>\n",
       "      <td>0</td>\n",
       "      <td>0</td>\n",
       "      <td>1</td>\n",
       "      <td>0</td>\n",
       "    </tr>\n",
       "  </tbody>\n",
       "</table>\n",
       "<p>136429 rows × 13 columns</p>\n",
       "</div>"
      ],
      "text/plain": [
       "            id  Air temperature [K]  Process temperature [K]  \\\n",
       "0            0             0.395880                -0.246230   \n",
       "1            1             1.469856                 1.558605   \n",
       "2            2            -0.302204                -1.040358   \n",
       "3            3             0.610675                 0.692284   \n",
       "4            4            -1.000288                -0.679391   \n",
       "...        ...                  ...                      ...   \n",
       "136424  136424             0.127386                 1.053251   \n",
       "136425  136425            -1.268781                -1.040358   \n",
       "136426  136426             0.342182                 1.342025   \n",
       "136427  136427             0.986567                 0.692284   \n",
       "136428  136428            -1.590974                -1.329132   \n",
       "\n",
       "        Rotational speed [rpm]  Torque [Nm]  Tool wear [min]  TWF  HDF  PWF  \\\n",
       "0                     0.545416         36.1              140    0    0    0   \n",
       "1                     1.720308         29.1              200    0    0    0   \n",
       "2                     2.051873         26.5               25    0    0    0   \n",
       "3                     0.026445         44.3              197    0    0    0   \n",
       "4                     0.869773         35.4               34    0    0    0   \n",
       "...                        ...          ...              ...  ...  ...  ...   \n",
       "136424                0.069693         37.5              210    0    0    0   \n",
       "136425               -0.528565         49.1                2    0    0    0   \n",
       "136426                0.026445         38.5              214    0    0    0   \n",
       "136427               -0.528565         46.3               42    0    0    0   \n",
       "136428                0.264307         39.3              229    0    0    0   \n",
       "\n",
       "        OSF  RNF  Type_L  Type_M  \n",
       "0         0    0       1       0  \n",
       "1         0    0       0       1  \n",
       "2         0    0       1       0  \n",
       "3         0    0       1       0  \n",
       "4         0    0       0       1  \n",
       "...     ...  ...     ...     ...  \n",
       "136424    0    0       0       1  \n",
       "136425    0    0       0       0  \n",
       "136426    0    0       1       0  \n",
       "136427    0    0       1       0  \n",
       "136428    0    0       1       0  \n",
       "\n",
       "[136429 rows x 13 columns]"
      ]
     },
     "execution_count": 15,
     "metadata": {},
     "output_type": "execute_result"
    }
   ],
   "source": [
    "# 3. Numeric type - 'Air temperature [K]', 'Process temperature [K]', 'Rotational speed [rpm]'\n",
    "# : StandardScaling \n",
    "\n",
    "X_train, X_test = df[:train.shape[0]], df[train.shape[0]:]\n",
    "\n",
    "scaler = StandardScaler()\n",
    "# scaler.fit(X_train[['Air temperature [K]', 'Process temperature [K]', 'Rotational speed [rpm]']])\n",
    "X_train.loc[: ,'Air temperature [K]':'Rotational speed [rpm]'] = scaler.fit_transform(X_train.loc[: ,'Air temperature [K]':'Rotational speed [rpm]'])\n",
    "X_test.loc[:, 'Air temperature [K]':'Rotational speed [rpm]'] =  scaler.transform(X_test.loc[: ,'Air temperature [K]':'Rotational speed [rpm]'])\n",
    "X_train"
   ]
  },
  {
   "cell_type": "code",
   "execution_count": 16,
   "id": "7631e013",
   "metadata": {
    "execution": {
     "iopub.execute_input": "2023-06-22T03:55:01.170918Z",
     "iopub.status.busy": "2023-06-22T03:55:01.170453Z",
     "iopub.status.idle": "2023-06-22T03:55:01.280176Z",
     "shell.execute_reply": "2023-06-22T03:55:01.278310Z"
    },
    "papermill": {
     "duration": 0.129843,
     "end_time": "2023-06-22T03:55:01.283641",
     "exception": false,
     "start_time": "2023-06-22T03:55:01.153798",
     "status": "completed"
    },
    "tags": []
   },
   "outputs": [
    {
     "name": "stderr",
     "output_type": "stream",
     "text": [
      "/tmp/ipykernel_20/1995859707.py:4: SettingWithCopyWarning: \n",
      "A value is trying to be set on a copy of a slice from a DataFrame.\n",
      "Try using .loc[row_indexer,col_indexer] = value instead\n",
      "\n",
      "See the caveats in the documentation: https://pandas.pydata.org/pandas-docs/stable/user_guide/indexing.html#returning-a-view-versus-a-copy\n",
      "  X_train.loc[: ,'Torque [Nm]'] = scaler.fit_transform(X_train[['Torque [Nm]']])\n",
      "/tmp/ipykernel_20/1995859707.py:5: SettingWithCopyWarning: \n",
      "A value is trying to be set on a copy of a slice from a DataFrame.\n",
      "Try using .loc[row_indexer,col_indexer] = value instead\n",
      "\n",
      "See the caveats in the documentation: https://pandas.pydata.org/pandas-docs/stable/user_guide/indexing.html#returning-a-view-versus-a-copy\n",
      "  X_test.loc[:,'Torque [Nm]'] =  scaler.transform(X_test[['Torque [Nm]']])\n"
     ]
    },
    {
     "data": {
      "text/html": [
       "<div>\n",
       "<style scoped>\n",
       "    .dataframe tbody tr th:only-of-type {\n",
       "        vertical-align: middle;\n",
       "    }\n",
       "\n",
       "    .dataframe tbody tr th {\n",
       "        vertical-align: top;\n",
       "    }\n",
       "\n",
       "    .dataframe thead th {\n",
       "        text-align: right;\n",
       "    }\n",
       "</style>\n",
       "<table border=\"1\" class=\"dataframe\">\n",
       "  <thead>\n",
       "    <tr style=\"text-align: right;\">\n",
       "      <th></th>\n",
       "      <th>id</th>\n",
       "      <th>Air temperature [K]</th>\n",
       "      <th>Process temperature [K]</th>\n",
       "      <th>Rotational speed [rpm]</th>\n",
       "      <th>Torque [Nm]</th>\n",
       "      <th>Tool wear [min]</th>\n",
       "      <th>TWF</th>\n",
       "      <th>HDF</th>\n",
       "      <th>PWF</th>\n",
       "      <th>OSF</th>\n",
       "      <th>RNF</th>\n",
       "      <th>Type_L</th>\n",
       "      <th>Type_M</th>\n",
       "    </tr>\n",
       "  </thead>\n",
       "  <tbody>\n",
       "    <tr>\n",
       "      <th>0</th>\n",
       "      <td>136429</td>\n",
       "      <td>1.308759</td>\n",
       "      <td>1.125444</td>\n",
       "      <td>-0.153753</td>\n",
       "      <td>-0.208696</td>\n",
       "      <td>60</td>\n",
       "      <td>0</td>\n",
       "      <td>0</td>\n",
       "      <td>0</td>\n",
       "      <td>0</td>\n",
       "      <td>0</td>\n",
       "      <td>1</td>\n",
       "      <td>0</td>\n",
       "    </tr>\n",
       "    <tr>\n",
       "      <th>1</th>\n",
       "      <td>136430</td>\n",
       "      <td>0.986567</td>\n",
       "      <td>0.764477</td>\n",
       "      <td>1.388744</td>\n",
       "      <td>-1.008696</td>\n",
       "      <td>17</td>\n",
       "      <td>0</td>\n",
       "      <td>0</td>\n",
       "      <td>0</td>\n",
       "      <td>0</td>\n",
       "      <td>0</td>\n",
       "      <td>1</td>\n",
       "      <td>0</td>\n",
       "    </tr>\n",
       "    <tr>\n",
       "      <th>2</th>\n",
       "      <td>136431</td>\n",
       "      <td>0.771772</td>\n",
       "      <td>0.331317</td>\n",
       "      <td>0.033653</td>\n",
       "      <td>-0.234783</td>\n",
       "      <td>96</td>\n",
       "      <td>0</td>\n",
       "      <td>0</td>\n",
       "      <td>0</td>\n",
       "      <td>0</td>\n",
       "      <td>0</td>\n",
       "      <td>1</td>\n",
       "      <td>0</td>\n",
       "    </tr>\n",
       "    <tr>\n",
       "      <th>3</th>\n",
       "      <td>136432</td>\n",
       "      <td>0.127386</td>\n",
       "      <td>-0.246230</td>\n",
       "      <td>-0.297912</td>\n",
       "      <td>0.626087</td>\n",
       "      <td>5</td>\n",
       "      <td>0</td>\n",
       "      <td>0</td>\n",
       "      <td>0</td>\n",
       "      <td>0</td>\n",
       "      <td>0</td>\n",
       "      <td>0</td>\n",
       "      <td>1</td>\n",
       "    </tr>\n",
       "    <tr>\n",
       "      <th>4</th>\n",
       "      <td>136433</td>\n",
       "      <td>1.899446</td>\n",
       "      <td>1.702992</td>\n",
       "      <td>-0.038426</td>\n",
       "      <td>0.078261</td>\n",
       "      <td>114</td>\n",
       "      <td>0</td>\n",
       "      <td>0</td>\n",
       "      <td>0</td>\n",
       "      <td>0</td>\n",
       "      <td>0</td>\n",
       "      <td>0</td>\n",
       "      <td>1</td>\n",
       "    </tr>\n",
       "    <tr>\n",
       "      <th>...</th>\n",
       "      <td>...</td>\n",
       "      <td>...</td>\n",
       "      <td>...</td>\n",
       "      <td>...</td>\n",
       "      <td>...</td>\n",
       "      <td>...</td>\n",
       "      <td>...</td>\n",
       "      <td>...</td>\n",
       "      <td>...</td>\n",
       "      <td>...</td>\n",
       "      <td>...</td>\n",
       "      <td>...</td>\n",
       "      <td>...</td>\n",
       "    </tr>\n",
       "    <tr>\n",
       "      <th>90949</th>\n",
       "      <td>227378</td>\n",
       "      <td>1.308759</td>\n",
       "      <td>1.053251</td>\n",
       "      <td>-0.261872</td>\n",
       "      <td>0.000000</td>\n",
       "      <td>15</td>\n",
       "      <td>0</td>\n",
       "      <td>0</td>\n",
       "      <td>0</td>\n",
       "      <td>0</td>\n",
       "      <td>0</td>\n",
       "      <td>1</td>\n",
       "      <td>0</td>\n",
       "    </tr>\n",
       "    <tr>\n",
       "      <th>90950</th>\n",
       "      <td>227379</td>\n",
       "      <td>-1.053986</td>\n",
       "      <td>-0.101844</td>\n",
       "      <td>0.156188</td>\n",
       "      <td>-0.573913</td>\n",
       "      <td>31</td>\n",
       "      <td>0</td>\n",
       "      <td>0</td>\n",
       "      <td>0</td>\n",
       "      <td>0</td>\n",
       "      <td>0</td>\n",
       "      <td>1</td>\n",
       "      <td>0</td>\n",
       "    </tr>\n",
       "    <tr>\n",
       "      <th>90951</th>\n",
       "      <td>227380</td>\n",
       "      <td>-2.289058</td>\n",
       "      <td>-2.700806</td>\n",
       "      <td>-0.139337</td>\n",
       "      <td>0.086957</td>\n",
       "      <td>187</td>\n",
       "      <td>0</td>\n",
       "      <td>0</td>\n",
       "      <td>0</td>\n",
       "      <td>0</td>\n",
       "      <td>0</td>\n",
       "      <td>1</td>\n",
       "      <td>0</td>\n",
       "    </tr>\n",
       "    <tr>\n",
       "      <th>90952</th>\n",
       "      <td>227381</td>\n",
       "      <td>-0.946589</td>\n",
       "      <td>-1.545712</td>\n",
       "      <td>0.098524</td>\n",
       "      <td>-0.008696</td>\n",
       "      <td>69</td>\n",
       "      <td>0</td>\n",
       "      <td>0</td>\n",
       "      <td>0</td>\n",
       "      <td>0</td>\n",
       "      <td>0</td>\n",
       "      <td>1</td>\n",
       "      <td>0</td>\n",
       "    </tr>\n",
       "    <tr>\n",
       "      <th>90953</th>\n",
       "      <td>227382</td>\n",
       "      <td>1.953144</td>\n",
       "      <td>2.063959</td>\n",
       "      <td>0.098524</td>\n",
       "      <td>-0.373913</td>\n",
       "      <td>92</td>\n",
       "      <td>0</td>\n",
       "      <td>0</td>\n",
       "      <td>0</td>\n",
       "      <td>0</td>\n",
       "      <td>0</td>\n",
       "      <td>1</td>\n",
       "      <td>0</td>\n",
       "    </tr>\n",
       "  </tbody>\n",
       "</table>\n",
       "<p>90954 rows × 13 columns</p>\n",
       "</div>"
      ],
      "text/plain": [
       "           id  Air temperature [K]  Process temperature [K]  \\\n",
       "0      136429             1.308759                 1.125444   \n",
       "1      136430             0.986567                 0.764477   \n",
       "2      136431             0.771772                 0.331317   \n",
       "3      136432             0.127386                -0.246230   \n",
       "4      136433             1.899446                 1.702992   \n",
       "...       ...                  ...                      ...   \n",
       "90949  227378             1.308759                 1.053251   \n",
       "90950  227379            -1.053986                -0.101844   \n",
       "90951  227380            -2.289058                -2.700806   \n",
       "90952  227381            -0.946589                -1.545712   \n",
       "90953  227382             1.953144                 2.063959   \n",
       "\n",
       "       Rotational speed [rpm]  Torque [Nm]  Tool wear [min]  TWF  HDF  PWF  \\\n",
       "0                   -0.153753    -0.208696               60    0    0    0   \n",
       "1                    1.388744    -1.008696               17    0    0    0   \n",
       "2                    0.033653    -0.234783               96    0    0    0   \n",
       "3                   -0.297912     0.626087                5    0    0    0   \n",
       "4                   -0.038426     0.078261              114    0    0    0   \n",
       "...                       ...          ...              ...  ...  ...  ...   \n",
       "90949               -0.261872     0.000000               15    0    0    0   \n",
       "90950                0.156188    -0.573913               31    0    0    0   \n",
       "90951               -0.139337     0.086957              187    0    0    0   \n",
       "90952                0.098524    -0.008696               69    0    0    0   \n",
       "90953                0.098524    -0.373913               92    0    0    0   \n",
       "\n",
       "       OSF  RNF  Type_L  Type_M  \n",
       "0        0    0       1       0  \n",
       "1        0    0       1       0  \n",
       "2        0    0       1       0  \n",
       "3        0    0       0       1  \n",
       "4        0    0       0       1  \n",
       "...    ...  ...     ...     ...  \n",
       "90949    0    0       1       0  \n",
       "90950    0    0       1       0  \n",
       "90951    0    0       1       0  \n",
       "90952    0    0       1       0  \n",
       "90953    0    0       1       0  \n",
       "\n",
       "[90954 rows x 13 columns]"
      ]
     },
     "execution_count": 16,
     "metadata": {},
     "output_type": "execute_result"
    }
   ],
   "source": [
    "# 4. Numeric type - 'Torque [Nm]'\n",
    "# : RobustScaling\n",
    "scaler = RobustScaler()\n",
    "X_train.loc[: ,'Torque [Nm]'] = scaler.fit_transform(X_train[['Torque [Nm]']])\n",
    "X_test.loc[:,'Torque [Nm]'] =  scaler.transform(X_test[['Torque [Nm]']])\n",
    "X_test"
   ]
  },
  {
   "cell_type": "code",
   "execution_count": 17,
   "id": "d54732bf",
   "metadata": {
    "execution": {
     "iopub.execute_input": "2023-06-22T03:55:01.317672Z",
     "iopub.status.busy": "2023-06-22T03:55:01.317278Z",
     "iopub.status.idle": "2023-06-22T03:55:01.412378Z",
     "shell.execute_reply": "2023-06-22T03:55:01.410325Z"
    },
    "papermill": {
     "duration": 0.114825,
     "end_time": "2023-06-22T03:55:01.415011",
     "exception": false,
     "start_time": "2023-06-22T03:55:01.300186",
     "status": "completed"
    },
    "tags": []
   },
   "outputs": [
    {
     "name": "stderr",
     "output_type": "stream",
     "text": [
      "/tmp/ipykernel_20/2223666855.py:4: SettingWithCopyWarning: \n",
      "A value is trying to be set on a copy of a slice from a DataFrame.\n",
      "Try using .loc[row_indexer,col_indexer] = value instead\n",
      "\n",
      "See the caveats in the documentation: https://pandas.pydata.org/pandas-docs/stable/user_guide/indexing.html#returning-a-view-versus-a-copy\n",
      "  X_train.loc[: ,'Tool wear [min]'] = scaler.fit_transform(X_train[['Tool wear [min]']])\n",
      "/tmp/ipykernel_20/2223666855.py:5: SettingWithCopyWarning: \n",
      "A value is trying to be set on a copy of a slice from a DataFrame.\n",
      "Try using .loc[row_indexer,col_indexer] = value instead\n",
      "\n",
      "See the caveats in the documentation: https://pandas.pydata.org/pandas-docs/stable/user_guide/indexing.html#returning-a-view-versus-a-copy\n",
      "  X_test.loc[:,'Tool wear [min]'] =  scaler.transform(X_test[['Tool wear [min]']])\n"
     ]
    },
    {
     "data": {
      "text/html": [
       "<div>\n",
       "<style scoped>\n",
       "    .dataframe tbody tr th:only-of-type {\n",
       "        vertical-align: middle;\n",
       "    }\n",
       "\n",
       "    .dataframe tbody tr th {\n",
       "        vertical-align: top;\n",
       "    }\n",
       "\n",
       "    .dataframe thead th {\n",
       "        text-align: right;\n",
       "    }\n",
       "</style>\n",
       "<table border=\"1\" class=\"dataframe\">\n",
       "  <thead>\n",
       "    <tr style=\"text-align: right;\">\n",
       "      <th></th>\n",
       "      <th>id</th>\n",
       "      <th>Air temperature [K]</th>\n",
       "      <th>Process temperature [K]</th>\n",
       "      <th>Rotational speed [rpm]</th>\n",
       "      <th>Torque [Nm]</th>\n",
       "      <th>Tool wear [min]</th>\n",
       "      <th>TWF</th>\n",
       "      <th>HDF</th>\n",
       "      <th>PWF</th>\n",
       "      <th>OSF</th>\n",
       "      <th>RNF</th>\n",
       "      <th>Type_L</th>\n",
       "      <th>Type_M</th>\n",
       "    </tr>\n",
       "  </thead>\n",
       "  <tbody>\n",
       "    <tr>\n",
       "      <th>0</th>\n",
       "      <td>136429</td>\n",
       "      <td>1.308759</td>\n",
       "      <td>1.125444</td>\n",
       "      <td>-0.153753</td>\n",
       "      <td>-0.208696</td>\n",
       "      <td>0.237154</td>\n",
       "      <td>0</td>\n",
       "      <td>0</td>\n",
       "      <td>0</td>\n",
       "      <td>0</td>\n",
       "      <td>0</td>\n",
       "      <td>1</td>\n",
       "      <td>0</td>\n",
       "    </tr>\n",
       "    <tr>\n",
       "      <th>1</th>\n",
       "      <td>136430</td>\n",
       "      <td>0.986567</td>\n",
       "      <td>0.764477</td>\n",
       "      <td>1.388744</td>\n",
       "      <td>-1.008696</td>\n",
       "      <td>0.067194</td>\n",
       "      <td>0</td>\n",
       "      <td>0</td>\n",
       "      <td>0</td>\n",
       "      <td>0</td>\n",
       "      <td>0</td>\n",
       "      <td>1</td>\n",
       "      <td>0</td>\n",
       "    </tr>\n",
       "    <tr>\n",
       "      <th>2</th>\n",
       "      <td>136431</td>\n",
       "      <td>0.771772</td>\n",
       "      <td>0.331317</td>\n",
       "      <td>0.033653</td>\n",
       "      <td>-0.234783</td>\n",
       "      <td>0.379447</td>\n",
       "      <td>0</td>\n",
       "      <td>0</td>\n",
       "      <td>0</td>\n",
       "      <td>0</td>\n",
       "      <td>0</td>\n",
       "      <td>1</td>\n",
       "      <td>0</td>\n",
       "    </tr>\n",
       "    <tr>\n",
       "      <th>3</th>\n",
       "      <td>136432</td>\n",
       "      <td>0.127386</td>\n",
       "      <td>-0.246230</td>\n",
       "      <td>-0.297912</td>\n",
       "      <td>0.626087</td>\n",
       "      <td>0.019763</td>\n",
       "      <td>0</td>\n",
       "      <td>0</td>\n",
       "      <td>0</td>\n",
       "      <td>0</td>\n",
       "      <td>0</td>\n",
       "      <td>0</td>\n",
       "      <td>1</td>\n",
       "    </tr>\n",
       "    <tr>\n",
       "      <th>4</th>\n",
       "      <td>136433</td>\n",
       "      <td>1.899446</td>\n",
       "      <td>1.702992</td>\n",
       "      <td>-0.038426</td>\n",
       "      <td>0.078261</td>\n",
       "      <td>0.450593</td>\n",
       "      <td>0</td>\n",
       "      <td>0</td>\n",
       "      <td>0</td>\n",
       "      <td>0</td>\n",
       "      <td>0</td>\n",
       "      <td>0</td>\n",
       "      <td>1</td>\n",
       "    </tr>\n",
       "    <tr>\n",
       "      <th>...</th>\n",
       "      <td>...</td>\n",
       "      <td>...</td>\n",
       "      <td>...</td>\n",
       "      <td>...</td>\n",
       "      <td>...</td>\n",
       "      <td>...</td>\n",
       "      <td>...</td>\n",
       "      <td>...</td>\n",
       "      <td>...</td>\n",
       "      <td>...</td>\n",
       "      <td>...</td>\n",
       "      <td>...</td>\n",
       "      <td>...</td>\n",
       "    </tr>\n",
       "    <tr>\n",
       "      <th>90949</th>\n",
       "      <td>227378</td>\n",
       "      <td>1.308759</td>\n",
       "      <td>1.053251</td>\n",
       "      <td>-0.261872</td>\n",
       "      <td>0.000000</td>\n",
       "      <td>0.059289</td>\n",
       "      <td>0</td>\n",
       "      <td>0</td>\n",
       "      <td>0</td>\n",
       "      <td>0</td>\n",
       "      <td>0</td>\n",
       "      <td>1</td>\n",
       "      <td>0</td>\n",
       "    </tr>\n",
       "    <tr>\n",
       "      <th>90950</th>\n",
       "      <td>227379</td>\n",
       "      <td>-1.053986</td>\n",
       "      <td>-0.101844</td>\n",
       "      <td>0.156188</td>\n",
       "      <td>-0.573913</td>\n",
       "      <td>0.122530</td>\n",
       "      <td>0</td>\n",
       "      <td>0</td>\n",
       "      <td>0</td>\n",
       "      <td>0</td>\n",
       "      <td>0</td>\n",
       "      <td>1</td>\n",
       "      <td>0</td>\n",
       "    </tr>\n",
       "    <tr>\n",
       "      <th>90951</th>\n",
       "      <td>227380</td>\n",
       "      <td>-2.289058</td>\n",
       "      <td>-2.700806</td>\n",
       "      <td>-0.139337</td>\n",
       "      <td>0.086957</td>\n",
       "      <td>0.739130</td>\n",
       "      <td>0</td>\n",
       "      <td>0</td>\n",
       "      <td>0</td>\n",
       "      <td>0</td>\n",
       "      <td>0</td>\n",
       "      <td>1</td>\n",
       "      <td>0</td>\n",
       "    </tr>\n",
       "    <tr>\n",
       "      <th>90952</th>\n",
       "      <td>227381</td>\n",
       "      <td>-0.946589</td>\n",
       "      <td>-1.545712</td>\n",
       "      <td>0.098524</td>\n",
       "      <td>-0.008696</td>\n",
       "      <td>0.272727</td>\n",
       "      <td>0</td>\n",
       "      <td>0</td>\n",
       "      <td>0</td>\n",
       "      <td>0</td>\n",
       "      <td>0</td>\n",
       "      <td>1</td>\n",
       "      <td>0</td>\n",
       "    </tr>\n",
       "    <tr>\n",
       "      <th>90953</th>\n",
       "      <td>227382</td>\n",
       "      <td>1.953144</td>\n",
       "      <td>2.063959</td>\n",
       "      <td>0.098524</td>\n",
       "      <td>-0.373913</td>\n",
       "      <td>0.363636</td>\n",
       "      <td>0</td>\n",
       "      <td>0</td>\n",
       "      <td>0</td>\n",
       "      <td>0</td>\n",
       "      <td>0</td>\n",
       "      <td>1</td>\n",
       "      <td>0</td>\n",
       "    </tr>\n",
       "  </tbody>\n",
       "</table>\n",
       "<p>90954 rows × 13 columns</p>\n",
       "</div>"
      ],
      "text/plain": [
       "           id  Air temperature [K]  Process temperature [K]  \\\n",
       "0      136429             1.308759                 1.125444   \n",
       "1      136430             0.986567                 0.764477   \n",
       "2      136431             0.771772                 0.331317   \n",
       "3      136432             0.127386                -0.246230   \n",
       "4      136433             1.899446                 1.702992   \n",
       "...       ...                  ...                      ...   \n",
       "90949  227378             1.308759                 1.053251   \n",
       "90950  227379            -1.053986                -0.101844   \n",
       "90951  227380            -2.289058                -2.700806   \n",
       "90952  227381            -0.946589                -1.545712   \n",
       "90953  227382             1.953144                 2.063959   \n",
       "\n",
       "       Rotational speed [rpm]  Torque [Nm]  Tool wear [min]  TWF  HDF  PWF  \\\n",
       "0                   -0.153753    -0.208696         0.237154    0    0    0   \n",
       "1                    1.388744    -1.008696         0.067194    0    0    0   \n",
       "2                    0.033653    -0.234783         0.379447    0    0    0   \n",
       "3                   -0.297912     0.626087         0.019763    0    0    0   \n",
       "4                   -0.038426     0.078261         0.450593    0    0    0   \n",
       "...                       ...          ...              ...  ...  ...  ...   \n",
       "90949               -0.261872     0.000000         0.059289    0    0    0   \n",
       "90950                0.156188    -0.573913         0.122530    0    0    0   \n",
       "90951               -0.139337     0.086957         0.739130    0    0    0   \n",
       "90952                0.098524    -0.008696         0.272727    0    0    0   \n",
       "90953                0.098524    -0.373913         0.363636    0    0    0   \n",
       "\n",
       "       OSF  RNF  Type_L  Type_M  \n",
       "0        0    0       1       0  \n",
       "1        0    0       1       0  \n",
       "2        0    0       1       0  \n",
       "3        0    0       0       1  \n",
       "4        0    0       0       1  \n",
       "...    ...  ...     ...     ...  \n",
       "90949    0    0       1       0  \n",
       "90950    0    0       1       0  \n",
       "90951    0    0       1       0  \n",
       "90952    0    0       1       0  \n",
       "90953    0    0       1       0  \n",
       "\n",
       "[90954 rows x 13 columns]"
      ]
     },
     "execution_count": 17,
     "metadata": {},
     "output_type": "execute_result"
    }
   ],
   "source": [
    "# 5. Numeric type - 'Tool wear [min]'\n",
    "# : MinMaxScaling\n",
    "scaler = MinMaxScaler()\n",
    "X_train.loc[: ,'Tool wear [min]'] = scaler.fit_transform(X_train[['Tool wear [min]']])\n",
    "X_test.loc[:,'Tool wear [min]'] =  scaler.transform(X_test[['Tool wear [min]']])\n",
    "X_test"
   ]
  },
  {
   "cell_type": "code",
   "execution_count": 18,
   "id": "0593cb48",
   "metadata": {
    "execution": {
     "iopub.execute_input": "2023-06-22T03:55:01.449020Z",
     "iopub.status.busy": "2023-06-22T03:55:01.448619Z",
     "iopub.status.idle": "2023-06-22T03:55:01.454944Z",
     "shell.execute_reply": "2023-06-22T03:55:01.453330Z"
    },
    "papermill": {
     "duration": 0.026288,
     "end_time": "2023-06-22T03:55:01.457471",
     "exception": false,
     "start_time": "2023-06-22T03:55:01.431183",
     "status": "completed"
    },
    "tags": []
   },
   "outputs": [],
   "source": [
    "# 6. drop ID\n",
    "id_train, id_test = X_train.pop('id'), X_test.pop('id')"
   ]
  },
  {
   "cell_type": "markdown",
   "id": "8d97a7ca",
   "metadata": {
    "papermill": {
     "duration": 0.016514,
     "end_time": "2023-06-22T03:55:01.489934",
     "exception": false,
     "start_time": "2023-06-22T03:55:01.473420",
     "status": "completed"
    },
    "tags": []
   },
   "source": [
    "## Validation set"
   ]
  },
  {
   "cell_type": "code",
   "execution_count": 19,
   "id": "0d5d1092",
   "metadata": {
    "execution": {
     "iopub.execute_input": "2023-06-22T03:55:01.524060Z",
     "iopub.status.busy": "2023-06-22T03:55:01.523666Z",
     "iopub.status.idle": "2023-06-22T03:55:01.562144Z",
     "shell.execute_reply": "2023-06-22T03:55:01.560220Z"
    },
    "papermill": {
     "duration": 0.058864,
     "end_time": "2023-06-22T03:55:01.565135",
     "exception": false,
     "start_time": "2023-06-22T03:55:01.506271",
     "status": "completed"
    },
    "tags": []
   },
   "outputs": [
    {
     "name": "stdout",
     "output_type": "stream",
     "text": [
      "(109143, 12) (27286, 12) (109143,) (27286,)\n"
     ]
    }
   ],
   "source": [
    "X_tr, X_val, y_tr, y_val = train_test_split(X_train, y_train, test_size = 0.2, random_state = 1209)\n",
    "print(X_tr.shape, X_val.shape, y_tr.shape, y_val.shape)"
   ]
  },
  {
   "cell_type": "markdown",
   "id": "739b415f",
   "metadata": {
    "papermill": {
     "duration": 0.015588,
     "end_time": "2023-06-22T03:55:01.596693",
     "exception": false,
     "start_time": "2023-06-22T03:55:01.581105",
     "status": "completed"
    },
    "tags": []
   },
   "source": [
    "## Modeling\n",
    "```\n",
    "from sklearn.svm import LinearSVC\n",
    "from sklearn.linear_model import LogisticRegression\n",
    "from sklearn.ensemble import RandomForestClassifier, GradientBoostingClassifier, StackingClassifier\n",
    "```"
   ]
  },
  {
   "cell_type": "code",
   "execution_count": 20,
   "id": "1941d9c5",
   "metadata": {
    "execution": {
     "iopub.execute_input": "2023-06-22T03:55:01.631475Z",
     "iopub.status.busy": "2023-06-22T03:55:01.631018Z",
     "iopub.status.idle": "2023-06-22T03:55:26.631907Z",
     "shell.execute_reply": "2023-06-22T03:55:26.629781Z"
    },
    "papermill": {
     "duration": 25.022353,
     "end_time": "2023-06-22T03:55:26.635095",
     "exception": false,
     "start_time": "2023-06-22T03:55:01.612742",
     "status": "completed"
    },
    "tags": []
   },
   "outputs": [
    {
     "data": {
      "text/plain": [
       "0.8803940541396528"
      ]
     },
     "execution_count": 20,
     "metadata": {},
     "output_type": "execute_result"
    }
   ],
   "source": [
    "# 1. random forest classifier\n",
    "\n",
    "rfc = RandomForestClassifier(criterion = 'gini', random_state = 617, max_depth = 41)\n",
    "rfc.fit(X_tr, y_tr)\n",
    "pred_rfc = rfc.predict(X_val)\n",
    "\n",
    "# test\n",
    "roc_auc_score(y_val, pred_rfc) # default was : 0.8997767109523278"
   ]
  },
  {
   "cell_type": "code",
   "execution_count": 21,
   "id": "fcbcbc04",
   "metadata": {
    "execution": {
     "iopub.execute_input": "2023-06-22T03:55:26.671007Z",
     "iopub.status.busy": "2023-06-22T03:55:26.670552Z",
     "iopub.status.idle": "2023-06-22T03:55:39.780883Z",
     "shell.execute_reply": "2023-06-22T03:55:39.779104Z"
    },
    "papermill": {
     "duration": 13.131939,
     "end_time": "2023-06-22T03:55:39.784977",
     "exception": false,
     "start_time": "2023-06-22T03:55:26.653038",
     "status": "completed"
    },
    "tags": []
   },
   "outputs": [
    {
     "data": {
      "text/plain": [
       "0.875892507824726"
      ]
     },
     "execution_count": 21,
     "metadata": {},
     "output_type": "execute_result"
    }
   ],
   "source": [
    "# 2. gradient boosting classification\n",
    "\n",
    "gbc = GradientBoostingClassifier(random_state = 617)\n",
    "gbc.fit(X_tr, y_tr)\n",
    "pred_gbc = gbc.predict(X_val)\n",
    "\n",
    "# test\n",
    "roc_auc_score(y_val, pred_gbc) # default was : 0.9010001376500757"
   ]
  },
  {
   "cell_type": "markdown",
   "id": "3ef19d95",
   "metadata": {
    "papermill": {
     "duration": 0.024758,
     "end_time": "2023-06-22T03:55:39.831256",
     "exception": false,
     "start_time": "2023-06-22T03:55:39.806498",
     "status": "completed"
    },
    "tags": []
   },
   "source": [
    "LinearSVC_classifier = SklearnClassifier(SVC(kernel='linear',probability=True))\n",
    "\n",
    "https://stackoverflow.com/questions/47312432/attributeerrorlinearsvc-object-has-no-attribute-predict-proba\n",
    "\n"
   ]
  },
  {
   "cell_type": "code",
   "execution_count": 22,
   "id": "6c6a2865",
   "metadata": {
    "execution": {
     "iopub.execute_input": "2023-06-22T03:55:39.878659Z",
     "iopub.status.busy": "2023-06-22T03:55:39.877718Z",
     "iopub.status.idle": "2023-06-22T03:58:58.046607Z",
     "shell.execute_reply": "2023-06-22T03:58:58.045480Z"
    },
    "papermill": {
     "duration": 198.213051,
     "end_time": "2023-06-22T03:58:58.065790",
     "exception": false,
     "start_time": "2023-06-22T03:55:39.852739",
     "status": "completed"
    },
    "tags": []
   },
   "outputs": [
    {
     "data": {
      "text/plain": [
       "0.9957487356153338"
      ]
     },
     "execution_count": 22,
     "metadata": {},
     "output_type": "execute_result"
    }
   ],
   "source": [
    "# 3. stacking with SVC 1\n",
    "\n",
    "estimators = [\n",
    "    ('rf', RandomForestClassifier(random_state = 617)),\n",
    "    ('gbc', GradientBoostingClassifier(random_state = 617)),\n",
    "    ('abc', AdaBoostClassifier(random_state = 617))\n",
    "]\n",
    "clf = StackingClassifier(\n",
    "    estimators = estimators, final_estimator = SVC(random_state = 617)\n",
    ")\n",
    "\n",
    "clf.fit(X_tr, y_tr).score(X_val, y_val) # 0.9957487356153338"
   ]
  },
  {
   "cell_type": "code",
   "execution_count": 23,
   "id": "29a77338",
   "metadata": {
    "execution": {
     "iopub.execute_input": "2023-06-22T03:58:58.100170Z",
     "iopub.status.busy": "2023-06-22T03:58:58.099548Z",
     "iopub.status.idle": "2023-06-22T03:58:59.965375Z",
     "shell.execute_reply": "2023-06-22T03:58:59.964044Z"
    },
    "papermill": {
     "duration": 1.886093,
     "end_time": "2023-06-22T03:58:59.967921",
     "exception": false,
     "start_time": "2023-06-22T03:58:58.081828",
     "status": "completed"
    },
    "tags": []
   },
   "outputs": [
    {
     "name": "stdout",
     "output_type": "stream",
     "text": [
      "0.8749254787987183\n"
     ]
    }
   ],
   "source": [
    "pred_clf = clf.predict(X_val)\n",
    "print(roc_auc_score(y_val, pred_clf)) # 0.8749254787987183"
   ]
  },
  {
   "cell_type": "code",
   "execution_count": 24,
   "id": "e54c35af",
   "metadata": {
    "execution": {
     "iopub.execute_input": "2023-06-22T03:59:00.002274Z",
     "iopub.status.busy": "2023-06-22T03:59:00.001862Z",
     "iopub.status.idle": "2023-06-22T04:13:27.140067Z",
     "shell.execute_reply": "2023-06-22T04:13:27.138205Z"
    },
    "papermill": {
     "duration": 867.173903,
     "end_time": "2023-06-22T04:13:27.158307",
     "exception": false,
     "start_time": "2023-06-22T03:58:59.984404",
     "status": "completed"
    },
    "tags": []
   },
   "outputs": [
    {
     "data": {
      "text/plain": [
       "0.9953455984754086"
      ]
     },
     "execution_count": 24,
     "metadata": {},
     "output_type": "execute_result"
    }
   ],
   "source": [
    "# 4. stacking with SVC 2\n",
    "\n",
    "estimators = [\n",
    "    ('svc', SVC(random_state = 617)),\n",
    "    ('rf', RandomForestClassifier(random_state = 617)),\n",
    "    ('abc', AdaBoostClassifier(random_state = 617))\n",
    "]\n",
    "clf = StackingClassifier(\n",
    "    estimators = estimators, final_estimator = GradientBoostingClassifier(random_state = 617)\n",
    ")\n",
    "\n",
    "clf.fit(X_tr, y_tr).score(X_val, y_val) # 0.9953455984754086"
   ]
  },
  {
   "cell_type": "code",
   "execution_count": 25,
   "id": "b7a77401",
   "metadata": {
    "execution": {
     "iopub.execute_input": "2023-06-22T04:13:27.193169Z",
     "iopub.status.busy": "2023-06-22T04:13:27.192756Z",
     "iopub.status.idle": "2023-06-22T04:13:31.133676Z",
     "shell.execute_reply": "2023-06-22T04:13:31.132330Z"
    },
    "papermill": {
     "duration": 3.961811,
     "end_time": "2023-06-22T04:13:31.136550",
     "exception": false,
     "start_time": "2023-06-22T04:13:27.174739",
     "status": "completed"
    },
    "tags": []
   },
   "outputs": [
    {
     "name": "stdout",
     "output_type": "stream",
     "text": [
      "0.8747205454951934\n"
     ]
    }
   ],
   "source": [
    "pred_clf = clf.predict(X_val)\n",
    "print(roc_auc_score(y_val, pred_clf)) # 0.8747205454951934"
   ]
  },
  {
   "cell_type": "code",
   "execution_count": 26,
   "id": "088a3b3b",
   "metadata": {
    "execution": {
     "iopub.execute_input": "2023-06-22T04:13:31.174875Z",
     "iopub.status.busy": "2023-06-22T04:13:31.174308Z",
     "iopub.status.idle": "2023-06-22T04:27:11.770018Z",
     "shell.execute_reply": "2023-06-22T04:27:11.768738Z"
    },
    "papermill": {
     "duration": 820.634087,
     "end_time": "2023-06-22T04:27:11.789045",
     "exception": false,
     "start_time": "2023-06-22T04:13:31.154958",
     "status": "completed"
    },
    "tags": []
   },
   "outputs": [
    {
     "data": {
      "text/plain": [
       "0.9957487356153338"
      ]
     },
     "execution_count": 26,
     "metadata": {},
     "output_type": "execute_result"
    }
   ],
   "source": [
    "# 5. stacking with SVC 3\n",
    "\n",
    "estimators = [\n",
    "    ('svc', SVC(random_state = 617)),\n",
    "    ('abc', AdaBoostClassifier(random_state = 617)),\n",
    "    ('gbc', GradientBoostingClassifier(random_state = 617))\n",
    "]\n",
    "clf = StackingClassifier(\n",
    "    estimators = estimators, final_estimator = RandomForestClassifier(random_state = 617)\n",
    ")\n",
    "\n",
    "clf.fit(X_tr, y_tr).score(X_val, y_val) # 0.9957487356153338, running time about 12min"
   ]
  },
  {
   "cell_type": "code",
   "execution_count": 27,
   "id": "607674d5",
   "metadata": {
    "execution": {
     "iopub.execute_input": "2023-06-22T04:27:11.825939Z",
     "iopub.status.busy": "2023-06-22T04:27:11.825538Z",
     "iopub.status.idle": "2023-06-22T04:27:15.546209Z",
     "shell.execute_reply": "2023-06-22T04:27:15.544754Z"
    },
    "papermill": {
     "duration": 3.741939,
     "end_time": "2023-06-22T04:27:15.548772",
     "exception": false,
     "start_time": "2023-06-22T04:27:11.806833",
     "status": "completed"
    },
    "tags": []
   },
   "outputs": [
    {
     "name": "stdout",
     "output_type": "stream",
     "text": [
      "0.8771203610552201\n"
     ]
    }
   ],
   "source": [
    "pred_clf = clf.predict(X_val)\n",
    "print(roc_auc_score(y_val, pred_clf)) # 0.8771203610552201"
   ]
  },
  {
   "cell_type": "markdown",
   "id": "e0265dda",
   "metadata": {
    "papermill": {
     "duration": 0.016642,
     "end_time": "2023-06-22T04:27:15.582523",
     "exception": false,
     "start_time": "2023-06-22T04:27:15.565881",
     "status": "completed"
    },
    "tags": []
   },
   "source": [
    "## Select the model"
   ]
  },
  {
   "cell_type": "code",
   "execution_count": 28,
   "id": "9e981a02",
   "metadata": {
    "execution": {
     "iopub.execute_input": "2023-06-22T04:27:15.624865Z",
     "iopub.status.busy": "2023-06-22T04:27:15.623909Z",
     "iopub.status.idle": "2023-06-22T04:42:23.962851Z",
     "shell.execute_reply": "2023-06-22T04:42:23.961151Z"
    },
    "papermill": {
     "duration": 908.367423,
     "end_time": "2023-06-22T04:42:23.967050",
     "exception": false,
     "start_time": "2023-06-22T04:27:15.599627",
     "status": "completed"
    },
    "tags": []
   },
   "outputs": [
    {
     "name": "stdout",
     "output_type": "stream",
     "text": [
      "893.3529 sec\n"
     ]
    }
   ],
   "source": [
    "import time\n",
    "start = time.time()\n",
    "\n",
    "# 3rd stacking model\n",
    "estimators = [\n",
    "    ('svc', SVC(random_state = 617)),\n",
    "    ('abc', AdaBoostClassifier(random_state = 617)),\n",
    "    ('gbc', GradientBoostingClassifier(random_state = 617))\n",
    "]\n",
    "clf = StackingClassifier(\n",
    "    estimators = estimators, final_estimator = RandomForestClassifier(random_state = 617)\n",
    ")\n",
    "\n",
    "clf.fit(X_train, y_train)\n",
    "\n",
    "print(f\"{time.time()-start:.4f} sec\")\n",
    "\n",
    "pred = clf.predict_proba(X_test)"
   ]
  },
  {
   "cell_type": "markdown",
   "id": "d5f5230a",
   "metadata": {
    "papermill": {
     "duration": 0.018116,
     "end_time": "2023-06-22T04:42:24.004750",
     "exception": false,
     "start_time": "2023-06-22T04:42:23.986634",
     "status": "completed"
    },
    "tags": []
   },
   "source": [
    "## Submit"
   ]
  },
  {
   "cell_type": "code",
   "execution_count": 29,
   "id": "befc71d4",
   "metadata": {
    "execution": {
     "iopub.execute_input": "2023-06-22T04:42:24.055062Z",
     "iopub.status.busy": "2023-06-22T04:42:24.053965Z",
     "iopub.status.idle": "2023-06-22T04:42:24.070160Z",
     "shell.execute_reply": "2023-06-22T04:42:24.068864Z"
    },
    "papermill": {
     "duration": 0.043878,
     "end_time": "2023-06-22T04:42:24.073513",
     "exception": false,
     "start_time": "2023-06-22T04:42:24.029635",
     "status": "completed"
    },
    "tags": []
   },
   "outputs": [
    {
     "data": {
      "text/html": [
       "<div>\n",
       "<style scoped>\n",
       "    .dataframe tbody tr th:only-of-type {\n",
       "        vertical-align: middle;\n",
       "    }\n",
       "\n",
       "    .dataframe tbody tr th {\n",
       "        vertical-align: top;\n",
       "    }\n",
       "\n",
       "    .dataframe thead th {\n",
       "        text-align: right;\n",
       "    }\n",
       "</style>\n",
       "<table border=\"1\" class=\"dataframe\">\n",
       "  <thead>\n",
       "    <tr style=\"text-align: right;\">\n",
       "      <th></th>\n",
       "      <th>id</th>\n",
       "      <th>Machine failure</th>\n",
       "    </tr>\n",
       "  </thead>\n",
       "  <tbody>\n",
       "    <tr>\n",
       "      <th>0</th>\n",
       "      <td>136429</td>\n",
       "      <td>0.0</td>\n",
       "    </tr>\n",
       "    <tr>\n",
       "      <th>1</th>\n",
       "      <td>136430</td>\n",
       "      <td>0.0</td>\n",
       "    </tr>\n",
       "    <tr>\n",
       "      <th>2</th>\n",
       "      <td>136431</td>\n",
       "      <td>0.0</td>\n",
       "    </tr>\n",
       "    <tr>\n",
       "      <th>3</th>\n",
       "      <td>136432</td>\n",
       "      <td>0.0</td>\n",
       "    </tr>\n",
       "    <tr>\n",
       "      <th>4</th>\n",
       "      <td>136433</td>\n",
       "      <td>0.0</td>\n",
       "    </tr>\n",
       "    <tr>\n",
       "      <th>...</th>\n",
       "      <td>...</td>\n",
       "      <td>...</td>\n",
       "    </tr>\n",
       "    <tr>\n",
       "      <th>90949</th>\n",
       "      <td>227378</td>\n",
       "      <td>0.0</td>\n",
       "    </tr>\n",
       "    <tr>\n",
       "      <th>90950</th>\n",
       "      <td>227379</td>\n",
       "      <td>0.0</td>\n",
       "    </tr>\n",
       "    <tr>\n",
       "      <th>90951</th>\n",
       "      <td>227380</td>\n",
       "      <td>0.0</td>\n",
       "    </tr>\n",
       "    <tr>\n",
       "      <th>90952</th>\n",
       "      <td>227381</td>\n",
       "      <td>0.0</td>\n",
       "    </tr>\n",
       "    <tr>\n",
       "      <th>90953</th>\n",
       "      <td>227382</td>\n",
       "      <td>0.0</td>\n",
       "    </tr>\n",
       "  </tbody>\n",
       "</table>\n",
       "<p>90954 rows × 2 columns</p>\n",
       "</div>"
      ],
      "text/plain": [
       "           id  Machine failure\n",
       "0      136429              0.0\n",
       "1      136430              0.0\n",
       "2      136431              0.0\n",
       "3      136432              0.0\n",
       "4      136433              0.0\n",
       "...       ...              ...\n",
       "90949  227378              0.0\n",
       "90950  227379              0.0\n",
       "90951  227380              0.0\n",
       "90952  227381              0.0\n",
       "90953  227382              0.0\n",
       "\n",
       "[90954 rows x 2 columns]"
      ]
     },
     "execution_count": 29,
     "metadata": {},
     "output_type": "execute_result"
    }
   ],
   "source": [
    "submission = pd.DataFrame({'id':id_test, 'Machine failure':pred[:, 1]})\n",
    "submission"
   ]
  },
  {
   "cell_type": "code",
   "execution_count": 30,
   "id": "17905fe3",
   "metadata": {
    "execution": {
     "iopub.execute_input": "2023-06-22T04:42:24.113062Z",
     "iopub.status.busy": "2023-06-22T04:42:24.112434Z",
     "iopub.status.idle": "2023-06-22T04:42:24.389273Z",
     "shell.execute_reply": "2023-06-22T04:42:24.387882Z"
    },
    "papermill": {
     "duration": 0.299835,
     "end_time": "2023-06-22T04:42:24.392645",
     "exception": false,
     "start_time": "2023-06-22T04:42:24.092810",
     "status": "completed"
    },
    "tags": []
   },
   "outputs": [],
   "source": [
    "submission.to_csv('submission.csv', index = False)"
   ]
  },
  {
   "cell_type": "code",
   "execution_count": null,
   "id": "c65ad54b",
   "metadata": {
    "papermill": {
     "duration": 0.018903,
     "end_time": "2023-06-22T04:42:24.433364",
     "exception": false,
     "start_time": "2023-06-22T04:42:24.414461",
     "status": "completed"
    },
    "tags": []
   },
   "outputs": [],
   "source": []
  }
 ],
 "metadata": {
  "kernelspec": {
   "display_name": "Python 3",
   "language": "python",
   "name": "python3"
  },
  "language_info": {
   "codemirror_mode": {
    "name": "ipython",
    "version": 3
   },
   "file_extension": ".py",
   "mimetype": "text/x-python",
   "name": "python",
   "nbconvert_exporter": "python",
   "pygments_lexer": "ipython3",
   "version": "3.10.10"
  },
  "papermill": {
   "default_parameters": {},
   "duration": 2864.529546,
   "end_time": "2023-06-22T04:42:25.686023",
   "environment_variables": {},
   "exception": null,
   "input_path": "__notebook__.ipynb",
   "output_path": "__notebook__.ipynb",
   "parameters": {},
   "start_time": "2023-06-22T03:54:41.156477",
   "version": "2.4.0"
  }
 },
 "nbformat": 4,
 "nbformat_minor": 5
}
